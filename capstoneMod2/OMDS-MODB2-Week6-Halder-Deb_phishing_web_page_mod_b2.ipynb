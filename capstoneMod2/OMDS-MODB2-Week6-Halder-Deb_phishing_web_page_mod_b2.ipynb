{
 "cells": [
  {
   "metadata": {},
   "cell_type": "markdown",
   "source": "",
   "id": "68edbf0d632d1d6a"
  },
  {
   "metadata": {},
   "cell_type": "markdown",
   "source": [
    "### Conclusions  - web_page_dataset_phishing:\n",
    "\n",
    "The dataset is available in https://www.kaggle.com/datasets/shashwatwork/web-page-phishing-detection-dataset\n",
    "\n",
    "\n",
    "- Explain what conclusions you would draw from this analysis: are the data what you expect?  Are the data likely to be usable?  If the data are not useable, find some new data!\n",
    "\n",
    "  This is a very good dataset and is highly usable for doing the phishing related EDA and we can build models to identify fraudulent /phishing websites based on the features provided\n",
    "\n",
    "- Do you see any outliers?  (Data points that are far from the rest of the data).\n",
    "\n",
    "  Based on the Box Plot and Violin plot we can clearly see the outliers in multiple features like nb_slash , nb_hyphen , nb_dots and many other\n",
    "\n",
    "- Are any data items highly correlated with each other, suggesting that they are redundant?\n",
    "\n",
    "  There are multiple pairs of features where correlation values were very high like longest_words_raw & longest_word_path pair (0.92 correlation factor) , nb_and & nb_eq pair (0.86). There are many more and that gives us the opportunity to do feature reduction\n",
    "\n",
    "- For the line plots, do you see a trend or pattern over time?  Does this suggest that the data are changing over time (drifting) in such a way as to invalidate comparisons?\n",
    "\n",
    "  This Phishing dataset did not have any date in the features so we will not be able to comment\n",
    "\n",
    "- Can you think of any confounding variables?  (Third variables that could explain any correlations between other variables.  These third variables may or may not be reported in the dataset.)\n",
    "\n",
    "  No we could not find any confounding variable right now"
   ],
   "id": "22dd900cfefc94f2"
  },
  {
   "cell_type": "code",
   "id": "initial_id",
   "metadata": {
    "collapsed": true,
    "ExecuteTime": {
     "end_time": "2025-04-17T04:14:57.639338Z",
     "start_time": "2025-04-17T04:14:57.631487Z"
    }
   },
   "source": [
    "import numpy as np\n",
    "import matplotlib.pyplot as plt\n",
    "import pandas as pd\n",
    "import seaborn as sns\n",
    "import os\n"
   ],
   "outputs": [],
   "execution_count": 74
  },
  {
   "metadata": {
    "ExecuteTime": {
     "end_time": "2025-04-17T04:14:57.734652Z",
     "start_time": "2025-04-17T04:14:57.669725Z"
    }
   },
   "cell_type": "code",
   "source": [
    "#import dataset file \"web_page_dataset_phishing.csv\" from folder./Phishing_data\n",
    "path = './dataset/'\n",
    "os.listdir(path)\n",
    "\n",
    "#first open the two datasets related to phishing_website and phishing_email\n",
    "\n",
    "df_phishing_website_data=pd.read_csv(path+'web_page_dataset_phishing.csv')"
   ],
   "id": "62feb3eb88677602",
   "outputs": [],
   "execution_count": 75
  },
  {
   "metadata": {
    "ExecuteTime": {
     "end_time": "2025-04-17T04:14:57.748514Z",
     "start_time": "2025-04-17T04:14:57.741065Z"
    }
   },
   "cell_type": "code",
   "source": "df_phishing_website_data.shape",
   "id": "58b770bbae10d3f8",
   "outputs": [
    {
     "data": {
      "text/plain": [
       "(11430, 89)"
      ]
     },
     "execution_count": 76,
     "metadata": {},
     "output_type": "execute_result"
    }
   ],
   "execution_count": 76
  },
  {
   "metadata": {
    "ExecuteTime": {
     "end_time": "2025-04-17T04:14:57.836448Z",
     "start_time": "2025-04-17T04:14:57.827275Z"
    }
   },
   "cell_type": "code",
   "source": "df_phishing_website_data.info()",
   "id": "a5221782565a053c",
   "outputs": [
    {
     "name": "stdout",
     "output_type": "stream",
     "text": [
      "<class 'pandas.core.frame.DataFrame'>\n",
      "RangeIndex: 11430 entries, 0 to 11429\n",
      "Data columns (total 89 columns):\n",
      " #   Column                      Non-Null Count  Dtype  \n",
      "---  ------                      --------------  -----  \n",
      " 0   url                         11430 non-null  object \n",
      " 1   length_url                  11430 non-null  int64  \n",
      " 2   length_hostname             11430 non-null  int64  \n",
      " 3   ip                          11430 non-null  int64  \n",
      " 4   nb_dots                     11430 non-null  int64  \n",
      " 5   nb_hyphens                  11430 non-null  int64  \n",
      " 6   nb_at                       11430 non-null  int64  \n",
      " 7   nb_qm                       11430 non-null  int64  \n",
      " 8   nb_and                      11430 non-null  int64  \n",
      " 9   nb_or                       11430 non-null  int64  \n",
      " 10  nb_eq                       11430 non-null  int64  \n",
      " 11  nb_underscore               11430 non-null  int64  \n",
      " 12  nb_tilde                    11430 non-null  int64  \n",
      " 13  nb_percent                  11430 non-null  int64  \n",
      " 14  nb_slash                    11430 non-null  int64  \n",
      " 15  nb_star                     11430 non-null  int64  \n",
      " 16  nb_colon                    11430 non-null  int64  \n",
      " 17  nb_comma                    11430 non-null  int64  \n",
      " 18  nb_semicolumn               11430 non-null  int64  \n",
      " 19  nb_dollar                   11430 non-null  int64  \n",
      " 20  nb_space                    11430 non-null  int64  \n",
      " 21  nb_www                      11430 non-null  int64  \n",
      " 22  nb_com                      11430 non-null  int64  \n",
      " 23  nb_dslash                   11430 non-null  int64  \n",
      " 24  http_in_path                11430 non-null  int64  \n",
      " 25  https_token                 11430 non-null  int64  \n",
      " 26  ratio_digits_url            11430 non-null  float64\n",
      " 27  ratio_digits_host           11430 non-null  float64\n",
      " 28  punycode                    11430 non-null  int64  \n",
      " 29  port                        11430 non-null  int64  \n",
      " 30  tld_in_path                 11430 non-null  int64  \n",
      " 31  tld_in_subdomain            11430 non-null  int64  \n",
      " 32  abnormal_subdomain          11430 non-null  int64  \n",
      " 33  nb_subdomains               11430 non-null  int64  \n",
      " 34  prefix_suffix               11430 non-null  int64  \n",
      " 35  random_domain               11430 non-null  int64  \n",
      " 36  shortening_service          11430 non-null  int64  \n",
      " 37  path_extension              11430 non-null  int64  \n",
      " 38  nb_redirection              11430 non-null  int64  \n",
      " 39  nb_external_redirection     11430 non-null  int64  \n",
      " 40  length_words_raw            11430 non-null  int64  \n",
      " 41  char_repeat                 11430 non-null  int64  \n",
      " 42  shortest_words_raw          11430 non-null  int64  \n",
      " 43  shortest_word_host          11430 non-null  int64  \n",
      " 44  shortest_word_path          11430 non-null  int64  \n",
      " 45  longest_words_raw           11430 non-null  int64  \n",
      " 46  longest_word_host           11430 non-null  int64  \n",
      " 47  longest_word_path           11430 non-null  int64  \n",
      " 48  avg_words_raw               11430 non-null  float64\n",
      " 49  avg_word_host               11430 non-null  float64\n",
      " 50  avg_word_path               11430 non-null  float64\n",
      " 51  phish_hints                 11430 non-null  int64  \n",
      " 52  domain_in_brand             11430 non-null  int64  \n",
      " 53  brand_in_subdomain          11430 non-null  int64  \n",
      " 54  brand_in_path               11430 non-null  int64  \n",
      " 55  suspecious_tld              11430 non-null  int64  \n",
      " 56  statistical_report          11430 non-null  int64  \n",
      " 57  nb_hyperlinks               11430 non-null  int64  \n",
      " 58  ratio_intHyperlinks         11430 non-null  float64\n",
      " 59  ratio_extHyperlinks         11430 non-null  float64\n",
      " 60  ratio_nullHyperlinks        11430 non-null  int64  \n",
      " 61  nb_extCSS                   11430 non-null  int64  \n",
      " 62  ratio_intRedirection        11430 non-null  int64  \n",
      " 63  ratio_extRedirection        11430 non-null  float64\n",
      " 64  ratio_intErrors             11430 non-null  int64  \n",
      " 65  ratio_extErrors             11430 non-null  float64\n",
      " 66  login_form                  11430 non-null  int64  \n",
      " 67  external_favicon            11430 non-null  int64  \n",
      " 68  links_in_tags               11430 non-null  float64\n",
      " 69  submit_email                11430 non-null  int64  \n",
      " 70  ratio_intMedia              11430 non-null  float64\n",
      " 71  ratio_extMedia              11430 non-null  float64\n",
      " 72  sfh                         11430 non-null  int64  \n",
      " 73  iframe                      11430 non-null  int64  \n",
      " 74  popup_window                11430 non-null  int64  \n",
      " 75  safe_anchor                 11430 non-null  float64\n",
      " 76  onmouseover                 11430 non-null  int64  \n",
      " 77  right_clic                  11430 non-null  int64  \n",
      " 78  empty_title                 11430 non-null  int64  \n",
      " 79  domain_in_title             11430 non-null  int64  \n",
      " 80  domain_with_copyright       11430 non-null  int64  \n",
      " 81  whois_registered_domain     11430 non-null  int64  \n",
      " 82  domain_registration_length  11430 non-null  int64  \n",
      " 83  domain_age                  11430 non-null  int64  \n",
      " 84  web_traffic                 11430 non-null  int64  \n",
      " 85  dns_record                  11430 non-null  int64  \n",
      " 86  google_index                11430 non-null  int64  \n",
      " 87  page_rank                   11430 non-null  int64  \n",
      " 88  status                      11430 non-null  object \n",
      "dtypes: float64(13), int64(74), object(2)\n",
      "memory usage: 7.8+ MB\n"
     ]
    }
   ],
   "execution_count": 77
  },
  {
   "metadata": {},
   "cell_type": "markdown",
   "source": "#### Of the 88 columns we have two columns which are neither int or float ie status and url",
   "id": "cc2a9f4aca5b752c"
  },
  {
   "metadata": {
    "ExecuteTime": {
     "end_time": "2025-04-17T04:14:58.038189Z",
     "start_time": "2025-04-17T04:14:57.885103Z"
    }
   },
   "cell_type": "code",
   "source": "df_phishing_website_data.describe()",
   "id": "4ee30ccf10495b3a",
   "outputs": [
    {
     "data": {
      "text/plain": [
       "         length_url  length_hostname            ip       nb_dots  \\\n",
       "count  11430.000000     11430.000000  11430.000000  11430.000000   \n",
       "mean      61.126684        21.090289      0.150569      2.480752   \n",
       "std       55.297318        10.777171      0.357644      1.369686   \n",
       "min       12.000000         4.000000      0.000000      1.000000   \n",
       "25%       33.000000        15.000000      0.000000      2.000000   \n",
       "50%       47.000000        19.000000      0.000000      2.000000   \n",
       "75%       71.000000        24.000000      0.000000      3.000000   \n",
       "max     1641.000000       214.000000      1.000000     24.000000   \n",
       "\n",
       "         nb_hyphens         nb_at         nb_qm        nb_and    nb_or  \\\n",
       "count  11430.000000  11430.000000  11430.000000  11430.000000  11430.0   \n",
       "mean       0.997550      0.022222      0.141207      0.162292      0.0   \n",
       "std        2.087087      0.155500      0.364456      0.821337      0.0   \n",
       "min        0.000000      0.000000      0.000000      0.000000      0.0   \n",
       "25%        0.000000      0.000000      0.000000      0.000000      0.0   \n",
       "50%        0.000000      0.000000      0.000000      0.000000      0.0   \n",
       "75%        1.000000      0.000000      0.000000      0.000000      0.0   \n",
       "max       43.000000      4.000000      3.000000     19.000000      0.0   \n",
       "\n",
       "              nb_eq  ...   empty_title  domain_in_title  \\\n",
       "count  11430.000000  ...  11430.000000     11430.000000   \n",
       "mean       0.293176  ...      0.124759         0.775853   \n",
       "std        0.998317  ...      0.330460         0.417038   \n",
       "min        0.000000  ...      0.000000         0.000000   \n",
       "25%        0.000000  ...      0.000000         1.000000   \n",
       "50%        0.000000  ...      0.000000         1.000000   \n",
       "75%        0.000000  ...      0.000000         1.000000   \n",
       "max       19.000000  ...      1.000000         1.000000   \n",
       "\n",
       "       domain_with_copyright  whois_registered_domain  \\\n",
       "count           11430.000000             11430.000000   \n",
       "mean                0.439545                 0.072878   \n",
       "std                 0.496353                 0.259948   \n",
       "min                 0.000000                 0.000000   \n",
       "25%                 0.000000                 0.000000   \n",
       "50%                 0.000000                 0.000000   \n",
       "75%                 1.000000                 0.000000   \n",
       "max                 1.000000                 1.000000   \n",
       "\n",
       "       domain_registration_length    domain_age   web_traffic    dns_record  \\\n",
       "count                11430.000000  11430.000000  1.143000e+04  11430.000000   \n",
       "mean                   492.532196   4062.543745  8.567566e+05      0.020122   \n",
       "std                    814.769415   3107.784600  1.995606e+06      0.140425   \n",
       "min                     -1.000000    -12.000000  0.000000e+00      0.000000   \n",
       "25%                     84.000000    972.250000  0.000000e+00      0.000000   \n",
       "50%                    242.000000   3993.000000  1.651000e+03      0.000000   \n",
       "75%                    449.000000   7026.750000  3.738455e+05      0.000000   \n",
       "max                  29829.000000  12874.000000  1.076799e+07      1.000000   \n",
       "\n",
       "       google_index     page_rank  \n",
       "count  11430.000000  11430.000000  \n",
       "mean       0.533946      3.185739  \n",
       "std        0.498868      2.536955  \n",
       "min        0.000000      0.000000  \n",
       "25%        0.000000      1.000000  \n",
       "50%        1.000000      3.000000  \n",
       "75%        1.000000      5.000000  \n",
       "max        1.000000     10.000000  \n",
       "\n",
       "[8 rows x 87 columns]"
      ],
      "text/html": [
       "<div>\n",
       "<style scoped>\n",
       "    .dataframe tbody tr th:only-of-type {\n",
       "        vertical-align: middle;\n",
       "    }\n",
       "\n",
       "    .dataframe tbody tr th {\n",
       "        vertical-align: top;\n",
       "    }\n",
       "\n",
       "    .dataframe thead th {\n",
       "        text-align: right;\n",
       "    }\n",
       "</style>\n",
       "<table border=\"1\" class=\"dataframe\">\n",
       "  <thead>\n",
       "    <tr style=\"text-align: right;\">\n",
       "      <th></th>\n",
       "      <th>length_url</th>\n",
       "      <th>length_hostname</th>\n",
       "      <th>ip</th>\n",
       "      <th>nb_dots</th>\n",
       "      <th>nb_hyphens</th>\n",
       "      <th>nb_at</th>\n",
       "      <th>nb_qm</th>\n",
       "      <th>nb_and</th>\n",
       "      <th>nb_or</th>\n",
       "      <th>nb_eq</th>\n",
       "      <th>...</th>\n",
       "      <th>empty_title</th>\n",
       "      <th>domain_in_title</th>\n",
       "      <th>domain_with_copyright</th>\n",
       "      <th>whois_registered_domain</th>\n",
       "      <th>domain_registration_length</th>\n",
       "      <th>domain_age</th>\n",
       "      <th>web_traffic</th>\n",
       "      <th>dns_record</th>\n",
       "      <th>google_index</th>\n",
       "      <th>page_rank</th>\n",
       "    </tr>\n",
       "  </thead>\n",
       "  <tbody>\n",
       "    <tr>\n",
       "      <th>count</th>\n",
       "      <td>11430.000000</td>\n",
       "      <td>11430.000000</td>\n",
       "      <td>11430.000000</td>\n",
       "      <td>11430.000000</td>\n",
       "      <td>11430.000000</td>\n",
       "      <td>11430.000000</td>\n",
       "      <td>11430.000000</td>\n",
       "      <td>11430.000000</td>\n",
       "      <td>11430.0</td>\n",
       "      <td>11430.000000</td>\n",
       "      <td>...</td>\n",
       "      <td>11430.000000</td>\n",
       "      <td>11430.000000</td>\n",
       "      <td>11430.000000</td>\n",
       "      <td>11430.000000</td>\n",
       "      <td>11430.000000</td>\n",
       "      <td>11430.000000</td>\n",
       "      <td>1.143000e+04</td>\n",
       "      <td>11430.000000</td>\n",
       "      <td>11430.000000</td>\n",
       "      <td>11430.000000</td>\n",
       "    </tr>\n",
       "    <tr>\n",
       "      <th>mean</th>\n",
       "      <td>61.126684</td>\n",
       "      <td>21.090289</td>\n",
       "      <td>0.150569</td>\n",
       "      <td>2.480752</td>\n",
       "      <td>0.997550</td>\n",
       "      <td>0.022222</td>\n",
       "      <td>0.141207</td>\n",
       "      <td>0.162292</td>\n",
       "      <td>0.0</td>\n",
       "      <td>0.293176</td>\n",
       "      <td>...</td>\n",
       "      <td>0.124759</td>\n",
       "      <td>0.775853</td>\n",
       "      <td>0.439545</td>\n",
       "      <td>0.072878</td>\n",
       "      <td>492.532196</td>\n",
       "      <td>4062.543745</td>\n",
       "      <td>8.567566e+05</td>\n",
       "      <td>0.020122</td>\n",
       "      <td>0.533946</td>\n",
       "      <td>3.185739</td>\n",
       "    </tr>\n",
       "    <tr>\n",
       "      <th>std</th>\n",
       "      <td>55.297318</td>\n",
       "      <td>10.777171</td>\n",
       "      <td>0.357644</td>\n",
       "      <td>1.369686</td>\n",
       "      <td>2.087087</td>\n",
       "      <td>0.155500</td>\n",
       "      <td>0.364456</td>\n",
       "      <td>0.821337</td>\n",
       "      <td>0.0</td>\n",
       "      <td>0.998317</td>\n",
       "      <td>...</td>\n",
       "      <td>0.330460</td>\n",
       "      <td>0.417038</td>\n",
       "      <td>0.496353</td>\n",
       "      <td>0.259948</td>\n",
       "      <td>814.769415</td>\n",
       "      <td>3107.784600</td>\n",
       "      <td>1.995606e+06</td>\n",
       "      <td>0.140425</td>\n",
       "      <td>0.498868</td>\n",
       "      <td>2.536955</td>\n",
       "    </tr>\n",
       "    <tr>\n",
       "      <th>min</th>\n",
       "      <td>12.000000</td>\n",
       "      <td>4.000000</td>\n",
       "      <td>0.000000</td>\n",
       "      <td>1.000000</td>\n",
       "      <td>0.000000</td>\n",
       "      <td>0.000000</td>\n",
       "      <td>0.000000</td>\n",
       "      <td>0.000000</td>\n",
       "      <td>0.0</td>\n",
       "      <td>0.000000</td>\n",
       "      <td>...</td>\n",
       "      <td>0.000000</td>\n",
       "      <td>0.000000</td>\n",
       "      <td>0.000000</td>\n",
       "      <td>0.000000</td>\n",
       "      <td>-1.000000</td>\n",
       "      <td>-12.000000</td>\n",
       "      <td>0.000000e+00</td>\n",
       "      <td>0.000000</td>\n",
       "      <td>0.000000</td>\n",
       "      <td>0.000000</td>\n",
       "    </tr>\n",
       "    <tr>\n",
       "      <th>25%</th>\n",
       "      <td>33.000000</td>\n",
       "      <td>15.000000</td>\n",
       "      <td>0.000000</td>\n",
       "      <td>2.000000</td>\n",
       "      <td>0.000000</td>\n",
       "      <td>0.000000</td>\n",
       "      <td>0.000000</td>\n",
       "      <td>0.000000</td>\n",
       "      <td>0.0</td>\n",
       "      <td>0.000000</td>\n",
       "      <td>...</td>\n",
       "      <td>0.000000</td>\n",
       "      <td>1.000000</td>\n",
       "      <td>0.000000</td>\n",
       "      <td>0.000000</td>\n",
       "      <td>84.000000</td>\n",
       "      <td>972.250000</td>\n",
       "      <td>0.000000e+00</td>\n",
       "      <td>0.000000</td>\n",
       "      <td>0.000000</td>\n",
       "      <td>1.000000</td>\n",
       "    </tr>\n",
       "    <tr>\n",
       "      <th>50%</th>\n",
       "      <td>47.000000</td>\n",
       "      <td>19.000000</td>\n",
       "      <td>0.000000</td>\n",
       "      <td>2.000000</td>\n",
       "      <td>0.000000</td>\n",
       "      <td>0.000000</td>\n",
       "      <td>0.000000</td>\n",
       "      <td>0.000000</td>\n",
       "      <td>0.0</td>\n",
       "      <td>0.000000</td>\n",
       "      <td>...</td>\n",
       "      <td>0.000000</td>\n",
       "      <td>1.000000</td>\n",
       "      <td>0.000000</td>\n",
       "      <td>0.000000</td>\n",
       "      <td>242.000000</td>\n",
       "      <td>3993.000000</td>\n",
       "      <td>1.651000e+03</td>\n",
       "      <td>0.000000</td>\n",
       "      <td>1.000000</td>\n",
       "      <td>3.000000</td>\n",
       "    </tr>\n",
       "    <tr>\n",
       "      <th>75%</th>\n",
       "      <td>71.000000</td>\n",
       "      <td>24.000000</td>\n",
       "      <td>0.000000</td>\n",
       "      <td>3.000000</td>\n",
       "      <td>1.000000</td>\n",
       "      <td>0.000000</td>\n",
       "      <td>0.000000</td>\n",
       "      <td>0.000000</td>\n",
       "      <td>0.0</td>\n",
       "      <td>0.000000</td>\n",
       "      <td>...</td>\n",
       "      <td>0.000000</td>\n",
       "      <td>1.000000</td>\n",
       "      <td>1.000000</td>\n",
       "      <td>0.000000</td>\n",
       "      <td>449.000000</td>\n",
       "      <td>7026.750000</td>\n",
       "      <td>3.738455e+05</td>\n",
       "      <td>0.000000</td>\n",
       "      <td>1.000000</td>\n",
       "      <td>5.000000</td>\n",
       "    </tr>\n",
       "    <tr>\n",
       "      <th>max</th>\n",
       "      <td>1641.000000</td>\n",
       "      <td>214.000000</td>\n",
       "      <td>1.000000</td>\n",
       "      <td>24.000000</td>\n",
       "      <td>43.000000</td>\n",
       "      <td>4.000000</td>\n",
       "      <td>3.000000</td>\n",
       "      <td>19.000000</td>\n",
       "      <td>0.0</td>\n",
       "      <td>19.000000</td>\n",
       "      <td>...</td>\n",
       "      <td>1.000000</td>\n",
       "      <td>1.000000</td>\n",
       "      <td>1.000000</td>\n",
       "      <td>1.000000</td>\n",
       "      <td>29829.000000</td>\n",
       "      <td>12874.000000</td>\n",
       "      <td>1.076799e+07</td>\n",
       "      <td>1.000000</td>\n",
       "      <td>1.000000</td>\n",
       "      <td>10.000000</td>\n",
       "    </tr>\n",
       "  </tbody>\n",
       "</table>\n",
       "<p>8 rows × 87 columns</p>\n",
       "</div>"
      ]
     },
     "execution_count": 78,
     "metadata": {},
     "output_type": "execute_result"
    }
   ],
   "execution_count": 78
  },
  {
   "metadata": {
    "ExecuteTime": {
     "end_time": "2025-04-17T04:14:58.150016Z",
     "start_time": "2025-04-17T04:14:58.135650Z"
    }
   },
   "cell_type": "code",
   "source": [
    "#lets us check for null values\n",
    "df_phishing_website_data.isnull().sum()"
   ],
   "id": "5e51a39b4bf1164c",
   "outputs": [
    {
     "data": {
      "text/plain": [
       "url                0\n",
       "length_url         0\n",
       "length_hostname    0\n",
       "ip                 0\n",
       "nb_dots            0\n",
       "                  ..\n",
       "web_traffic        0\n",
       "dns_record         0\n",
       "google_index       0\n",
       "page_rank          0\n",
       "status             0\n",
       "Length: 89, dtype: int64"
      ]
     },
     "execution_count": 79,
     "metadata": {},
     "output_type": "execute_result"
    }
   ],
   "execution_count": 79
  },
  {
   "metadata": {
    "ExecuteTime": {
     "end_time": "2025-04-17T04:14:58.259323Z",
     "start_time": "2025-04-17T04:14:58.250704Z"
    }
   },
   "cell_type": "code",
   "source": [
    "# let us check if there are any rows with null values\n",
    "df_phishing_website_data[df_phishing_website_data.isnull().any(axis=1)]\n"
   ],
   "id": "c5ee1e0482236294",
   "outputs": [
    {
     "data": {
      "text/plain": [
       "Empty DataFrame\n",
       "Columns: [url, length_url, length_hostname, ip, nb_dots, nb_hyphens, nb_at, nb_qm, nb_and, nb_or, nb_eq, nb_underscore, nb_tilde, nb_percent, nb_slash, nb_star, nb_colon, nb_comma, nb_semicolumn, nb_dollar, nb_space, nb_www, nb_com, nb_dslash, http_in_path, https_token, ratio_digits_url, ratio_digits_host, punycode, port, tld_in_path, tld_in_subdomain, abnormal_subdomain, nb_subdomains, prefix_suffix, random_domain, shortening_service, path_extension, nb_redirection, nb_external_redirection, length_words_raw, char_repeat, shortest_words_raw, shortest_word_host, shortest_word_path, longest_words_raw, longest_word_host, longest_word_path, avg_words_raw, avg_word_host, avg_word_path, phish_hints, domain_in_brand, brand_in_subdomain, brand_in_path, suspecious_tld, statistical_report, nb_hyperlinks, ratio_intHyperlinks, ratio_extHyperlinks, ratio_nullHyperlinks, nb_extCSS, ratio_intRedirection, ratio_extRedirection, ratio_intErrors, ratio_extErrors, login_form, external_favicon, links_in_tags, submit_email, ratio_intMedia, ratio_extMedia, sfh, iframe, popup_window, safe_anchor, onmouseover, right_clic, empty_title, domain_in_title, domain_with_copyright, whois_registered_domain, domain_registration_length, domain_age, web_traffic, dns_record, google_index, page_rank, status]\n",
       "Index: []\n",
       "\n",
       "[0 rows x 89 columns]"
      ],
      "text/html": [
       "<div>\n",
       "<style scoped>\n",
       "    .dataframe tbody tr th:only-of-type {\n",
       "        vertical-align: middle;\n",
       "    }\n",
       "\n",
       "    .dataframe tbody tr th {\n",
       "        vertical-align: top;\n",
       "    }\n",
       "\n",
       "    .dataframe thead th {\n",
       "        text-align: right;\n",
       "    }\n",
       "</style>\n",
       "<table border=\"1\" class=\"dataframe\">\n",
       "  <thead>\n",
       "    <tr style=\"text-align: right;\">\n",
       "      <th></th>\n",
       "      <th>url</th>\n",
       "      <th>length_url</th>\n",
       "      <th>length_hostname</th>\n",
       "      <th>ip</th>\n",
       "      <th>nb_dots</th>\n",
       "      <th>nb_hyphens</th>\n",
       "      <th>nb_at</th>\n",
       "      <th>nb_qm</th>\n",
       "      <th>nb_and</th>\n",
       "      <th>nb_or</th>\n",
       "      <th>...</th>\n",
       "      <th>domain_in_title</th>\n",
       "      <th>domain_with_copyright</th>\n",
       "      <th>whois_registered_domain</th>\n",
       "      <th>domain_registration_length</th>\n",
       "      <th>domain_age</th>\n",
       "      <th>web_traffic</th>\n",
       "      <th>dns_record</th>\n",
       "      <th>google_index</th>\n",
       "      <th>page_rank</th>\n",
       "      <th>status</th>\n",
       "    </tr>\n",
       "  </thead>\n",
       "  <tbody>\n",
       "  </tbody>\n",
       "</table>\n",
       "<p>0 rows × 89 columns</p>\n",
       "</div>"
      ]
     },
     "execution_count": 80,
     "metadata": {},
     "output_type": "execute_result"
    }
   ],
   "execution_count": 80
  },
  {
   "metadata": {},
   "cell_type": "markdown",
   "source": "#### There are no rows with null values",
   "id": "1beda6af5416c21b"
  },
  {
   "metadata": {
    "ExecuteTime": {
     "end_time": "2025-04-17T04:14:58.452815Z",
     "start_time": "2025-04-17T04:14:58.432275Z"
    }
   },
   "cell_type": "code",
   "source": [
    "#check if there are duplicate rows\n",
    "df_phishing_website_data.duplicated().sum()"
   ],
   "id": "6d1bd79f6234803a",
   "outputs": [
    {
     "data": {
      "text/plain": [
       "np.int64(0)"
      ]
     },
     "execution_count": 81,
     "metadata": {},
     "output_type": "execute_result"
    }
   ],
   "execution_count": 81
  },
  {
   "metadata": {},
   "cell_type": "markdown",
   "source": "#### There are no duplicate rows",
   "id": "349a9b592689743c"
  },
  {
   "metadata": {
    "ExecuteTime": {
     "end_time": "2025-04-17T04:14:58.577140Z",
     "start_time": "2025-04-17T04:14:58.567869Z"
    }
   },
   "cell_type": "code",
   "source": [
    "#lets check how many unique values are there in status\n",
    "df_phishing_website_data['status'].unique()\n"
   ],
   "id": "7a649297611b0b09",
   "outputs": [
    {
     "data": {
      "text/plain": [
       "array(['legitimate', 'phishing'], dtype=object)"
      ]
     },
     "execution_count": 82,
     "metadata": {},
     "output_type": "execute_result"
    }
   ],
   "execution_count": 82
  },
  {
   "metadata": {
    "ExecuteTime": {
     "end_time": "2025-04-17T04:14:58.655161Z",
     "start_time": "2025-04-17T04:14:58.650695Z"
    }
   },
   "cell_type": "code",
   "source": "df_phishing_website_data['status'].value_counts()",
   "id": "92162f32ef264ad7",
   "outputs": [
    {
     "data": {
      "text/plain": [
       "status\n",
       "legitimate    5715\n",
       "phishing      5715\n",
       "Name: count, dtype: int64"
      ]
     },
     "execution_count": 83,
     "metadata": {},
     "output_type": "execute_result"
    }
   ],
   "execution_count": 83
  },
  {
   "metadata": {},
   "cell_type": "markdown",
   "source": "### The dataset is balanced dataset with equal number of legitimate and phishing site information",
   "id": "78e3af10680abf89"
  },
  {
   "metadata": {
    "ExecuteTime": {
     "end_time": "2025-04-17T04:14:58.717115Z",
     "start_time": "2025-04-17T04:14:58.713013Z"
    }
   },
   "cell_type": "code",
   "source": "",
   "id": "363ebb9a4c09ba97",
   "outputs": [],
   "execution_count": null
  },
  {
   "metadata": {
    "ExecuteTime": {
     "end_time": "2025-04-17T04:14:58.756731Z",
     "start_time": "2025-04-17T04:14:58.746261Z"
    }
   },
   "cell_type": "code",
   "source": [
    "#let us change the dtype of status to int where 0 is 'legitimate' and 1 is 'phishing'\n",
    "df_phishing_website_data['status'] = df_phishing_website_data['status'].apply(lambda x: 1 if x.split()[0] == 'phishing' else 0)\n",
    "df_phishing_website_data.info()\n"
   ],
   "id": "3995d388828adf92",
   "outputs": [
    {
     "name": "stdout",
     "output_type": "stream",
     "text": [
      "<class 'pandas.core.frame.DataFrame'>\n",
      "RangeIndex: 11430 entries, 0 to 11429\n",
      "Data columns (total 89 columns):\n",
      " #   Column                      Non-Null Count  Dtype  \n",
      "---  ------                      --------------  -----  \n",
      " 0   url                         11430 non-null  object \n",
      " 1   length_url                  11430 non-null  int64  \n",
      " 2   length_hostname             11430 non-null  int64  \n",
      " 3   ip                          11430 non-null  int64  \n",
      " 4   nb_dots                     11430 non-null  int64  \n",
      " 5   nb_hyphens                  11430 non-null  int64  \n",
      " 6   nb_at                       11430 non-null  int64  \n",
      " 7   nb_qm                       11430 non-null  int64  \n",
      " 8   nb_and                      11430 non-null  int64  \n",
      " 9   nb_or                       11430 non-null  int64  \n",
      " 10  nb_eq                       11430 non-null  int64  \n",
      " 11  nb_underscore               11430 non-null  int64  \n",
      " 12  nb_tilde                    11430 non-null  int64  \n",
      " 13  nb_percent                  11430 non-null  int64  \n",
      " 14  nb_slash                    11430 non-null  int64  \n",
      " 15  nb_star                     11430 non-null  int64  \n",
      " 16  nb_colon                    11430 non-null  int64  \n",
      " 17  nb_comma                    11430 non-null  int64  \n",
      " 18  nb_semicolumn               11430 non-null  int64  \n",
      " 19  nb_dollar                   11430 non-null  int64  \n",
      " 20  nb_space                    11430 non-null  int64  \n",
      " 21  nb_www                      11430 non-null  int64  \n",
      " 22  nb_com                      11430 non-null  int64  \n",
      " 23  nb_dslash                   11430 non-null  int64  \n",
      " 24  http_in_path                11430 non-null  int64  \n",
      " 25  https_token                 11430 non-null  int64  \n",
      " 26  ratio_digits_url            11430 non-null  float64\n",
      " 27  ratio_digits_host           11430 non-null  float64\n",
      " 28  punycode                    11430 non-null  int64  \n",
      " 29  port                        11430 non-null  int64  \n",
      " 30  tld_in_path                 11430 non-null  int64  \n",
      " 31  tld_in_subdomain            11430 non-null  int64  \n",
      " 32  abnormal_subdomain          11430 non-null  int64  \n",
      " 33  nb_subdomains               11430 non-null  int64  \n",
      " 34  prefix_suffix               11430 non-null  int64  \n",
      " 35  random_domain               11430 non-null  int64  \n",
      " 36  shortening_service          11430 non-null  int64  \n",
      " 37  path_extension              11430 non-null  int64  \n",
      " 38  nb_redirection              11430 non-null  int64  \n",
      " 39  nb_external_redirection     11430 non-null  int64  \n",
      " 40  length_words_raw            11430 non-null  int64  \n",
      " 41  char_repeat                 11430 non-null  int64  \n",
      " 42  shortest_words_raw          11430 non-null  int64  \n",
      " 43  shortest_word_host          11430 non-null  int64  \n",
      " 44  shortest_word_path          11430 non-null  int64  \n",
      " 45  longest_words_raw           11430 non-null  int64  \n",
      " 46  longest_word_host           11430 non-null  int64  \n",
      " 47  longest_word_path           11430 non-null  int64  \n",
      " 48  avg_words_raw               11430 non-null  float64\n",
      " 49  avg_word_host               11430 non-null  float64\n",
      " 50  avg_word_path               11430 non-null  float64\n",
      " 51  phish_hints                 11430 non-null  int64  \n",
      " 52  domain_in_brand             11430 non-null  int64  \n",
      " 53  brand_in_subdomain          11430 non-null  int64  \n",
      " 54  brand_in_path               11430 non-null  int64  \n",
      " 55  suspecious_tld              11430 non-null  int64  \n",
      " 56  statistical_report          11430 non-null  int64  \n",
      " 57  nb_hyperlinks               11430 non-null  int64  \n",
      " 58  ratio_intHyperlinks         11430 non-null  float64\n",
      " 59  ratio_extHyperlinks         11430 non-null  float64\n",
      " 60  ratio_nullHyperlinks        11430 non-null  int64  \n",
      " 61  nb_extCSS                   11430 non-null  int64  \n",
      " 62  ratio_intRedirection        11430 non-null  int64  \n",
      " 63  ratio_extRedirection        11430 non-null  float64\n",
      " 64  ratio_intErrors             11430 non-null  int64  \n",
      " 65  ratio_extErrors             11430 non-null  float64\n",
      " 66  login_form                  11430 non-null  int64  \n",
      " 67  external_favicon            11430 non-null  int64  \n",
      " 68  links_in_tags               11430 non-null  float64\n",
      " 69  submit_email                11430 non-null  int64  \n",
      " 70  ratio_intMedia              11430 non-null  float64\n",
      " 71  ratio_extMedia              11430 non-null  float64\n",
      " 72  sfh                         11430 non-null  int64  \n",
      " 73  iframe                      11430 non-null  int64  \n",
      " 74  popup_window                11430 non-null  int64  \n",
      " 75  safe_anchor                 11430 non-null  float64\n",
      " 76  onmouseover                 11430 non-null  int64  \n",
      " 77  right_clic                  11430 non-null  int64  \n",
      " 78  empty_title                 11430 non-null  int64  \n",
      " 79  domain_in_title             11430 non-null  int64  \n",
      " 80  domain_with_copyright       11430 non-null  int64  \n",
      " 81  whois_registered_domain     11430 non-null  int64  \n",
      " 82  domain_registration_length  11430 non-null  int64  \n",
      " 83  domain_age                  11430 non-null  int64  \n",
      " 84  web_traffic                 11430 non-null  int64  \n",
      " 85  dns_record                  11430 non-null  int64  \n",
      " 86  google_index                11430 non-null  int64  \n",
      " 87  page_rank                   11430 non-null  int64  \n",
      " 88  status                      11430 non-null  int64  \n",
      "dtypes: float64(13), int64(75), object(1)\n",
      "memory usage: 7.8+ MB\n"
     ]
    }
   ],
   "execution_count": 84
  },
  {
   "metadata": {
    "ExecuteTime": {
     "end_time": "2025-04-17T04:14:58.814533Z",
     "start_time": "2025-04-17T04:14:58.790812Z"
    }
   },
   "cell_type": "code",
   "source": [
    "#lets check count of unique values in url\n",
    "df_phishing_website_data['url'].unique().shape"
   ],
   "id": "7f44688895b69db8",
   "outputs": [
    {
     "data": {
      "text/plain": [
       "(11429,)"
      ]
     },
     "execution_count": 85,
     "metadata": {},
     "output_type": "execute_result"
    }
   ],
   "execution_count": 85
  },
  {
   "metadata": {
    "ExecuteTime": {
     "end_time": "2025-04-17T04:14:58.930362Z",
     "start_time": "2025-04-17T04:14:58.909862Z"
    }
   },
   "cell_type": "code",
   "source": [
    "# Create a random sample of 1000 rows while maintaining class balance\n",
    "def create_balanced_sample(df, sample_size=500, random_state=42):\n",
    "    # calculate the number of samples needed from each class\n",
    "    samples_per_class = sample_size // 2\n",
    "\n",
    "    # split the data by class\n",
    "    spam = df[df['status'] == 1]\n",
    "    non_spam = df[df['status'] == 0]\n",
    "\n",
    "    # sample equally from each class\n",
    "    spam_sample = spam.sample(n=samples_per_class, random_state=random_state)\n",
    "    non_spam_sample = non_spam.sample(n=samples_per_class, random_state=random_state)\n",
    "\n",
    "    # combine the samples\n",
    "    balanced_sample = pd.concat([spam_sample, non_spam_sample])\n",
    "\n",
    "    # chuffle the combined sample\n",
    "    balanced_sample = balanced_sample.sample(frac=1, random_state=random_state).reset_index(drop=True)\n",
    "\n",
    "    return balanced_sample\n",
    "\n",
    "# create the balanced sample\n",
    "sampled_df = create_balanced_sample(df_phishing_website_data, sample_size= 10000, random_state=39)\n",
    "\n",
    "# verify the sample\n",
    "print(\"Original dataset shape:\", df_phishing_website_data.shape)\n",
    "print(\"Sampled dataset shape:\", sampled_df.shape)\n",
    "print(\"\\nClass distribution in sample:\")\n",
    "print(sampled_df['status'].value_counts())\n",
    "\n",
    "# run the analysis on the sampled data\n",
    "#analyze_phishing_data(sampled_df)"
   ],
   "id": "b5ceace374ab5814",
   "outputs": [
    {
     "name": "stdout",
     "output_type": "stream",
     "text": [
      "Original dataset shape: (11430, 89)\n",
      "Sampled dataset shape: (10000, 89)\n",
      "\n",
      "Class distribution in sample:\n",
      "status\n",
      "0    5000\n",
      "1    5000\n",
      "Name: count, dtype: int64\n"
     ]
    }
   ],
   "execution_count": 86
  },
  {
   "metadata": {},
   "cell_type": "markdown",
   "source": "### we will not use the URL info as it looks to be unique URL and we see total 11429 unique urls\n",
   "id": "db6725d3c2cb3ac"
  },
  {
   "metadata": {
    "ExecuteTime": {
     "end_time": "2025-04-17T04:14:58.950395Z",
     "start_time": "2025-04-17T04:14:58.947176Z"
    }
   },
   "cell_type": "code",
   "source": [
    "# lets take the sampled df and drop the url column\n",
    "sampled_df=sampled_df.drop(columns=['url'])"
   ],
   "id": "7925ed59e7d3c3d8",
   "outputs": [],
   "execution_count": 87
  },
  {
   "metadata": {
    "ExecuteTime": {
     "end_time": "2025-04-17T04:14:58.973584Z",
     "start_time": "2025-04-17T04:14:58.970290Z"
    }
   },
   "cell_type": "code",
   "source": [
    "def remove_constant_columns(df):\n",
    "    return df.loc[:, (df != df.iloc[0]).any()]\n",
    "\n",
    "def perform_univariate_analysis(df):\n",
    "    # calculate number of rows and columns for subplots\n",
    "    n_features = len(df.columns)\n",
    "    n_cols = 2\n",
    "    n_rows = (n_features + n_cols - 1) // n_cols\n",
    "\n",
    "    # create figure with subplots\n",
    "    fig, axes = plt.subplots(n_rows, n_cols, figsize=(15, 6*n_rows))\n",
    "    fig.suptitle('Univariate Analysis of Features', fontsize=16, y=1.02)\n",
    "\n",
    "    # flatten axes array for easier iteration\n",
    "    axes = axes.flatten()\n",
    "\n",
    "    # create histograms and KDE plots for each feature\n",
    "    for idx, column in enumerate(df.columns):\n",
    "        # Histogram with KDE\n",
    "        sns.histplot(data=df, x=column, hue='status', multiple=\"stack\", kde=True, ax=axes[idx])\n",
    "        axes[idx].set_title(f'Distribution of {column}')\n",
    "        axes[idx].set_xlabel(column)\n",
    "        axes[idx].set_ylabel('Count')\n",
    "\n",
    "    # remove empty subplots if any\n",
    "    for idx in range(len(df.columns), len(axes)):\n",
    "        fig.delaxes(axes[idx])\n",
    "\n",
    "    plt.tight_layout()\n",
    "    plt.show()"
   ],
   "id": "7eb041dc8e1ea572",
   "outputs": [],
   "execution_count": 88
  },
  {
   "metadata": {
    "ExecuteTime": {
     "end_time": "2025-04-17T04:14:59.003055Z",
     "start_time": "2025-04-17T04:14:58.997756Z"
    }
   },
   "cell_type": "code",
   "source": [
    "# Method to do bivariate analysis\n",
    "\n",
    "def perform_bivariate_analysis(df):\n",
    "      # create correlation Matrix\n",
    "    plt.figure(figsize=(12, 8))\n",
    "    correlation_matrix = df.corr()\n",
    "    sns.heatmap(correlation_matrix,\n",
    "                annot=True,\n",
    "                cmap='magma',\n",
    "                center=0,\n",
    "                fmt='.2f',\n",
    "                square=True)\n",
    "    plt.title('Correlation Matrix of Features')\n",
    "    plt.tight_layout()\n",
    "    plt.show()\n",
    "\n",
    "    significant_correlations = create_correlation_df(correlation_matrix, threshold=0.5)\n",
    "    print(\"Significant Correlation values : \", significant_correlations)\n",
    "\n",
    "    # pairplot with KDE\n",
    "    #print(\"generating pairplot ...\")\n",
    "    #sns.pairplot(df, hue='status', diag_kind='kde')\n",
    "    #plt.show()\n",
    "\n",
    "    # violin plots\n",
    "    features = [col for col in df.columns if col != 'status']\n",
    "    n_features = len(features)\n",
    "    n_cols = 2\n",
    "    n_rows = (n_features + n_cols - 1) // n_cols\n",
    "\n",
    "    fig, axes = plt.subplots(n_rows, n_cols, figsize=(15, 6*n_rows))\n",
    "    fig.suptitle('Violin Plots by Status', fontsize=16, y=1.02)\n",
    "    axes = axes.flatten()\n",
    "\n",
    "    for idx, feature in enumerate(features):\n",
    "        sns.violinplot(data=df, x='status', y=feature, ax=axes[idx])\n",
    "        axes[idx].set_title(f'{feature} by Status')\n",
    "\n",
    "    # remove empty subplots\n",
    "    for idx in range(len(features), len(axes)):\n",
    "        fig.delaxes(axes[idx])\n",
    "\n",
    "    plt.tight_layout()\n",
    "    plt.show()\n",
    "\n",
    "    # generate box plots\n",
    "    fig, axes = plt.subplots(n_rows, n_cols, figsize=(15, 6*n_rows))\n",
    "    fig.suptitle('Box Plots by Status', fontsize=16, y=1.02)\n",
    "    axes = axes.flatten()\n",
    "\n",
    "    for idx, feature in enumerate(features):\n",
    "        sns.boxplot(data=df, x='status', y=feature, ax=axes[idx])\n",
    "        axes[idx].set_title(f'{feature} by Status')\n",
    "\n",
    "    # Remove empty subplots\n",
    "    for idx in range(len(features), len(axes)):\n",
    "        fig.delaxes(axes[idx])\n",
    "\n",
    "    plt.tight_layout()\n",
    "    plt.show()"
   ],
   "id": "bdf8b1bf69de649b",
   "outputs": [],
   "execution_count": 89
  },
  {
   "metadata": {
    "ExecuteTime": {
     "end_time": "2025-04-17T04:14:59.023633Z",
     "start_time": "2025-04-17T04:14:59.020578Z"
    }
   },
   "cell_type": "code",
   "source": [
    "def perform_kde_analysis(df):\n",
    "    features = [col for col in df.columns if col != 'status']\n",
    "    n_features = len(features)\n",
    "    n_cols = 2\n",
    "    n_rows = (n_features + n_cols - 1) // n_cols\n",
    "\n",
    "    fig, axes = plt.subplots(n_rows, n_cols, figsize=(15, 6*n_rows))\n",
    "    fig.suptitle('KDE Plots by Feature', fontsize=16, y=1.02)\n",
    "    axes = axes.flatten()\n",
    "\n",
    "    for idx, feature in enumerate(features):\n",
    "        sns.kdeplot(data=df, x=feature, hue='status', ax=axes[idx])\n",
    "        axes[idx].set_title(f'KDE Plot of {feature}')\n",
    "\n",
    "    # Remove empty subplots\n",
    "    for idx in range(len(features), len(axes)):\n",
    "        fig.delaxes(axes[idx])\n",
    "\n",
    "    plt.tight_layout()\n",
    "    plt.show()"
   ],
   "id": "b63fa97dced83618",
   "outputs": [],
   "execution_count": 90
  },
  {
   "metadata": {
    "ExecuteTime": {
     "end_time": "2025-04-17T04:14:59.043747Z",
     "start_time": "2025-04-17T04:14:59.041719Z"
    }
   },
   "cell_type": "code",
   "source": [
    "def analyze_phishing_data(df):\n",
    "\t#execute it in the below sequence\n",
    "\tprint(\"Performing Univariate Analysis...\")\n",
    "\tperform_univariate_analysis(df)\n",
    "\tprint(\"\\nPerforming Bivariate Analysis...\")\n",
    "\tperform_bivariate_analysis(df)\n",
    "\tprint(\"\\nPerforming KDE Analysis...\")\n",
    "\tperform_kde_analysis(df)"
   ],
   "id": "b9b89f6a3a3d41ec",
   "outputs": [],
   "execution_count": 91
  },
  {
   "metadata": {
    "ExecuteTime": {
     "end_time": "2025-04-17T04:14:59.060083Z",
     "start_time": "2025-04-17T04:14:59.053672Z"
    }
   },
   "cell_type": "code",
   "source": [
    "def analyze_phishing_web_Univariate_data(df):\n",
    "\tprint(\"Performing Univariate Analysis...\")\n",
    "\tperform_univariate_analysis(df)\n"
   ],
   "id": "57aba106aa7a1576",
   "outputs": [],
   "execution_count": 92
  },
  {
   "metadata": {
    "ExecuteTime": {
     "end_time": "2025-04-17T04:14:59.088182Z",
     "start_time": "2025-04-17T04:14:59.085863Z"
    }
   },
   "cell_type": "code",
   "source": [
    "def analyze_phishing_web_Bivariate_data(df):\n",
    "\tprint(\"\\nPerforming Bivariate Analysis...\")\n",
    "\tperform_bivariate_analysis(df)\n",
    "\tprint(\"\\nPerforming KDE Analysis...\")\n",
    "\tperform_kde_analysis(df)"
   ],
   "id": "c6bd1377a3d259d2",
   "outputs": [],
   "execution_count": 93
  },
  {
   "metadata": {
    "ExecuteTime": {
     "end_time": "2025-04-17T04:14:59.106610Z",
     "start_time": "2025-04-17T04:14:59.103821Z"
    }
   },
   "cell_type": "code",
   "source": [
    "def create_correlation_df(correlation_matrix, threshold=0.5):\n",
    "\n",
    "    #  creates a DataFrame of significant correlations.\n",
    "\n",
    "    correlations = []\n",
    "\n",
    "    for i in range(len(correlation_matrix.columns)):\n",
    "        for j in range(i + 1, len(correlation_matrix.columns)):\n",
    "            corr_value = correlation_matrix.iloc[i, j]\n",
    "            if abs(corr_value) >= threshold:\n",
    "                correlations.append({\n",
    "                    'Feature 1': correlation_matrix.columns[i],\n",
    "                    'Feature 2': correlation_matrix.columns[j],\n",
    "                    'Correlation': corr_value\n",
    "                })\n",
    "\n",
    "    corr_df = pd.DataFrame(correlations)\n",
    "    return corr_df.sort_values('Correlation', key=abs, ascending=False)\n"
   ],
   "id": "1075095e83ba7609",
   "outputs": [],
   "execution_count": 94
  },
  {
   "metadata": {
    "ExecuteTime": {
     "end_time": "2025-04-17T04:14:59.132607Z",
     "start_time": "2025-04-17T04:14:59.125785Z"
    }
   },
   "cell_type": "code",
   "source": "df_phishing_web_cleaned = remove_constant_columns(sampled_df)",
   "id": "7bc846545bbed19",
   "outputs": [],
   "execution_count": 95
  },
  {
   "metadata": {
    "ExecuteTime": {
     "end_time": "2025-04-17T04:14:59.144594Z",
     "start_time": "2025-04-17T04:14:59.143202Z"
    }
   },
   "cell_type": "code",
   "source": "#analyze_phishing_web_Univariate_data(df_phishing_web_cleaned)",
   "id": "e694667364e6e1ac",
   "outputs": [],
   "execution_count": 96
  },
  {
   "metadata": {
    "ExecuteTime": {
     "end_time": "2025-04-17T04:14:59.166731Z",
     "start_time": "2025-04-17T04:14:59.165090Z"
    }
   },
   "cell_type": "code",
   "source": "# analyze_phishing_web_Bivariate_data(df_phishing_web_cleaned)",
   "id": "b2c90b074f13cb3c",
   "outputs": [],
   "execution_count": 97
  },
  {
   "metadata": {
    "ExecuteTime": {
     "end_time": "2025-04-17T04:14:59.188514Z",
     "start_time": "2025-04-17T04:14:59.186063Z"
    }
   },
   "cell_type": "code",
   "source": [
    "#df_phishing_web_cleaned = remove_constant_columns(sampled_df)\n",
    "#analyze_phishing_data(df_phishing_web_cleaned)"
   ],
   "id": "df01f16abe076e53",
   "outputs": [],
   "execution_count": 98
  },
  {
   "metadata": {
    "ExecuteTime": {
     "end_time": "2025-04-17T04:14:59.216040Z",
     "start_time": "2025-04-17T04:14:59.214516Z"
    }
   },
   "cell_type": "code",
   "source": "",
   "id": "dccf865e024894ee",
   "outputs": [],
   "execution_count": null
  }
 ],
 "metadata": {
  "kernelspec": {
   "display_name": "Python 3",
   "language": "python",
   "name": "python3"
  },
  "language_info": {
   "codemirror_mode": {
    "name": "ipython",
    "version": 2
   },
   "file_extension": ".py",
   "mimetype": "text/x-python",
   "name": "python",
   "nbconvert_exporter": "python",
   "pygments_lexer": "ipython2",
   "version": "2.7.6"
  }
 },
 "nbformat": 4,
 "nbformat_minor": 5
}
