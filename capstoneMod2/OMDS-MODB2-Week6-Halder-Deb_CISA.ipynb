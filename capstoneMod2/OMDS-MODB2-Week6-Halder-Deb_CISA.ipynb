{
 "cells": [
  {
   "metadata": {},
   "cell_type": "markdown",
   "source": "",
   "id": "9fba350e8233045d"
  },
  {
   "metadata": {},
   "cell_type": "markdown",
   "source": [
    "### Conclusions :\n",
    "\n",
    "- Explain what conclusions you would draw from this analysis: are the data what you expect?  Are the data likely to be usable?  If the data are not useable, find some new data!\n",
    "\n",
    "  Provided dataset 2- Website Phishing dataset\n",
    "\n",
    "### 3rd dataset provided cannot be used based on my domain knowledge\n",
    "  Provided 3rd dataset -  Based on the exploratory analysis done on the dataset we see that there is no pattern that we can use to identify a phishing attack. The dataset could be used for other things.\n",
    "\n",
    "\n",
    "   In the meanwhile we have found other datasets which are more relevant and I will use the UCI Phishing detection dataset instead. The UCI dataset is very clean datset with not much need for data wrangling and found multiple features whic have moderate correlation which is very useful.\n",
    "\n",
    "- Do you see any outliers?  (Data points that are far from the rest of the data).\n",
    "\n",
    "   we see outliers and its evident in both univariate graphs(multiple histograms have bars isolated at the extreme with gaps. The bivariate plots(box plot) also shows the round indicators outside the IQR  in multiple such cases\n",
    "\n",
    "- Are any data items highly correlated with each other, suggesting that they are redundant?\n",
    "\n",
    "   There are multiple such pairs in the UCI phishing dataset as seen in the correlation matrix it has correlation of 1. or  very near 1. example HasObfuscation  NoOfObfuscatedChar, NoOfObfuscatedChar    ObfuscationRatio\n",
    "\n",
    "- For the line plots, do you see a trend or pattern over time?  Does this suggest that the data are changing over time (drifting) in such a way as to invalidate comparisons?\n",
    "\n",
    "  The UCI data set didnt have date as the feature and we cannot comment on the same\n",
    "\n",
    "- Can you think of any confounding variables?  (Third variables that could explain any correlations between other variables.  These third variables may or may not be reported in the dataset.)\n",
    "\n",
    "  No we cannot think of any such confounding variable at this time . At a later stage when we tryto correlate three different dataset we may be able to at that time"
   ],
   "id": "4978d1d183129f63"
  },
  {
   "cell_type": "code",
   "id": "initial_id",
   "metadata": {
    "collapsed": true,
    "ExecuteTime": {
     "end_time": "2025-04-09T04:19:19.269105Z",
     "start_time": "2025-04-09T04:19:19.262420Z"
    }
   },
   "source": [
    "import numpy as np\n",
    "import matplotlib.pyplot as plt\n",
    "import pandas as pd\n",
    "import seaborn as sns\n",
    "import os"
   ],
   "outputs": [],
   "execution_count": 52
  },
  {
   "metadata": {
    "ExecuteTime": {
     "end_time": "2025-04-09T04:19:19.306875Z",
     "start_time": "2025-04-09T04:19:19.277623Z"
    }
   },
   "cell_type": "code",
   "source": [
    "#import dataset file \"web_page_dataset_phishing.csv\" from folder./Phishing_data\n",
    "path = './dataset/'\n",
    "os.listdir(path)\n",
    "\n",
    "#first open the 5 files in the data sets\n",
    "\n",
    "df_phishing_CISA1_06_08 = pd.read_csv(path+'2022-06-08-enriched-CISA.csv')\n",
    "df_phishing_CISA1_06_09 = pd.read_csv(path+'2022-06-09-enriched-CISA.csv')\n",
    "df_phishing_CISA1_06_27 = pd.read_csv(path+'2022-06-27-enriched.-CISAcsv.csv')\n",
    "df_phishing_CISA1_07_04 = pd.read_csv(path+'2022-07-04-enriched-CISA.csv')\n",
    "df_phishing_CISA1_12_09 = pd.read_csv(path+'2022-12-09-enriched-CISA.csv')"
   ],
   "id": "d00dca2d603fa706",
   "outputs": [],
   "execution_count": 53
  },
  {
   "metadata": {
    "ExecuteTime": {
     "end_time": "2025-04-09T04:19:19.342035Z",
     "start_time": "2025-04-09T04:19:19.336295Z"
    }
   },
   "cell_type": "code",
   "source": "df_phishing_CISA1_06_08.info()\n",
   "id": "6db1f60de83dad1",
   "outputs": [
    {
     "name": "stdout",
     "output_type": "stream",
     "text": [
      "<class 'pandas.core.frame.DataFrame'>\n",
      "RangeIndex: 774 entries, 0 to 773\n",
      "Data columns (total 16 columns):\n",
      " #   Column              Non-Null Count  Dtype  \n",
      "---  ------              --------------  -----  \n",
      " 0   cve_id              774 non-null    object \n",
      " 1   vendor_project      774 non-null    object \n",
      " 2   product             773 non-null    object \n",
      " 3   vulnerability_name  774 non-null    object \n",
      " 4   date_added          774 non-null    object \n",
      " 5   short_description   768 non-null    object \n",
      " 6   required_action     774 non-null    object \n",
      " 7   due_date            774 non-null    object \n",
      " 8   notes               0 non-null      float64\n",
      " 9   grp                 774 non-null    int64  \n",
      " 10  pub_date            765 non-null    object \n",
      " 11  cvss                609 non-null    float64\n",
      " 12  cwe                 760 non-null    object \n",
      " 13  vector              609 non-null    object \n",
      " 14  complexity          609 non-null    object \n",
      " 15  severity            609 non-null    object \n",
      "dtypes: float64(2), int64(1), object(13)\n",
      "memory usage: 96.9+ KB\n"
     ]
    }
   ],
   "execution_count": 54
  },
  {
   "metadata": {
    "ExecuteTime": {
     "end_time": "2025-04-09T04:19:19.381983Z",
     "start_time": "2025-04-09T04:19:19.375269Z"
    }
   },
   "cell_type": "code",
   "source": "df_phishing_CISA1_06_09.info()",
   "id": "d5e0527e44a26a5c",
   "outputs": [
    {
     "name": "stdout",
     "output_type": "stream",
     "text": [
      "<class 'pandas.core.frame.DataFrame'>\n",
      "RangeIndex: 777 entries, 0 to 776\n",
      "Data columns (total 16 columns):\n",
      " #   Column              Non-Null Count  Dtype  \n",
      "---  ------              --------------  -----  \n",
      " 0   cve_id              777 non-null    object \n",
      " 1   vendor_project      777 non-null    object \n",
      " 2   product             776 non-null    object \n",
      " 3   vulnerability_name  777 non-null    object \n",
      " 4   date_added          777 non-null    object \n",
      " 5   short_description   771 non-null    object \n",
      " 6   required_action     777 non-null    object \n",
      " 7   due_date            777 non-null    object \n",
      " 8   notes               0 non-null      float64\n",
      " 9   grp                 777 non-null    int64  \n",
      " 10  pub_date            768 non-null    object \n",
      " 11  cvss                612 non-null    float64\n",
      " 12  cwe                 763 non-null    object \n",
      " 13  vector              612 non-null    object \n",
      " 14  complexity          612 non-null    object \n",
      " 15  severity            612 non-null    object \n",
      "dtypes: float64(2), int64(1), object(13)\n",
      "memory usage: 97.3+ KB\n"
     ]
    }
   ],
   "execution_count": 55
  },
  {
   "metadata": {
    "ExecuteTime": {
     "end_time": "2025-04-09T04:19:19.414238Z",
     "start_time": "2025-04-09T04:19:19.408719Z"
    }
   },
   "cell_type": "code",
   "source": "df_phishing_CISA1_06_27.info()\n",
   "id": "ec1447d3ee1644a1",
   "outputs": [
    {
     "name": "stdout",
     "output_type": "stream",
     "text": [
      "<class 'pandas.core.frame.DataFrame'>\n",
      "RangeIndex: 786 entries, 0 to 785\n",
      "Data columns (total 16 columns):\n",
      " #   Column              Non-Null Count  Dtype  \n",
      "---  ------              --------------  -----  \n",
      " 0   cve_id              786 non-null    object \n",
      " 1   vendor_project      786 non-null    object \n",
      " 2   product             785 non-null    object \n",
      " 3   vulnerability_name  786 non-null    object \n",
      " 4   date_added          786 non-null    object \n",
      " 5   short_description   780 non-null    object \n",
      " 6   required_action     786 non-null    object \n",
      " 7   due_date            786 non-null    object \n",
      " 8   notes               0 non-null      float64\n",
      " 9   grp                 786 non-null    int64  \n",
      " 10  pub_date            777 non-null    object \n",
      " 11  cvss                621 non-null    float64\n",
      " 12  cwe                 772 non-null    object \n",
      " 13  vector              621 non-null    object \n",
      " 14  complexity          621 non-null    object \n",
      " 15  severity            621 non-null    object \n",
      "dtypes: float64(2), int64(1), object(13)\n",
      "memory usage: 98.4+ KB\n"
     ]
    }
   ],
   "execution_count": 56
  },
  {
   "metadata": {
    "ExecuteTime": {
     "end_time": "2025-04-09T04:19:19.443070Z",
     "start_time": "2025-04-09T04:19:19.438401Z"
    }
   },
   "cell_type": "code",
   "source": "df_phishing_CISA1_07_04.info()",
   "id": "777858a741cadcde",
   "outputs": [
    {
     "name": "stdout",
     "output_type": "stream",
     "text": [
      "<class 'pandas.core.frame.DataFrame'>\n",
      "RangeIndex: 787 entries, 0 to 786\n",
      "Data columns (total 16 columns):\n",
      " #   Column              Non-Null Count  Dtype  \n",
      "---  ------              --------------  -----  \n",
      " 0   cve_id              787 non-null    object \n",
      " 1   vendor_project      787 non-null    object \n",
      " 2   product             786 non-null    object \n",
      " 3   vulnerability_name  787 non-null    object \n",
      " 4   date_added          787 non-null    object \n",
      " 5   short_description   781 non-null    object \n",
      " 6   required_action     787 non-null    object \n",
      " 7   due_date            787 non-null    object \n",
      " 8   notes               1 non-null      object \n",
      " 9   grp                 787 non-null    int64  \n",
      " 10  pub_date            782 non-null    object \n",
      " 11  cvss                629 non-null    float64\n",
      " 12  cwe                 781 non-null    object \n",
      " 13  vector              629 non-null    object \n",
      " 14  complexity          629 non-null    object \n",
      " 15  severity            629 non-null    object \n",
      "dtypes: float64(1), int64(1), object(14)\n",
      "memory usage: 98.5+ KB\n"
     ]
    }
   ],
   "execution_count": 57
  },
  {
   "metadata": {
    "ExecuteTime": {
     "end_time": "2025-04-09T04:19:19.469492Z",
     "start_time": "2025-04-09T04:19:19.464803Z"
    }
   },
   "cell_type": "code",
   "source": "df_phishing_CISA1_12_09.info()",
   "id": "f49fcd842a3e4dba",
   "outputs": [
    {
     "name": "stdout",
     "output_type": "stream",
     "text": [
      "<class 'pandas.core.frame.DataFrame'>\n",
      "RangeIndex: 860 entries, 0 to 859\n",
      "Data columns (total 16 columns):\n",
      " #   Column              Non-Null Count  Dtype  \n",
      "---  ------              --------------  -----  \n",
      " 0   cve_id              860 non-null    object \n",
      " 1   vendor_project      860 non-null    object \n",
      " 2   product             859 non-null    object \n",
      " 3   vulnerability_name  860 non-null    object \n",
      " 4   date_added          860 non-null    object \n",
      " 5   short_description   854 non-null    object \n",
      " 6   required_action     860 non-null    object \n",
      " 7   due_date            860 non-null    object \n",
      " 8   notes               76 non-null     object \n",
      " 9   grp                 860 non-null    int64  \n",
      " 10  pub_date            14 non-null     object \n",
      " 11  cvss                13 non-null     float64\n",
      " 12  cwe                 14 non-null     object \n",
      " 13  vector              13 non-null     object \n",
      " 14  complexity          13 non-null     object \n",
      " 15  severity            13 non-null     object \n",
      "dtypes: float64(1), int64(1), object(14)\n",
      "memory usage: 107.6+ KB\n"
     ]
    }
   ],
   "execution_count": 58
  },
  {
   "metadata": {},
   "cell_type": "markdown",
   "source": "When we look into the 5 data files we see that the column names are same, but the notes column for all files doesnt have data. We also see that only three of the columns are int or float. All others are Object type including the date column. We will need to convert the date column to datetime type. Lets look at some sample data and see if there are categorical data that include",
   "id": "4c2bada46451116"
  },
  {
   "metadata": {
    "ExecuteTime": {
     "end_time": "2025-04-09T04:19:19.573344Z",
     "start_time": "2025-04-09T04:19:19.563675Z"
    }
   },
   "cell_type": "code",
   "source": "df_phishing_CISA1_12_09.head()",
   "id": "83593db359db6c95",
   "outputs": [
    {
     "data": {
      "text/plain": [
       "           cve_id vendor_project             product  \\\n",
       "0  CVE-2021-27104      accellion                 FTA   \n",
       "1  CVE-2021-27102      accellion                 FTA   \n",
       "2  CVE-2021-27101      accellion                 FTA   \n",
       "3  CVE-2021-27103      accellion                 FTA   \n",
       "4  CVE-2021-21017          adobe  Acrobat and Reader   \n",
       "\n",
       "                                  vulnerability_name  date_added  \\\n",
       "0   Accellion FTA OS Command Injection Vulnerability  2021-11-03   \n",
       "1   Accellion FTA OS Command Injection Vulnerability  2021-11-03   \n",
       "2          Accellion FTA SQL Injection Vulnerability  2021-11-03   \n",
       "3                   Accellion FTA SSRF Vulnerability  2021-11-03   \n",
       "4  Adobe Acrobat and Reader Heap-based Buffer Ove...  2021-11-03   \n",
       "\n",
       "                                   short_description  \\\n",
       "0  Accellion FTA 9_12_370 and earlier is affected...   \n",
       "1  Accellion FTA 9_12_411 and earlier is affected...   \n",
       "2  Accellion FTA 9_12_370 and earlier is affected...   \n",
       "3  Accellion FTA 9_12_411 and earlier is affected...   \n",
       "4  Acrobat Reader DC versions versions 2020.013.2...   \n",
       "\n",
       "                          required_action    due_date notes  grp    pub_date  \\\n",
       "0  Apply updates per vendor instructions.  2021-11-17   NaN    1  2021-02-16   \n",
       "1  Apply updates per vendor instructions.  2021-11-17   NaN    1         NaN   \n",
       "2  Apply updates per vendor instructions.  2021-11-17   NaN    1         NaN   \n",
       "3  Apply updates per vendor instructions.  2021-11-17   NaN    1         NaN   \n",
       "4  Apply updates per vendor instructions.  2021-11-17   NaN    1         NaN   \n",
       "\n",
       "   cvss     cwe   vector complexity  severity  \n",
       "0   9.8  CWE-78  NETWORK        LOW  CRITICAL  \n",
       "1   NaN     NaN      NaN        NaN       NaN  \n",
       "2   NaN     NaN      NaN        NaN       NaN  \n",
       "3   NaN     NaN      NaN        NaN       NaN  \n",
       "4   NaN     NaN      NaN        NaN       NaN  "
      ],
      "text/html": [
       "<div>\n",
       "<style scoped>\n",
       "    .dataframe tbody tr th:only-of-type {\n",
       "        vertical-align: middle;\n",
       "    }\n",
       "\n",
       "    .dataframe tbody tr th {\n",
       "        vertical-align: top;\n",
       "    }\n",
       "\n",
       "    .dataframe thead th {\n",
       "        text-align: right;\n",
       "    }\n",
       "</style>\n",
       "<table border=\"1\" class=\"dataframe\">\n",
       "  <thead>\n",
       "    <tr style=\"text-align: right;\">\n",
       "      <th></th>\n",
       "      <th>cve_id</th>\n",
       "      <th>vendor_project</th>\n",
       "      <th>product</th>\n",
       "      <th>vulnerability_name</th>\n",
       "      <th>date_added</th>\n",
       "      <th>short_description</th>\n",
       "      <th>required_action</th>\n",
       "      <th>due_date</th>\n",
       "      <th>notes</th>\n",
       "      <th>grp</th>\n",
       "      <th>pub_date</th>\n",
       "      <th>cvss</th>\n",
       "      <th>cwe</th>\n",
       "      <th>vector</th>\n",
       "      <th>complexity</th>\n",
       "      <th>severity</th>\n",
       "    </tr>\n",
       "  </thead>\n",
       "  <tbody>\n",
       "    <tr>\n",
       "      <th>0</th>\n",
       "      <td>CVE-2021-27104</td>\n",
       "      <td>accellion</td>\n",
       "      <td>FTA</td>\n",
       "      <td>Accellion FTA OS Command Injection Vulnerability</td>\n",
       "      <td>2021-11-03</td>\n",
       "      <td>Accellion FTA 9_12_370 and earlier is affected...</td>\n",
       "      <td>Apply updates per vendor instructions.</td>\n",
       "      <td>2021-11-17</td>\n",
       "      <td>NaN</td>\n",
       "      <td>1</td>\n",
       "      <td>2021-02-16</td>\n",
       "      <td>9.8</td>\n",
       "      <td>CWE-78</td>\n",
       "      <td>NETWORK</td>\n",
       "      <td>LOW</td>\n",
       "      <td>CRITICAL</td>\n",
       "    </tr>\n",
       "    <tr>\n",
       "      <th>1</th>\n",
       "      <td>CVE-2021-27102</td>\n",
       "      <td>accellion</td>\n",
       "      <td>FTA</td>\n",
       "      <td>Accellion FTA OS Command Injection Vulnerability</td>\n",
       "      <td>2021-11-03</td>\n",
       "      <td>Accellion FTA 9_12_411 and earlier is affected...</td>\n",
       "      <td>Apply updates per vendor instructions.</td>\n",
       "      <td>2021-11-17</td>\n",
       "      <td>NaN</td>\n",
       "      <td>1</td>\n",
       "      <td>NaN</td>\n",
       "      <td>NaN</td>\n",
       "      <td>NaN</td>\n",
       "      <td>NaN</td>\n",
       "      <td>NaN</td>\n",
       "      <td>NaN</td>\n",
       "    </tr>\n",
       "    <tr>\n",
       "      <th>2</th>\n",
       "      <td>CVE-2021-27101</td>\n",
       "      <td>accellion</td>\n",
       "      <td>FTA</td>\n",
       "      <td>Accellion FTA SQL Injection Vulnerability</td>\n",
       "      <td>2021-11-03</td>\n",
       "      <td>Accellion FTA 9_12_370 and earlier is affected...</td>\n",
       "      <td>Apply updates per vendor instructions.</td>\n",
       "      <td>2021-11-17</td>\n",
       "      <td>NaN</td>\n",
       "      <td>1</td>\n",
       "      <td>NaN</td>\n",
       "      <td>NaN</td>\n",
       "      <td>NaN</td>\n",
       "      <td>NaN</td>\n",
       "      <td>NaN</td>\n",
       "      <td>NaN</td>\n",
       "    </tr>\n",
       "    <tr>\n",
       "      <th>3</th>\n",
       "      <td>CVE-2021-27103</td>\n",
       "      <td>accellion</td>\n",
       "      <td>FTA</td>\n",
       "      <td>Accellion FTA SSRF Vulnerability</td>\n",
       "      <td>2021-11-03</td>\n",
       "      <td>Accellion FTA 9_12_411 and earlier is affected...</td>\n",
       "      <td>Apply updates per vendor instructions.</td>\n",
       "      <td>2021-11-17</td>\n",
       "      <td>NaN</td>\n",
       "      <td>1</td>\n",
       "      <td>NaN</td>\n",
       "      <td>NaN</td>\n",
       "      <td>NaN</td>\n",
       "      <td>NaN</td>\n",
       "      <td>NaN</td>\n",
       "      <td>NaN</td>\n",
       "    </tr>\n",
       "    <tr>\n",
       "      <th>4</th>\n",
       "      <td>CVE-2021-21017</td>\n",
       "      <td>adobe</td>\n",
       "      <td>Acrobat and Reader</td>\n",
       "      <td>Adobe Acrobat and Reader Heap-based Buffer Ove...</td>\n",
       "      <td>2021-11-03</td>\n",
       "      <td>Acrobat Reader DC versions versions 2020.013.2...</td>\n",
       "      <td>Apply updates per vendor instructions.</td>\n",
       "      <td>2021-11-17</td>\n",
       "      <td>NaN</td>\n",
       "      <td>1</td>\n",
       "      <td>NaN</td>\n",
       "      <td>NaN</td>\n",
       "      <td>NaN</td>\n",
       "      <td>NaN</td>\n",
       "      <td>NaN</td>\n",
       "      <td>NaN</td>\n",
       "    </tr>\n",
       "  </tbody>\n",
       "</table>\n",
       "</div>"
      ]
     },
     "execution_count": 59,
     "metadata": {},
     "output_type": "execute_result"
    }
   ],
   "execution_count": 59
  },
  {
   "metadata": {
    "ExecuteTime": {
     "end_time": "2025-04-09T04:19:19.631282Z",
     "start_time": "2025-04-09T04:19:19.625161Z"
    }
   },
   "cell_type": "code",
   "source": [
    "#detemine the date range of the date_added column\n",
    "\n",
    "df_phishing_CISA1_06_08['date_added'].min(), df_phishing_CISA1_06_08['date_added'].max()\n"
   ],
   "id": "59c860d1fcaef925",
   "outputs": [
    {
     "data": {
      "text/plain": [
       "('2021-11-03', '2022-06-08')"
      ]
     },
     "execution_count": 60,
     "metadata": {},
     "output_type": "execute_result"
    }
   ],
   "execution_count": 60
  },
  {
   "metadata": {
    "ExecuteTime": {
     "end_time": "2025-04-09T04:19:19.685294Z",
     "start_time": "2025-04-09T04:19:19.681478Z"
    }
   },
   "cell_type": "code",
   "source": "df_phishing_CISA1_06_09['date_added'].min(), df_phishing_CISA1_06_09['date_added'].max()\n",
   "id": "af8ff6f149103e2a",
   "outputs": [
    {
     "data": {
      "text/plain": [
       "('2021-11-03', '2022-06-09')"
      ]
     },
     "execution_count": 61,
     "metadata": {},
     "output_type": "execute_result"
    }
   ],
   "execution_count": 61
  },
  {
   "metadata": {
    "ExecuteTime": {
     "end_time": "2025-04-09T04:19:19.732406Z",
     "start_time": "2025-04-09T04:19:19.728281Z"
    }
   },
   "cell_type": "code",
   "source": "df_phishing_CISA1_06_27['date_added'].min(), df_phishing_CISA1_06_27['date_added'].max()\n",
   "id": "4190ecb2cb27f506",
   "outputs": [
    {
     "data": {
      "text/plain": [
       "('2021-11-03', '2022-06-27')"
      ]
     },
     "execution_count": 62,
     "metadata": {},
     "output_type": "execute_result"
    }
   ],
   "execution_count": 62
  },
  {
   "metadata": {
    "ExecuteTime": {
     "end_time": "2025-04-09T04:19:19.779621Z",
     "start_time": "2025-04-09T04:19:19.776223Z"
    }
   },
   "cell_type": "code",
   "source": "df_phishing_CISA1_07_04['date_added'].min(), df_phishing_CISA1_07_04['date_added'].max()\n",
   "id": "5aae4c2194a7dfbb",
   "outputs": [
    {
     "data": {
      "text/plain": [
       "('2021-11-03', '2022-07-01')"
      ]
     },
     "execution_count": 63,
     "metadata": {},
     "output_type": "execute_result"
    }
   ],
   "execution_count": 63
  },
  {
   "metadata": {
    "ExecuteTime": {
     "end_time": "2025-04-09T04:19:19.863283Z",
     "start_time": "2025-04-09T04:19:19.857943Z"
    }
   },
   "cell_type": "code",
   "source": "df_phishing_CISA1_12_09['date_added'].min(), df_phishing_CISA1_12_09['date_added'].max()",
   "id": "c969929099e20b97",
   "outputs": [
    {
     "data": {
      "text/plain": [
       "('2021-11-03', '2022-12-05')"
      ]
     },
     "execution_count": 64,
     "metadata": {},
     "output_type": "execute_result"
    }
   ],
   "execution_count": 64
  },
  {
   "metadata": {},
   "cell_type": "markdown",
   "source": "#### So it seems there are date added column having some overlap. So we will concatenate the five dataframe and then filter out any dulicates. Ther are also null values that we need to filter but we will analyze and then do that\n",
   "id": "570a70b19232d37c"
  },
  {
   "metadata": {
    "ExecuteTime": {
     "end_time": "2025-04-09T04:19:19.902251Z",
     "start_time": "2025-04-09T04:19:19.892822Z"
    }
   },
   "cell_type": "code",
   "source": [
    "# let us concatenate the 5 dataframes so as we have all the rows now in the merged dataframe\n",
    "df_merged_CISA1 = pd.concat([df_phishing_CISA1_06_08, df_phishing_CISA1_06_09, df_phishing_CISA1_06_27, df_phishing_CISA1_07_04, df_phishing_CISA1_12_09], ignore_index=True)"
   ],
   "id": "4531996660889a23",
   "outputs": [],
   "execution_count": 65
  },
  {
   "metadata": {
    "ExecuteTime": {
     "end_time": "2025-04-09T04:19:19.913573Z",
     "start_time": "2025-04-09T04:19:19.906854Z"
    }
   },
   "cell_type": "code",
   "source": "df_merged_CISA1.info()",
   "id": "e25942c4d57c3626",
   "outputs": [
    {
     "name": "stdout",
     "output_type": "stream",
     "text": [
      "<class 'pandas.core.frame.DataFrame'>\n",
      "RangeIndex: 3984 entries, 0 to 3983\n",
      "Data columns (total 16 columns):\n",
      " #   Column              Non-Null Count  Dtype  \n",
      "---  ------              --------------  -----  \n",
      " 0   cve_id              3984 non-null   object \n",
      " 1   vendor_project      3984 non-null   object \n",
      " 2   product             3979 non-null   object \n",
      " 3   vulnerability_name  3984 non-null   object \n",
      " 4   date_added          3984 non-null   object \n",
      " 5   short_description   3954 non-null   object \n",
      " 6   required_action     3984 non-null   object \n",
      " 7   due_date            3984 non-null   object \n",
      " 8   notes               77 non-null     object \n",
      " 9   grp                 3984 non-null   int64  \n",
      " 10  pub_date            3106 non-null   object \n",
      " 11  cvss                2484 non-null   float64\n",
      " 12  cwe                 3090 non-null   object \n",
      " 13  vector              2484 non-null   object \n",
      " 14  complexity          2484 non-null   object \n",
      " 15  severity            2484 non-null   object \n",
      "dtypes: float64(1), int64(1), object(14)\n",
      "memory usage: 498.1+ KB\n"
     ]
    }
   ],
   "execution_count": 66
  },
  {
   "metadata": {
    "ExecuteTime": {
     "end_time": "2025-04-09T04:19:19.945718Z",
     "start_time": "2025-04-09T04:19:19.941671Z"
    }
   },
   "cell_type": "code",
   "source": [
    "#since the notes seems to be having very few data so we will drop the notes column from the merged Dataset that we want to proceed with.\n",
    "#we will create a copy of the merged dataframe and then drop the notes column so as if needed the original merged DF is still available if needed\n",
    "df_merged_CISA1_copy = df_merged_CISA1.copy()\n"
   ],
   "id": "ab04d7dfc18161d",
   "outputs": [],
   "execution_count": 67
  },
  {
   "metadata": {
    "ExecuteTime": {
     "end_time": "2025-04-09T04:19:19.973430Z",
     "start_time": "2025-04-09T04:19:19.968841Z"
    }
   },
   "cell_type": "code",
   "source": [
    "#drop the notes column\n",
    "df_merged_CISA1_copy.drop(columns=['notes'], inplace=True)"
   ],
   "id": "86bee2e96fec2aa7",
   "outputs": [],
   "execution_count": 68
  },
  {
   "metadata": {
    "ExecuteTime": {
     "end_time": "2025-04-09T04:19:20.006387Z",
     "start_time": "2025-04-09T04:19:19.997436Z"
    }
   },
   "cell_type": "code",
   "source": [
    "# Lets check if there are any duplicates\n",
    "df_merged_CISA1_copy.duplicated().sum()"
   ],
   "id": "cdb3af249cc43874",
   "outputs": [
    {
     "data": {
      "text/plain": [
       "np.int64(2331)"
      ]
     },
     "execution_count": 69,
     "metadata": {},
     "output_type": "execute_result"
    }
   ],
   "execution_count": 69
  },
  {
   "metadata": {
    "ExecuteTime": {
     "end_time": "2025-04-09T04:19:20.042948Z",
     "start_time": "2025-04-09T04:19:20.033866Z"
    }
   },
   "cell_type": "code",
   "source": [
    "# let us drop the rows which are duplicates and occur the 2nd time onwards\n",
    "df_merged_CISA1_copy.drop_duplicates(inplace=True)"
   ],
   "id": "59372c909accf9d2",
   "outputs": [],
   "execution_count": 70
  },
  {
   "metadata": {
    "ExecuteTime": {
     "end_time": "2025-04-09T04:19:20.074109Z",
     "start_time": "2025-04-09T04:19:20.068056Z"
    }
   },
   "cell_type": "code",
   "source": "df_merged_CISA1_copy.info()",
   "id": "db08fe197cf2645d",
   "outputs": [
    {
     "name": "stdout",
     "output_type": "stream",
     "text": [
      "<class 'pandas.core.frame.DataFrame'>\n",
      "Index: 1653 entries, 0 to 3983\n",
      "Data columns (total 15 columns):\n",
      " #   Column              Non-Null Count  Dtype  \n",
      "---  ------              --------------  -----  \n",
      " 0   cve_id              1653 non-null   object \n",
      " 1   vendor_project      1653 non-null   object \n",
      " 2   product             1651 non-null   object \n",
      " 3   vulnerability_name  1653 non-null   object \n",
      " 4   date_added          1653 non-null   object \n",
      " 5   short_description   1641 non-null   object \n",
      " 6   required_action     1653 non-null   object \n",
      " 7   due_date            1653 non-null   object \n",
      " 8   grp                 1653 non-null   int64  \n",
      " 9   pub_date            807 non-null    object \n",
      " 10  cvss                651 non-null    float64\n",
      " 11  cwe                 802 non-null    object \n",
      " 12  vector              651 non-null    object \n",
      " 13  complexity          651 non-null    object \n",
      " 14  severity            651 non-null    object \n",
      "dtypes: float64(1), int64(1), object(13)\n",
      "memory usage: 206.6+ KB\n"
     ]
    }
   ],
   "execution_count": 71
  },
  {
   "metadata": {},
   "cell_type": "markdown",
   "source": [
    "#### Explanation of the dataset\n",
    "\n",
    "This file contains information about known exploited vulnerabilities from the CISA catalog, including the CVE ID, vendor project, product, vulnerability name, date added, short description, required action, due date, notes, group, publication date, CVSS score, CWE, vector, complexity, and severityThis file contains information about known exploited vulnerabilities, including the vendor project, product, vulnerability name, date added, short description, required action, due date, notes, group, publication date, CVSS score, CWE, vector, complexity, and severity\n",
    "\n",
    "\n",
    "- vendor_project: The name of the vendor project associated with the vulnerability. (String)\n",
    "\n",
    "- product: The name of the product associated with the vulnerability. (String)\n",
    "\n",
    "- vulnerability_name: The name of the vulnerability. (String)\n",
    "\n",
    "- date_added: The date the vulnerability was added to the CISA Known Exploited Vulnerabilities catalog. (Date)\n",
    "\n",
    "- short_description: A brief description of the vulnerability. (String)\n",
    "\n",
    "- required_action: The action required to remediate the vulnerability. (String)\n",
    "\n",
    "- due_date: The date by which the required action must be completed. (Date)\n",
    "\n",
    "- notes: Additional notes about the vulnerability. (String) ...  this column is dropped\n",
    "\n",
    "- grp: The group associated with the vulnerability. (String)\n",
    "\n",
    "- pub_date: The date the vulnerability was published. (Date)\n",
    "\n",
    "- cvss: The Common Vulnerability Scoring System score associated with the vulnerability. (Float)\n",
    "\n",
    "- cwe: The Common Weakness Enumeration associated with the vulnerability. (String)\n",
    "\n",
    "- vector: The vector associated with the vulnerability. (String)\n",
    "\n",
    "- complexity: The complexity associated with the vulnerability. (String)\n",
    "\n",
    "- severity: The severity level associated with the vulnerability. (String)"
   ],
   "id": "1c8e00ea271cfc8e"
  },
  {
   "metadata": {
    "ExecuteTime": {
     "end_time": "2025-04-09T04:19:20.122878Z",
     "start_time": "2025-04-09T04:19:20.110490Z"
    }
   },
   "cell_type": "code",
   "source": [
    "# let us check if the column name \"vulnerability_name\" has any with the word \"phishing\" in it\n",
    "df_merged_CISA1_copy[df_merged_CISA1_copy['vulnerability_name'].str.contains(\"phishing\", case=False)]"
   ],
   "id": "c8a197408656156e",
   "outputs": [
    {
     "data": {
      "text/plain": [
       "Empty DataFrame\n",
       "Columns: [cve_id, vendor_project, product, vulnerability_name, date_added, short_description, required_action, due_date, grp, pub_date, cvss, cwe, vector, complexity, severity]\n",
       "Index: []"
      ],
      "text/html": [
       "<div>\n",
       "<style scoped>\n",
       "    .dataframe tbody tr th:only-of-type {\n",
       "        vertical-align: middle;\n",
       "    }\n",
       "\n",
       "    .dataframe tbody tr th {\n",
       "        vertical-align: top;\n",
       "    }\n",
       "\n",
       "    .dataframe thead th {\n",
       "        text-align: right;\n",
       "    }\n",
       "</style>\n",
       "<table border=\"1\" class=\"dataframe\">\n",
       "  <thead>\n",
       "    <tr style=\"text-align: right;\">\n",
       "      <th></th>\n",
       "      <th>cve_id</th>\n",
       "      <th>vendor_project</th>\n",
       "      <th>product</th>\n",
       "      <th>vulnerability_name</th>\n",
       "      <th>date_added</th>\n",
       "      <th>short_description</th>\n",
       "      <th>required_action</th>\n",
       "      <th>due_date</th>\n",
       "      <th>grp</th>\n",
       "      <th>pub_date</th>\n",
       "      <th>cvss</th>\n",
       "      <th>cwe</th>\n",
       "      <th>vector</th>\n",
       "      <th>complexity</th>\n",
       "      <th>severity</th>\n",
       "    </tr>\n",
       "  </thead>\n",
       "  <tbody>\n",
       "  </tbody>\n",
       "</table>\n",
       "</div>"
      ]
     },
     "execution_count": 72,
     "metadata": {},
     "output_type": "execute_result"
    }
   ],
   "execution_count": 72
  },
  {
   "metadata": {
    "ExecuteTime": {
     "end_time": "2025-04-09T04:19:20.199038Z",
     "start_time": "2025-04-09T04:19:20.186966Z"
    }
   },
   "cell_type": "code",
   "source": [
    "# let us check if the column name \"short_description\" has any with the word \"phishing\" in it. if the column has null then ignore that row\n",
    "df_merged_CISA1_copy[df_merged_CISA1_copy['short_description'].str.contains(\"phishing\", case=False, na=False)]\n",
    "\n"
   ],
   "id": "6b4c01c0f2a8100d",
   "outputs": [
    {
     "data": {
      "text/plain": [
       "Empty DataFrame\n",
       "Columns: [cve_id, vendor_project, product, vulnerability_name, date_added, short_description, required_action, due_date, grp, pub_date, cvss, cwe, vector, complexity, severity]\n",
       "Index: []"
      ],
      "text/html": [
       "<div>\n",
       "<style scoped>\n",
       "    .dataframe tbody tr th:only-of-type {\n",
       "        vertical-align: middle;\n",
       "    }\n",
       "\n",
       "    .dataframe tbody tr th {\n",
       "        vertical-align: top;\n",
       "    }\n",
       "\n",
       "    .dataframe thead th {\n",
       "        text-align: right;\n",
       "    }\n",
       "</style>\n",
       "<table border=\"1\" class=\"dataframe\">\n",
       "  <thead>\n",
       "    <tr style=\"text-align: right;\">\n",
       "      <th></th>\n",
       "      <th>cve_id</th>\n",
       "      <th>vendor_project</th>\n",
       "      <th>product</th>\n",
       "      <th>vulnerability_name</th>\n",
       "      <th>date_added</th>\n",
       "      <th>short_description</th>\n",
       "      <th>required_action</th>\n",
       "      <th>due_date</th>\n",
       "      <th>grp</th>\n",
       "      <th>pub_date</th>\n",
       "      <th>cvss</th>\n",
       "      <th>cwe</th>\n",
       "      <th>vector</th>\n",
       "      <th>complexity</th>\n",
       "      <th>severity</th>\n",
       "    </tr>\n",
       "  </thead>\n",
       "  <tbody>\n",
       "  </tbody>\n",
       "</table>\n",
       "</div>"
      ]
     },
     "execution_count": 73,
     "metadata": {},
     "output_type": "execute_result"
    }
   ],
   "execution_count": 73
  },
  {
   "metadata": {
    "ExecuteTime": {
     "end_time": "2025-04-09T04:19:20.236785Z",
     "start_time": "2025-04-09T04:19:20.230480Z"
    }
   },
   "cell_type": "code",
   "source": [
    "# let us check if the column name \"required_action\" has any with the word \"phishing\" in it. if the column has null then ignore that row\n",
    "df_merged_CISA1_copy[df_merged_CISA1_copy['vector'].str.contains(\"phishing\", case=False, na=False)]"
   ],
   "id": "9ac7e3f05fbcd619",
   "outputs": [
    {
     "data": {
      "text/plain": [
       "Empty DataFrame\n",
       "Columns: [cve_id, vendor_project, product, vulnerability_name, date_added, short_description, required_action, due_date, grp, pub_date, cvss, cwe, vector, complexity, severity]\n",
       "Index: []"
      ],
      "text/html": [
       "<div>\n",
       "<style scoped>\n",
       "    .dataframe tbody tr th:only-of-type {\n",
       "        vertical-align: middle;\n",
       "    }\n",
       "\n",
       "    .dataframe tbody tr th {\n",
       "        vertical-align: top;\n",
       "    }\n",
       "\n",
       "    .dataframe thead th {\n",
       "        text-align: right;\n",
       "    }\n",
       "</style>\n",
       "<table border=\"1\" class=\"dataframe\">\n",
       "  <thead>\n",
       "    <tr style=\"text-align: right;\">\n",
       "      <th></th>\n",
       "      <th>cve_id</th>\n",
       "      <th>vendor_project</th>\n",
       "      <th>product</th>\n",
       "      <th>vulnerability_name</th>\n",
       "      <th>date_added</th>\n",
       "      <th>short_description</th>\n",
       "      <th>required_action</th>\n",
       "      <th>due_date</th>\n",
       "      <th>grp</th>\n",
       "      <th>pub_date</th>\n",
       "      <th>cvss</th>\n",
       "      <th>cwe</th>\n",
       "      <th>vector</th>\n",
       "      <th>complexity</th>\n",
       "      <th>severity</th>\n",
       "    </tr>\n",
       "  </thead>\n",
       "  <tbody>\n",
       "  </tbody>\n",
       "</table>\n",
       "</div>"
      ]
     },
     "execution_count": 74,
     "metadata": {},
     "output_type": "execute_result"
    }
   ],
   "execution_count": 74
  },
  {
   "metadata": {},
   "cell_type": "markdown",
   "source": [
    "## In this Dataset there is no column or string using which we can directly corelated to a Phishing attach. The vectors dont have anany pattern that we may be able to use. So we will not be able to use this dataset for our analysis. We checked for patterns in short description, Vulnerability name and vector but there is no pattern that we can use to identify a phishing attack.\n",
    "\n",
    "This dataset could be used for other things. In the meanwhile we have found other datsets which are more relevant and I will use the UCI Phishing detection dataset instead\n",
    "\n"
   ],
   "id": "bb72e912399330cb"
  },
  {
   "metadata": {
    "ExecuteTime": {
     "end_time": "2025-04-09T04:19:20.280296Z",
     "start_time": "2025-04-09T04:19:20.278230Z"
    }
   },
   "cell_type": "code",
   "source": [
    "# lets release the memory by deleting the dataframes that we dont need\n",
    "del df_phishing_CISA1_06_08, df_phishing_CISA1_06_09, df_phishing_CISA1_06_27, df_phishing_CISA1_07_04, df_phishing_CISA1_12_09\n"
   ],
   "id": "b57e1642d5b2842d",
   "outputs": [],
   "execution_count": 75
  },
  {
   "metadata": {},
   "cell_type": "markdown",
   "source": [
    "# Lets us use an alternate dataset\n",
    "\n",
    "Dataset URL: https://archive.ics.uci.edu/dataset/967/phiusiil+phishing+url+dataset\n",
    "\n",
    "Dataset Name : UCI - PhiUSIIL Phishing URL Dataset\n",
    "\n",
    "License : Creative Commons Attribution 4.0 International"
   ],
   "id": "814b175092678296"
  },
  {
   "metadata": {
    "ExecuteTime": {
     "end_time": "2025-04-09T04:19:21.100744Z",
     "start_time": "2025-04-09T04:19:20.318671Z"
    }
   },
   "cell_type": "code",
   "source": [
    "# let  usopen the dataset and see what it looks like\n",
    "path = './UCI_phishing_dataset/'\n",
    "df_phishing_UCI = pd.read_csv(path+'PhiUSIIL_Phishing_URL_Dataset.csv')"
   ],
   "id": "4af35b9e06fe33a7",
   "outputs": [],
   "execution_count": 76
  },
  {
   "metadata": {},
   "cell_type": "markdown",
   "source": [
    "###  Below are the Columns of the UCI Phishing dataset and the name of the columns are self explanatory.\n",
    "\n",
    "'URL', 'Domain', 'TLD', 'Title' and 'FILENAME' are the only Categorical columns/features  remaining are integer or continuous"
   ],
   "id": "647a5f4327b78a70"
  },
  {
   "metadata": {
    "ExecuteTime": {
     "end_time": "2025-04-09T04:19:21.107294Z",
     "start_time": "2025-04-09T04:19:21.105111Z"
    }
   },
   "cell_type": "code",
   "source": "df_phishing_UCI.columns",
   "id": "1a9193f9a273db58",
   "outputs": [
    {
     "data": {
      "text/plain": [
       "Index(['FILENAME', 'URL', 'URLLength', 'Domain', 'DomainLength', 'IsDomainIP',\n",
       "       'TLD', 'URLSimilarityIndex', 'CharContinuationRate',\n",
       "       'TLDLegitimateProb', 'URLCharProb', 'TLDLength', 'NoOfSubDomain',\n",
       "       'HasObfuscation', 'NoOfObfuscatedChar', 'ObfuscationRatio',\n",
       "       'NoOfLettersInURL', 'LetterRatioInURL', 'NoOfDegitsInURL',\n",
       "       'DegitRatioInURL', 'NoOfEqualsInURL', 'NoOfQMarkInURL',\n",
       "       'NoOfAmpersandInURL', 'NoOfOtherSpecialCharsInURL',\n",
       "       'SpacialCharRatioInURL', 'IsHTTPS', 'LineOfCode', 'LargestLineLength',\n",
       "       'HasTitle', 'Title', 'DomainTitleMatchScore', 'URLTitleMatchScore',\n",
       "       'HasFavicon', 'Robots', 'IsResponsive', 'NoOfURLRedirect',\n",
       "       'NoOfSelfRedirect', 'HasDescription', 'NoOfPopup', 'NoOfiFrame',\n",
       "       'HasExternalFormSubmit', 'HasSocialNet', 'HasSubmitButton',\n",
       "       'HasHiddenFields', 'HasPasswordField', 'Bank', 'Pay', 'Crypto',\n",
       "       'HasCopyrightInfo', 'NoOfImage', 'NoOfCSS', 'NoOfJS', 'NoOfSelfRef',\n",
       "       'NoOfEmptyRef', 'NoOfExternalRef', 'label'],\n",
       "      dtype='object')"
      ]
     },
     "execution_count": 77,
     "metadata": {},
     "output_type": "execute_result"
    }
   ],
   "execution_count": 77
  },
  {
   "metadata": {
    "ExecuteTime": {
     "end_time": "2025-04-09T04:19:21.128412Z",
     "start_time": "2025-04-09T04:19:21.122342Z"
    }
   },
   "cell_type": "code",
   "source": "df_phishing_UCI.head()",
   "id": "1a6357311147dbae",
   "outputs": [
    {
     "data": {
      "text/plain": [
       "     FILENAME                                 URL  URLLength  \\\n",
       "0  521848.txt    https://www.southbankmosaics.com         31   \n",
       "1   31372.txt            https://www.uni-mainz.de         23   \n",
       "2  597387.txt      https://www.voicefmradio.co.uk         29   \n",
       "3  554095.txt         https://www.sfnmjournal.com         26   \n",
       "4  151578.txt  https://www.rewildingargentina.org         33   \n",
       "\n",
       "                       Domain  DomainLength  IsDomainIP  TLD  \\\n",
       "0    www.southbankmosaics.com            24           0  com   \n",
       "1            www.uni-mainz.de            16           0   de   \n",
       "2      www.voicefmradio.co.uk            22           0   uk   \n",
       "3         www.sfnmjournal.com            19           0  com   \n",
       "4  www.rewildingargentina.org            26           0  org   \n",
       "\n",
       "   URLSimilarityIndex  CharContinuationRate  TLDLegitimateProb  ...  Pay  \\\n",
       "0               100.0              1.000000           0.522907  ...    0   \n",
       "1               100.0              0.666667           0.032650  ...    0   \n",
       "2               100.0              0.866667           0.028555  ...    0   \n",
       "3               100.0              1.000000           0.522907  ...    1   \n",
       "4               100.0              1.000000           0.079963  ...    1   \n",
       "\n",
       "   Crypto  HasCopyrightInfo  NoOfImage  NoOfCSS  NoOfJS  NoOfSelfRef  \\\n",
       "0       0                 1         34       20      28          119   \n",
       "1       0                 1         50        9       8           39   \n",
       "2       0                 1         10        2       7           42   \n",
       "3       1                 1          3       27      15           22   \n",
       "4       0                 1        244       15      34           72   \n",
       "\n",
       "   NoOfEmptyRef  NoOfExternalRef  label  \n",
       "0             0              124      1  \n",
       "1             0              217      1  \n",
       "2             2                5      1  \n",
       "3             1               31      1  \n",
       "4             1               85      1  \n",
       "\n",
       "[5 rows x 56 columns]"
      ],
      "text/html": [
       "<div>\n",
       "<style scoped>\n",
       "    .dataframe tbody tr th:only-of-type {\n",
       "        vertical-align: middle;\n",
       "    }\n",
       "\n",
       "    .dataframe tbody tr th {\n",
       "        vertical-align: top;\n",
       "    }\n",
       "\n",
       "    .dataframe thead th {\n",
       "        text-align: right;\n",
       "    }\n",
       "</style>\n",
       "<table border=\"1\" class=\"dataframe\">\n",
       "  <thead>\n",
       "    <tr style=\"text-align: right;\">\n",
       "      <th></th>\n",
       "      <th>FILENAME</th>\n",
       "      <th>URL</th>\n",
       "      <th>URLLength</th>\n",
       "      <th>Domain</th>\n",
       "      <th>DomainLength</th>\n",
       "      <th>IsDomainIP</th>\n",
       "      <th>TLD</th>\n",
       "      <th>URLSimilarityIndex</th>\n",
       "      <th>CharContinuationRate</th>\n",
       "      <th>TLDLegitimateProb</th>\n",
       "      <th>...</th>\n",
       "      <th>Pay</th>\n",
       "      <th>Crypto</th>\n",
       "      <th>HasCopyrightInfo</th>\n",
       "      <th>NoOfImage</th>\n",
       "      <th>NoOfCSS</th>\n",
       "      <th>NoOfJS</th>\n",
       "      <th>NoOfSelfRef</th>\n",
       "      <th>NoOfEmptyRef</th>\n",
       "      <th>NoOfExternalRef</th>\n",
       "      <th>label</th>\n",
       "    </tr>\n",
       "  </thead>\n",
       "  <tbody>\n",
       "    <tr>\n",
       "      <th>0</th>\n",
       "      <td>521848.txt</td>\n",
       "      <td>https://www.southbankmosaics.com</td>\n",
       "      <td>31</td>\n",
       "      <td>www.southbankmosaics.com</td>\n",
       "      <td>24</td>\n",
       "      <td>0</td>\n",
       "      <td>com</td>\n",
       "      <td>100.0</td>\n",
       "      <td>1.000000</td>\n",
       "      <td>0.522907</td>\n",
       "      <td>...</td>\n",
       "      <td>0</td>\n",
       "      <td>0</td>\n",
       "      <td>1</td>\n",
       "      <td>34</td>\n",
       "      <td>20</td>\n",
       "      <td>28</td>\n",
       "      <td>119</td>\n",
       "      <td>0</td>\n",
       "      <td>124</td>\n",
       "      <td>1</td>\n",
       "    </tr>\n",
       "    <tr>\n",
       "      <th>1</th>\n",
       "      <td>31372.txt</td>\n",
       "      <td>https://www.uni-mainz.de</td>\n",
       "      <td>23</td>\n",
       "      <td>www.uni-mainz.de</td>\n",
       "      <td>16</td>\n",
       "      <td>0</td>\n",
       "      <td>de</td>\n",
       "      <td>100.0</td>\n",
       "      <td>0.666667</td>\n",
       "      <td>0.032650</td>\n",
       "      <td>...</td>\n",
       "      <td>0</td>\n",
       "      <td>0</td>\n",
       "      <td>1</td>\n",
       "      <td>50</td>\n",
       "      <td>9</td>\n",
       "      <td>8</td>\n",
       "      <td>39</td>\n",
       "      <td>0</td>\n",
       "      <td>217</td>\n",
       "      <td>1</td>\n",
       "    </tr>\n",
       "    <tr>\n",
       "      <th>2</th>\n",
       "      <td>597387.txt</td>\n",
       "      <td>https://www.voicefmradio.co.uk</td>\n",
       "      <td>29</td>\n",
       "      <td>www.voicefmradio.co.uk</td>\n",
       "      <td>22</td>\n",
       "      <td>0</td>\n",
       "      <td>uk</td>\n",
       "      <td>100.0</td>\n",
       "      <td>0.866667</td>\n",
       "      <td>0.028555</td>\n",
       "      <td>...</td>\n",
       "      <td>0</td>\n",
       "      <td>0</td>\n",
       "      <td>1</td>\n",
       "      <td>10</td>\n",
       "      <td>2</td>\n",
       "      <td>7</td>\n",
       "      <td>42</td>\n",
       "      <td>2</td>\n",
       "      <td>5</td>\n",
       "      <td>1</td>\n",
       "    </tr>\n",
       "    <tr>\n",
       "      <th>3</th>\n",
       "      <td>554095.txt</td>\n",
       "      <td>https://www.sfnmjournal.com</td>\n",
       "      <td>26</td>\n",
       "      <td>www.sfnmjournal.com</td>\n",
       "      <td>19</td>\n",
       "      <td>0</td>\n",
       "      <td>com</td>\n",
       "      <td>100.0</td>\n",
       "      <td>1.000000</td>\n",
       "      <td>0.522907</td>\n",
       "      <td>...</td>\n",
       "      <td>1</td>\n",
       "      <td>1</td>\n",
       "      <td>1</td>\n",
       "      <td>3</td>\n",
       "      <td>27</td>\n",
       "      <td>15</td>\n",
       "      <td>22</td>\n",
       "      <td>1</td>\n",
       "      <td>31</td>\n",
       "      <td>1</td>\n",
       "    </tr>\n",
       "    <tr>\n",
       "      <th>4</th>\n",
       "      <td>151578.txt</td>\n",
       "      <td>https://www.rewildingargentina.org</td>\n",
       "      <td>33</td>\n",
       "      <td>www.rewildingargentina.org</td>\n",
       "      <td>26</td>\n",
       "      <td>0</td>\n",
       "      <td>org</td>\n",
       "      <td>100.0</td>\n",
       "      <td>1.000000</td>\n",
       "      <td>0.079963</td>\n",
       "      <td>...</td>\n",
       "      <td>1</td>\n",
       "      <td>0</td>\n",
       "      <td>1</td>\n",
       "      <td>244</td>\n",
       "      <td>15</td>\n",
       "      <td>34</td>\n",
       "      <td>72</td>\n",
       "      <td>1</td>\n",
       "      <td>85</td>\n",
       "      <td>1</td>\n",
       "    </tr>\n",
       "  </tbody>\n",
       "</table>\n",
       "<p>5 rows × 56 columns</p>\n",
       "</div>"
      ]
     },
     "execution_count": 78,
     "metadata": {},
     "output_type": "execute_result"
    }
   ],
   "execution_count": 78
  },
  {
   "metadata": {
    "ExecuteTime": {
     "end_time": "2025-04-09T04:19:21.207217Z",
     "start_time": "2025-04-09T04:19:21.163768Z"
    }
   },
   "cell_type": "code",
   "source": "df_phishing_UCI.info()",
   "id": "c17b06894d4c7097",
   "outputs": [
    {
     "name": "stdout",
     "output_type": "stream",
     "text": [
      "<class 'pandas.core.frame.DataFrame'>\n",
      "RangeIndex: 235795 entries, 0 to 235794\n",
      "Data columns (total 56 columns):\n",
      " #   Column                      Non-Null Count   Dtype  \n",
      "---  ------                      --------------   -----  \n",
      " 0   FILENAME                    235795 non-null  object \n",
      " 1   URL                         235795 non-null  object \n",
      " 2   URLLength                   235795 non-null  int64  \n",
      " 3   Domain                      235795 non-null  object \n",
      " 4   DomainLength                235795 non-null  int64  \n",
      " 5   IsDomainIP                  235795 non-null  int64  \n",
      " 6   TLD                         235795 non-null  object \n",
      " 7   URLSimilarityIndex          235795 non-null  float64\n",
      " 8   CharContinuationRate        235795 non-null  float64\n",
      " 9   TLDLegitimateProb           235795 non-null  float64\n",
      " 10  URLCharProb                 235795 non-null  float64\n",
      " 11  TLDLength                   235795 non-null  int64  \n",
      " 12  NoOfSubDomain               235795 non-null  int64  \n",
      " 13  HasObfuscation              235795 non-null  int64  \n",
      " 14  NoOfObfuscatedChar          235795 non-null  int64  \n",
      " 15  ObfuscationRatio            235795 non-null  float64\n",
      " 16  NoOfLettersInURL            235795 non-null  int64  \n",
      " 17  LetterRatioInURL            235795 non-null  float64\n",
      " 18  NoOfDegitsInURL             235795 non-null  int64  \n",
      " 19  DegitRatioInURL             235795 non-null  float64\n",
      " 20  NoOfEqualsInURL             235795 non-null  int64  \n",
      " 21  NoOfQMarkInURL              235795 non-null  int64  \n",
      " 22  NoOfAmpersandInURL          235795 non-null  int64  \n",
      " 23  NoOfOtherSpecialCharsInURL  235795 non-null  int64  \n",
      " 24  SpacialCharRatioInURL       235795 non-null  float64\n",
      " 25  IsHTTPS                     235795 non-null  int64  \n",
      " 26  LineOfCode                  235795 non-null  int64  \n",
      " 27  LargestLineLength           235795 non-null  int64  \n",
      " 28  HasTitle                    235795 non-null  int64  \n",
      " 29  Title                       235795 non-null  object \n",
      " 30  DomainTitleMatchScore       235795 non-null  float64\n",
      " 31  URLTitleMatchScore          235795 non-null  float64\n",
      " 32  HasFavicon                  235795 non-null  int64  \n",
      " 33  Robots                      235795 non-null  int64  \n",
      " 34  IsResponsive                235795 non-null  int64  \n",
      " 35  NoOfURLRedirect             235795 non-null  int64  \n",
      " 36  NoOfSelfRedirect            235795 non-null  int64  \n",
      " 37  HasDescription              235795 non-null  int64  \n",
      " 38  NoOfPopup                   235795 non-null  int64  \n",
      " 39  NoOfiFrame                  235795 non-null  int64  \n",
      " 40  HasExternalFormSubmit       235795 non-null  int64  \n",
      " 41  HasSocialNet                235795 non-null  int64  \n",
      " 42  HasSubmitButton             235795 non-null  int64  \n",
      " 43  HasHiddenFields             235795 non-null  int64  \n",
      " 44  HasPasswordField            235795 non-null  int64  \n",
      " 45  Bank                        235795 non-null  int64  \n",
      " 46  Pay                         235795 non-null  int64  \n",
      " 47  Crypto                      235795 non-null  int64  \n",
      " 48  HasCopyrightInfo            235795 non-null  int64  \n",
      " 49  NoOfImage                   235795 non-null  int64  \n",
      " 50  NoOfCSS                     235795 non-null  int64  \n",
      " 51  NoOfJS                      235795 non-null  int64  \n",
      " 52  NoOfSelfRef                 235795 non-null  int64  \n",
      " 53  NoOfEmptyRef                235795 non-null  int64  \n",
      " 54  NoOfExternalRef             235795 non-null  int64  \n",
      " 55  label                       235795 non-null  int64  \n",
      "dtypes: float64(10), int64(41), object(5)\n",
      "memory usage: 100.7+ MB\n"
     ]
    }
   ],
   "execution_count": 79
  },
  {
   "metadata": {
    "ExecuteTime": {
     "end_time": "2025-04-09T04:19:21.228412Z",
     "start_time": "2025-04-09T04:19:21.224716Z"
    }
   },
   "cell_type": "code",
   "source": "df_phishing_UCI.columns",
   "id": "5b83abd5ba21d8cd",
   "outputs": [
    {
     "data": {
      "text/plain": [
       "Index(['FILENAME', 'URL', 'URLLength', 'Domain', 'DomainLength', 'IsDomainIP',\n",
       "       'TLD', 'URLSimilarityIndex', 'CharContinuationRate',\n",
       "       'TLDLegitimateProb', 'URLCharProb', 'TLDLength', 'NoOfSubDomain',\n",
       "       'HasObfuscation', 'NoOfObfuscatedChar', 'ObfuscationRatio',\n",
       "       'NoOfLettersInURL', 'LetterRatioInURL', 'NoOfDegitsInURL',\n",
       "       'DegitRatioInURL', 'NoOfEqualsInURL', 'NoOfQMarkInURL',\n",
       "       'NoOfAmpersandInURL', 'NoOfOtherSpecialCharsInURL',\n",
       "       'SpacialCharRatioInURL', 'IsHTTPS', 'LineOfCode', 'LargestLineLength',\n",
       "       'HasTitle', 'Title', 'DomainTitleMatchScore', 'URLTitleMatchScore',\n",
       "       'HasFavicon', 'Robots', 'IsResponsive', 'NoOfURLRedirect',\n",
       "       'NoOfSelfRedirect', 'HasDescription', 'NoOfPopup', 'NoOfiFrame',\n",
       "       'HasExternalFormSubmit', 'HasSocialNet', 'HasSubmitButton',\n",
       "       'HasHiddenFields', 'HasPasswordField', 'Bank', 'Pay', 'Crypto',\n",
       "       'HasCopyrightInfo', 'NoOfImage', 'NoOfCSS', 'NoOfJS', 'NoOfSelfRef',\n",
       "       'NoOfEmptyRef', 'NoOfExternalRef', 'label'],\n",
       "      dtype='object')"
      ]
     },
     "execution_count": 80,
     "metadata": {},
     "output_type": "execute_result"
    }
   ],
   "execution_count": 80
  },
  {
   "metadata": {
    "ExecuteTime": {
     "end_time": "2025-04-09T04:19:21.282834Z",
     "start_time": "2025-04-09T04:19:21.258446Z"
    }
   },
   "cell_type": "code",
   "source": [
    "categorical_Columns = [ 'URL', 'Domain', 'TLD', 'Title']\n",
    "target_column = 'label'\n",
    "#lets drop the filename column as it is not needed for our analysis\n",
    "df_phishing_UCI.drop(columns=['FILENAME'], inplace=True)"
   ],
   "id": "3ca81846ac3b4221",
   "outputs": [],
   "execution_count": 81
  },
  {
   "metadata": {
    "ExecuteTime": {
     "end_time": "2025-04-09T04:19:21.330161Z",
     "start_time": "2025-04-09T04:19:21.319828Z"
    }
   },
   "cell_type": "code",
   "source": [
    "#Let us check the TLD unique values\n",
    "df_phishing_UCI['TLD'].unique().shape"
   ],
   "id": "1f70aada52e7b0f3",
   "outputs": [
    {
     "data": {
      "text/plain": [
       "(695,)"
      ]
     },
     "execution_count": 82,
     "metadata": {},
     "output_type": "execute_result"
    }
   ],
   "execution_count": 82
  },
  {
   "metadata": {
    "ExecuteTime": {
     "end_time": "2025-04-09T04:19:21.371061Z",
     "start_time": "2025-04-09T04:19:21.340697Z"
    }
   },
   "cell_type": "code",
   "source": [
    "#Let us check the Title unique values\n",
    "df_phishing_UCI['Title'].unique().shape"
   ],
   "id": "a1fb1af45753b0d7",
   "outputs": [
    {
     "data": {
      "text/plain": [
       "(197874,)"
      ]
     },
     "execution_count": 83,
     "metadata": {},
     "output_type": "execute_result"
    }
   ],
   "execution_count": 83
  },
  {
   "metadata": {
    "ExecuteTime": {
     "end_time": "2025-04-09T04:19:21.410352Z",
     "start_time": "2025-04-09T04:19:21.385571Z"
    }
   },
   "cell_type": "code",
   "source": [
    "#Let us check the Domain unique values\n",
    "df_phishing_UCI['Domain'].unique().shape"
   ],
   "id": "c1bf61224c24338f",
   "outputs": [
    {
     "data": {
      "text/plain": [
       "(220086,)"
      ]
     },
     "execution_count": 84,
     "metadata": {},
     "output_type": "execute_result"
    }
   ],
   "execution_count": 84
  },
  {
   "metadata": {
    "ExecuteTime": {
     "end_time": "2025-04-09T04:19:21.431296Z",
     "start_time": "2025-04-09T04:19:21.426314Z"
    }
   },
   "cell_type": "code",
   "source": [
    "#Lets check the label values i.e value counts\n",
    "df_phishing_UCI['label'].value_counts()"
   ],
   "id": "1d4baa22dda99ee3",
   "outputs": [
    {
     "data": {
      "text/plain": [
       "label\n",
       "1    134850\n",
       "0    100945\n",
       "Name: count, dtype: int64"
      ]
     },
     "execution_count": 85,
     "metadata": {},
     "output_type": "execute_result"
    }
   ],
   "execution_count": 85
  },
  {
   "metadata": {
    "ExecuteTime": {
     "end_time": "2025-04-09T04:19:21.712762Z",
     "start_time": "2025-04-09T04:19:21.460447Z"
    }
   },
   "cell_type": "code",
   "source": [
    "#Based on the inspection of data we see 0 is indicating Phishing and 1 is indicating Legitimate. We will use this for our analysis\n",
    "# AS previously noted all the columns have data and there are not null entries\n",
    "#let us create a copy of Dataframe so we can drop columns not needed\n",
    "\n",
    "df_phishing_UCI_copy = df_phishing_UCI.copy()\n",
    "# lets remove the duplicate columns\n",
    "df_phishing_UCI_copy.drop_duplicates(inplace=True)\n",
    "df_phishing_UCI_copy.shape\n"
   ],
   "id": "85b9249acde5dfea",
   "outputs": [
    {
     "data": {
      "text/plain": [
       "(235795, 55)"
      ]
     },
     "execution_count": 86,
     "metadata": {},
     "output_type": "execute_result"
    }
   ],
   "execution_count": 86
  },
  {
   "metadata": {},
   "cell_type": "markdown",
   "source": "#### Since the count before and after matches so there are no duplicate rows and previously we checked that there are no null values as well",
   "id": "2479d2452799830b"
  },
  {
   "metadata": {
    "ExecuteTime": {
     "end_time": "2025-04-09T04:19:21.739075Z",
     "start_time": "2025-04-09T04:19:21.736260Z"
    }
   },
   "cell_type": "code",
   "source": "df_phishing_UCI_copy['label']",
   "id": "bc8632fe84bc7d90",
   "outputs": [
    {
     "data": {
      "text/plain": [
       "0         1\n",
       "1         1\n",
       "2         1\n",
       "3         1\n",
       "4         1\n",
       "         ..\n",
       "235790    1\n",
       "235791    1\n",
       "235792    1\n",
       "235793    0\n",
       "235794    1\n",
       "Name: label, Length: 235795, dtype: int64"
      ]
     },
     "execution_count": 87,
     "metadata": {},
     "output_type": "execute_result"
    }
   ],
   "execution_count": 87
  },
  {
   "metadata": {},
   "cell_type": "markdown",
   "source": "### Changing the label value to have it similar to the other two dataset ie. Phishing = 1 legitimate= 0",
   "id": "3a97349797252537"
  },
  {
   "metadata": {
    "ExecuteTime": {
     "end_time": "2025-04-09T04:19:21.765449Z",
     "start_time": "2025-04-09T04:19:21.761529Z"
    }
   },
   "cell_type": "code",
   "source": [
    "#lets reverse the value of label column i.e 1 is phishing hereafter and 0 is legit . This will help with other dataset showing same\n",
    "df_phishing_UCI_copy['label'] = 1 - df_phishing_UCI_copy['label']"
   ],
   "id": "92650ad4a7ace531",
   "outputs": [],
   "execution_count": 88
  },
  {
   "metadata": {
    "ExecuteTime": {
     "end_time": "2025-04-09T04:19:21.844547Z",
     "start_time": "2025-04-09T04:19:21.794585Z"
    }
   },
   "cell_type": "code",
   "source": [
    "# Create a random sample of 1000 rows while maintaining class balance\n",
    "def create_balanced_sample(df, sample_size=1000, random_state=43):\n",
    "    # calculate the number of samples needed from each class\n",
    "    samples_per_class = sample_size // 2\n",
    "\n",
    "    # split the data by class\n",
    "    spam = df[df['label'] == 1]   # phishing\n",
    "    non_spam = df[df['label'] == 0] # legitimate\n",
    "\n",
    "    # sample equally from each class\n",
    "    spam_sample = spam.sample(n=samples_per_class, random_state=random_state)\n",
    "    non_spam_sample = non_spam.sample(n=samples_per_class, random_state=random_state)\n",
    "\n",
    "    # combine the samples\n",
    "    balanced_sample = pd.concat([spam_sample, non_spam_sample])\n",
    "\n",
    "    # shuffle the combined sample\n",
    "    balanced_sample = balanced_sample.sample(frac=1, random_state=random_state).reset_index(drop=True)\n",
    "\n",
    "    return balanced_sample\n",
    "\n",
    "# create the balanced sample of 500 rows total so we can do the analysis quickly\n",
    "sampled_df = create_balanced_sample(df_phishing_UCI_copy, sample_size= 500, random_state=39)\n",
    "\n",
    "# verify the sample\n",
    "print(\"Original dataset shape:\", df_phishing_UCI_copy.shape)\n",
    "print(\"Sampled dataset shape:\", sampled_df.shape)\n",
    "print(\"\\nClass distribution in sample:\")\n",
    "print(sampled_df['label'].value_counts())\n"
   ],
   "id": "bc19234dea3a0dea",
   "outputs": [
    {
     "name": "stdout",
     "output_type": "stream",
     "text": [
      "Original dataset shape: (235795, 55)\n",
      "Sampled dataset shape: (500, 55)\n",
      "\n",
      "Class distribution in sample:\n",
      "label\n",
      "1    250\n",
      "0    250\n",
      "Name: count, dtype: int64\n"
     ]
    }
   ],
   "execution_count": 89
  },
  {
   "metadata": {
    "ExecuteTime": {
     "end_time": "2025-04-09T04:19:21.851619Z",
     "start_time": "2025-04-09T04:19:21.848870Z"
    }
   },
   "cell_type": "code",
   "source": [
    "# let us vertically split the dataframe into two parts with categorical columns and Target_column= label and the other dataset with all the other columns with Target_column= label\n",
    "df_sample_phishing_UCI_categorical = sampled_df[categorical_Columns+[target_column]]\n",
    "df_sample_phishing_UCI_numerical = sampled_df.drop(columns=categorical_Columns)"
   ],
   "id": "9cf6d8da06c91eb8",
   "outputs": [],
   "execution_count": 90
  },
  {
   "metadata": {
    "ExecuteTime": {
     "end_time": "2025-04-09T04:19:21.881511Z",
     "start_time": "2025-04-09T04:19:21.878165Z"
    }
   },
   "cell_type": "code",
   "source": "df_sample_phishing_UCI_categorical.info()",
   "id": "9ebae0a10c2b19da",
   "outputs": [
    {
     "name": "stdout",
     "output_type": "stream",
     "text": [
      "<class 'pandas.core.frame.DataFrame'>\n",
      "RangeIndex: 500 entries, 0 to 499\n",
      "Data columns (total 5 columns):\n",
      " #   Column  Non-Null Count  Dtype \n",
      "---  ------  --------------  ----- \n",
      " 0   URL     500 non-null    object\n",
      " 1   Domain  500 non-null    object\n",
      " 2   TLD     500 non-null    object\n",
      " 3   Title   500 non-null    object\n",
      " 4   label   500 non-null    int64 \n",
      "dtypes: int64(1), object(4)\n",
      "memory usage: 19.7+ KB\n"
     ]
    }
   ],
   "execution_count": 91
  },
  {
   "metadata": {
    "ExecuteTime": {
     "end_time": "2025-04-09T04:19:21.892431Z",
     "start_time": "2025-04-09T04:19:21.886166Z"
    }
   },
   "cell_type": "code",
   "source": "df_sample_phishing_UCI_numerical.info()",
   "id": "921354f1760ea41e",
   "outputs": [
    {
     "name": "stdout",
     "output_type": "stream",
     "text": [
      "<class 'pandas.core.frame.DataFrame'>\n",
      "RangeIndex: 500 entries, 0 to 499\n",
      "Data columns (total 51 columns):\n",
      " #   Column                      Non-Null Count  Dtype  \n",
      "---  ------                      --------------  -----  \n",
      " 0   URLLength                   500 non-null    int64  \n",
      " 1   DomainLength                500 non-null    int64  \n",
      " 2   IsDomainIP                  500 non-null    int64  \n",
      " 3   URLSimilarityIndex          500 non-null    float64\n",
      " 4   CharContinuationRate        500 non-null    float64\n",
      " 5   TLDLegitimateProb           500 non-null    float64\n",
      " 6   URLCharProb                 500 non-null    float64\n",
      " 7   TLDLength                   500 non-null    int64  \n",
      " 8   NoOfSubDomain               500 non-null    int64  \n",
      " 9   HasObfuscation              500 non-null    int64  \n",
      " 10  NoOfObfuscatedChar          500 non-null    int64  \n",
      " 11  ObfuscationRatio            500 non-null    float64\n",
      " 12  NoOfLettersInURL            500 non-null    int64  \n",
      " 13  LetterRatioInURL            500 non-null    float64\n",
      " 14  NoOfDegitsInURL             500 non-null    int64  \n",
      " 15  DegitRatioInURL             500 non-null    float64\n",
      " 16  NoOfEqualsInURL             500 non-null    int64  \n",
      " 17  NoOfQMarkInURL              500 non-null    int64  \n",
      " 18  NoOfAmpersandInURL          500 non-null    int64  \n",
      " 19  NoOfOtherSpecialCharsInURL  500 non-null    int64  \n",
      " 20  SpacialCharRatioInURL       500 non-null    float64\n",
      " 21  IsHTTPS                     500 non-null    int64  \n",
      " 22  LineOfCode                  500 non-null    int64  \n",
      " 23  LargestLineLength           500 non-null    int64  \n",
      " 24  HasTitle                    500 non-null    int64  \n",
      " 25  DomainTitleMatchScore       500 non-null    float64\n",
      " 26  URLTitleMatchScore          500 non-null    float64\n",
      " 27  HasFavicon                  500 non-null    int64  \n",
      " 28  Robots                      500 non-null    int64  \n",
      " 29  IsResponsive                500 non-null    int64  \n",
      " 30  NoOfURLRedirect             500 non-null    int64  \n",
      " 31  NoOfSelfRedirect            500 non-null    int64  \n",
      " 32  HasDescription              500 non-null    int64  \n",
      " 33  NoOfPopup                   500 non-null    int64  \n",
      " 34  NoOfiFrame                  500 non-null    int64  \n",
      " 35  HasExternalFormSubmit       500 non-null    int64  \n",
      " 36  HasSocialNet                500 non-null    int64  \n",
      " 37  HasSubmitButton             500 non-null    int64  \n",
      " 38  HasHiddenFields             500 non-null    int64  \n",
      " 39  HasPasswordField            500 non-null    int64  \n",
      " 40  Bank                        500 non-null    int64  \n",
      " 41  Pay                         500 non-null    int64  \n",
      " 42  Crypto                      500 non-null    int64  \n",
      " 43  HasCopyrightInfo            500 non-null    int64  \n",
      " 44  NoOfImage                   500 non-null    int64  \n",
      " 45  NoOfCSS                     500 non-null    int64  \n",
      " 46  NoOfJS                      500 non-null    int64  \n",
      " 47  NoOfSelfRef                 500 non-null    int64  \n",
      " 48  NoOfEmptyRef                500 non-null    int64  \n",
      " 49  NoOfExternalRef             500 non-null    int64  \n",
      " 50  label                       500 non-null    int64  \n",
      "dtypes: float64(10), int64(41)\n",
      "memory usage: 199.3 KB\n"
     ]
    }
   ],
   "execution_count": 92
  },
  {
   "metadata": {
    "ExecuteTime": {
     "end_time": "2025-04-09T04:19:21.911665Z",
     "start_time": "2025-04-09T04:19:21.908204Z"
    }
   },
   "cell_type": "code",
   "source": [
    "def remove_constant_columns(df, target_column='label'):\n",
    "    # Retain the target column and remove constant columns\n",
    "    non_constant_columns = df.loc[:, (df != df.iloc[0]).any()]\n",
    "    if target_column not in non_constant_columns.columns:\n",
    "        non_constant_columns[target_column] = df[target_column]\n",
    "    return non_constant_columns\n",
    "\n",
    "def perform_univariate_analysis(df):\n",
    "    # calculate number of rows and columns for subplots\n",
    "    n_features = len(df.columns)\n",
    "    n_cols = 2\n",
    "    n_rows = (n_features + n_cols - 1) // n_cols\n",
    "\n",
    "    # create figure with subplots\n",
    "    fig, axes = plt.subplots(n_rows, n_cols, figsize=(15, 6*n_rows))\n",
    "    fig.suptitle('Univariate Analysis of Features 1= Phishing ', fontsize=16, y=1.02)\n",
    "\n",
    "    # flatten axes array for easier iteration\n",
    "    axes = axes.flatten()\n",
    "\n",
    "    # create histograms and KDE plots for each feature\n",
    "    for idx, column in enumerate(df.columns):\n",
    "        # Histogram with KDE\n",
    "        sns.histplot(data=df, x=column, hue='label', multiple=\"stack\", kde=True, ax=axes[idx])\n",
    "        axes[idx].set_title(f'Distribution of {column}')\n",
    "        axes[idx].set_xlabel(column)\n",
    "        axes[idx].set_ylabel('Count')\n",
    "\n",
    "    # remove empty subplots if any\n",
    "    for idx in range(len(df.columns), len(axes)):\n",
    "        fig.delaxes(axes[idx])\n",
    "\n",
    "    plt.tight_layout()\n",
    "    plt.show()"
   ],
   "id": "a72c892edf4e0e4b",
   "outputs": [],
   "execution_count": 93
  },
  {
   "metadata": {
    "ExecuteTime": {
     "end_time": "2025-04-09T04:19:21.935675Z",
     "start_time": "2025-04-09T04:19:21.931841Z"
    }
   },
   "cell_type": "code",
   "source": [
    "# Method to do bivariate analysis\n",
    "\n",
    "def perform_bivariate_analysis(df):\n",
    "      # create correlation Matrix\n",
    "    plt.figure(figsize=(12, 8))\n",
    "    correlation_matrix = df.corr()\n",
    "    sns.heatmap(correlation_matrix,\n",
    "                annot=True,\n",
    "                cmap='magma',\n",
    "                center=0,\n",
    "                fmt='.2f',\n",
    "                square=True)\n",
    "    plt.title('Correlation Matrix of Features ')\n",
    "    plt.tight_layout()\n",
    "    plt.show()\n",
    "\n",
    "    significant_correlations = create_correlation_df(correlation_matrix, threshold=0.2)\n",
    "    print(\"Significant Correlation values : \", significant_correlations)\n",
    "\n",
    "    # pairplot with KDE\n",
    "    #print(\"generating pairplot ...\")\n",
    "    #sns.pairplot(df, hue='label', diag_kind='kde')\n",
    "    #plt.show()\n",
    "\n",
    "    # violin plots\n",
    "    features = [col for col in df.columns if col != 'label']\n",
    "    n_features = len(features)\n",
    "    n_cols = 2\n",
    "    n_rows = (n_features + n_cols - 1) // n_cols\n",
    "\n",
    "    fig, axes = plt.subplots(n_rows, n_cols, figsize=(15, 6*n_rows))\n",
    "    fig.suptitle('Violin Plots by Label 1- Phishing', fontsize=16, y=1.02)\n",
    "    axes = axes.flatten()\n",
    "\n",
    "    for idx, feature in enumerate(features):\n",
    "        sns.violinplot(data=df, x='label', y=feature, ax=axes[idx])\n",
    "        axes[idx].set_title(f'{feature} by Label')\n",
    "\n",
    "    # remove empty subplots\n",
    "    for idx in range(len(features), len(axes)):\n",
    "        fig.delaxes(axes[idx])\n",
    "\n",
    "    plt.tight_layout()\n",
    "    plt.show()\n",
    "\n",
    "    # generate box plots\n",
    "    fig, axes = plt.subplots(n_rows, n_cols, figsize=(15, 6*n_rows))\n",
    "    fig.suptitle('Box Plots by Label 1 = Phishing', fontsize=16, y=1.02)\n",
    "    axes = axes.flatten()\n",
    "\n",
    "    for idx, feature in enumerate(features):\n",
    "        sns.boxplot(data=df, x='label', y=feature, ax=axes[idx])\n",
    "        axes[idx].set_title(f'{feature} by Label 1 for Phishing')\n",
    "\n",
    "    # Remove empty subplots\n",
    "    for idx in range(len(features), len(axes)):\n",
    "        fig.delaxes(axes[idx])\n",
    "\n",
    "    plt.tight_layout()\n",
    "    plt.show()\n",
    "\n"
   ],
   "id": "dcf11e951d80e764",
   "outputs": [],
   "execution_count": 94
  },
  {
   "metadata": {
    "ExecuteTime": {
     "end_time": "2025-04-09T04:19:21.951060Z",
     "start_time": "2025-04-09T04:19:21.948125Z"
    }
   },
   "cell_type": "code",
   "source": [
    "def perform_kde_analysis(df):\n",
    "    features = [col for col in df.columns if col != 'label']\n",
    "    n_features = len(features)\n",
    "    n_cols = 2\n",
    "    n_rows = (n_features + n_cols - 1) // n_cols\n",
    "\n",
    "    fig, axes = plt.subplots(n_rows, n_cols, figsize=(15, 6*n_rows))\n",
    "    fig.suptitle('KDE Plots by Feature', fontsize=16, y=1.02)\n",
    "    axes = axes.flatten()\n",
    "\n",
    "    for idx, feature in enumerate(features):\n",
    "        sns.kdeplot(data=df, x=feature, hue='label', ax=axes[idx])\n",
    "        axes[idx].set_title(f'KDE Plot of {feature}')\n",
    "\n",
    "    # Remove empty subplots\n",
    "    for idx in range(len(features), len(axes)):\n",
    "        fig.delaxes(axes[idx])\n",
    "\n",
    "    plt.tight_layout()\n",
    "    plt.show()"
   ],
   "id": "f17b7324480b8575",
   "outputs": [],
   "execution_count": 95
  },
  {
   "metadata": {
    "ExecuteTime": {
     "end_time": "2025-04-09T04:19:21.965488Z",
     "start_time": "2025-04-09T04:19:21.963793Z"
    }
   },
   "cell_type": "code",
   "source": [
    "def analyze_phishing_data_CISA_Univariate(df):\n",
    "\t#execute it in the below sequence\n",
    "\tprint(\"Performing Univariate Analysis...\")\n",
    "\tperform_univariate_analysis(df)\n",
    "\n"
   ],
   "id": "4587f8a5dfbaf678",
   "outputs": [],
   "execution_count": 96
  },
  {
   "metadata": {
    "ExecuteTime": {
     "end_time": "2025-04-09T04:19:21.980822Z",
     "start_time": "2025-04-09T04:19:21.978492Z"
    }
   },
   "cell_type": "code",
   "source": [
    "def analyze_phishing_data_CISA_Bivariate(df):\n",
    "\t#execute it in the below sequence\n",
    "\tprint(\"\\nPerforming Bivariate Analysis...\")\n",
    "\tperform_bivariate_analysis(df)\n",
    "\tprint(\"\\nPerforming KDE Analysis...\")\n",
    "\tperform_kde_analysis(df)"
   ],
   "id": "ec79e3fd9929e4a1",
   "outputs": [],
   "execution_count": 97
  },
  {
   "metadata": {
    "ExecuteTime": {
     "end_time": "2025-04-09T04:19:21.996881Z",
     "start_time": "2025-04-09T04:19:21.993699Z"
    }
   },
   "cell_type": "code",
   "source": [
    "def create_correlation_df(correlation_matrix, threshold=0.5):\n",
    "\n",
    "    #  creates a DataFrame of significant correlations.\n",
    "\n",
    "    correlations = []\n",
    "\n",
    "    for i in range(len(correlation_matrix.columns)):\n",
    "        for j in range(i + 1, len(correlation_matrix.columns)):\n",
    "            corr_value = correlation_matrix.iloc[i, j]\n",
    "            if abs(corr_value) >= threshold:\n",
    "                correlations.append({\n",
    "                    'Feature 1': correlation_matrix.columns[i],\n",
    "                    'Feature 2': correlation_matrix.columns[j],\n",
    "                    'Correlation': corr_value\n",
    "                })\n",
    "\n",
    "    corr_df = pd.DataFrame(correlations)\n",
    "    return corr_df.sort_values('Correlation', key=abs, ascending=False)"
   ],
   "id": "9cb8e1bf07862ba3",
   "outputs": [],
   "execution_count": 98
  },
  {
   "metadata": {},
   "cell_type": "markdown",
   "source": [
    "### Uncomment below line if one needs full analysis in one chart\n",
    "\n",
    "### else  call : analyze_phishing_data_CISA_Univariate (df_sample_phishing_UCI_numerical) ... for Univariate\n",
    "\n",
    "###  or call : analyze_phishing_data_CISA_Bivariate (df_sample_phishing_UCI_numerical) ... for Bivariate"
   ],
   "id": "e7f968e690a41431"
  },
  {
   "metadata": {},
   "cell_type": "markdown",
   "source": "## Generate Univariate plots  (will comment the line after execution so as the file executes easily)\n",
   "id": "10471286029b104a"
  },
  {
   "metadata": {
    "ExecuteTime": {
     "end_time": "2025-04-09T04:19:22.011163Z",
     "start_time": "2025-04-09T04:19:22.009675Z"
    }
   },
   "cell_type": "code",
   "source": "# analyze_phishing_data_CISA_Univariate (df_sample_phishing_UCI_numerical)",
   "id": "5b552cabf53ede31",
   "outputs": [],
   "execution_count": 99
  },
  {
   "metadata": {
    "ExecuteTime": {
     "end_time": "2025-04-09T04:19:22.025170Z",
     "start_time": "2025-04-09T04:19:22.023362Z"
    }
   },
   "cell_type": "code",
   "source": "## Generate Bivariate plots  (will comment the line after execution so as the file executes easily",
   "id": "3192ca3c46a2f98e",
   "outputs": [],
   "execution_count": 100
  },
  {
   "metadata": {
    "ExecuteTime": {
     "end_time": "2025-04-09T04:19:22.038706Z",
     "start_time": "2025-04-09T04:19:22.037236Z"
    }
   },
   "cell_type": "code",
   "source": "# analyze_phishing_data_CISA_Bivariate (df_sample_phishing_UCI_numerical)",
   "id": "ca5a4ccd05618728",
   "outputs": [],
   "execution_count": 101
  },
  {
   "metadata": {
    "ExecuteTime": {
     "end_time": "2025-04-09T04:19:22.053507Z",
     "start_time": "2025-04-09T04:19:22.052083Z"
    }
   },
   "cell_type": "code",
   "source": [
    "#Below is needed on if there are constant columns\n",
    "#df_cleaned = remove_constant_columns(df_sample_phishing_UCI_numerical)\n"
   ],
   "id": "b6122c7cd085527b",
   "outputs": [],
   "execution_count": 102
  }
 ],
 "metadata": {
  "kernelspec": {
   "display_name": "Python 3",
   "language": "python",
   "name": "python3"
  },
  "language_info": {
   "codemirror_mode": {
    "name": "ipython",
    "version": 2
   },
   "file_extension": ".py",
   "mimetype": "text/x-python",
   "name": "python",
   "nbconvert_exporter": "python",
   "pygments_lexer": "ipython2",
   "version": "2.7.6"
  }
 },
 "nbformat": 4,
 "nbformat_minor": 5
}
