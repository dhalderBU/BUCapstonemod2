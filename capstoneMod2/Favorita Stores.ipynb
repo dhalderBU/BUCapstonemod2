{
 "cells": [
  {
   "metadata": {},
   "cell_type": "markdown",
   "source": [
    "### Dataset Description\n",
    "\n",
    "#### Dataset Proposed by Kristina   Store Sales - Time Series Forecasting\n",
    "\n",
    "https://kaggle.com/competitions/store-sales-time-series-forecasting"
   ],
   "id": "d4b551cecc824946"
  },
  {
   "metadata": {},
   "cell_type": "markdown",
   "source": [
    "### Dataset Description\n",
    "\n",
    "\n",
    "In this competition, you will predict sales for the thousands of product families sold at Favorita stores located in Ecuador. The training data includes dates, store and product information, whether that item was being promoted, as well as the sales numbers. Additional files include supplementary information that may be useful in building your models.\n",
    "\n",
    "#### File Descriptions and Data Field Information\n",
    "\n",
    "\n",
    "#### train.csv\n",
    "\n",
    "\n",
    "- The training data, comprising time series of features store_nbr, family, and onpromotion as well as the target sales.\n",
    "- store_nbr identifies the store at which the products are sold.\n",
    "- family identifies the type of product sold.\n",
    "- sales gives the total sales for a product family at a particular store at a given date. Fractional values are possible since products can be sold in fractional units (1.5 kg of cheese, for instance, as opposed to 1 bag of chips).\n",
    "- onpromotion gives the total number of items in a product family that were being promoted at a store at a given date.\n",
    "\n",
    "\n",
    "#### test.csv\n",
    "\n",
    "\n",
    "- The test data, having the same features as the training data. You will predict the target sales for the dates in this file.\n",
    "- The dates in the test data are for the 15 days after the last date in the training data.\n",
    " \n",
    "\n",
    "#### stores.csv\n",
    "\n",
    "\n",
    "- Store metadata, including city, state, type, and cluster.\n",
    "- cluster is a grouping of similar stores.\n",
    "\n",
    "\n",
    "#### oil.csv\n",
    "\n",
    "\n",
    "-Daily oil price. Includes values during both the train and test data timeframes. (Ecuador is an oil-dependent country and it's economical health is highly vulnerable to shocks in oil prices.)\n",
    "\n",
    "\n",
    "#### holidays_events.csv\n",
    "\n",
    "\n",
    "- Holidays and Events, with metadata\n",
    "- NOTE: Pay special attention to the transferred column. A holiday that is transferred officially falls on that calendar day, but was moved to another date by the government. A transferred day is more like a normal day than a holiday. To find the day that it was actually celebrated, look for the corresponding row where type is Transfer. For example, the holiday Independencia de Guayaquil was transferred from 2012-10-09 to 2012-10-12, which means it was celebrated on 2012-10-12. Days that are type Bridge are extra days that are added to a holiday (e.g., to extend the break across a long weekend). These are frequently made up by the type Work Day which is a day not normally scheduled for work (e.g., Saturday) that is meant to payback the Bridge.\n",
    "- Additional holidays are days added a regular calendar holiday, for example, as typically happens around Christmas (making Christmas Eve a holiday).\n",
    "- \n",
    "Additional Notes\n",
    "\n",
    "- Wages in the public sector are paid every two weeks on the 15 th and on the last day of the month. Supermarket sales could be affected by this.\n",
    "A magnitude 7.8 earthquake struck Ecuador on April 16, 2016. People rallied in relief efforts donating water and other first need products which greatly affected supermarket sales for several weeks after the earthquake."
   ],
   "id": "57b7e9313c8a112e"
  },
  {
   "metadata": {
    "ExecuteTime": {
     "end_time": "2025-04-17T05:56:54.918573Z",
     "start_time": "2025-04-17T05:56:54.916963Z"
    }
   },
   "cell_type": "code",
   "source": [
    "from pydoc import describe\n",
    "\n",
    "import numpy as np\n",
    "import pandas as pd \n",
    "import matplotlib as mpl\n",
    "import matplotlib.pyplot as plt\n",
    "import seaborn as sns\n",
    "\n"
   ],
   "id": "2d390bb92182f0d4",
   "outputs": [],
   "execution_count": 1
  },
  {
   "metadata": {
    "ExecuteTime": {
     "end_time": "2025-04-17T05:56:54.924018Z",
     "start_time": "2025-04-17T05:56:54.922543Z"
    }
   },
   "cell_type": "code",
   "source": "import os\n",
   "id": "580bebaef5a1dad5",
   "outputs": [],
   "execution_count": 2
  },
  {
   "metadata": {
    "ExecuteTime": {
     "end_time": "2025-04-17T05:56:55.985987Z",
     "start_time": "2025-04-17T05:56:55.006680Z"
    }
   },
   "cell_type": "code",
   "source": [
    "path = './data_favorita/'\n",
    "os.listdir(path)\n",
    "\n",
    "data_oil=pd.read_csv(path+'oil.csv')\n",
    "data_holidays_events=pd.read_csv(path+'holidays_events.csv')\n",
    "data_stores=pd.read_csv(path+'stores.csv')\n",
    "data_train=pd.read_csv(path+'train.csv',parse_dates=['date'])\n",
    "#data_test=pd.read_csv(path+'test.csv',parse_dates=['date'])\n",
    "data_transactions=pd.read_csv(path+'transactions.csv')\n"
   ],
   "id": "9c23110d06500e8f",
   "outputs": [],
   "execution_count": 3
  },
  {
   "metadata": {
    "ExecuteTime": {
     "end_time": "2025-04-17T05:56:56.001434Z",
     "start_time": "2025-04-17T05:56:55.996971Z"
    }
   },
   "cell_type": "code",
   "source": "data_stores.info()",
   "id": "26049a45d8f08edf",
   "outputs": [
    {
     "name": "stdout",
     "output_type": "stream",
     "text": [
      "<class 'pandas.core.frame.DataFrame'>\n",
      "RangeIndex: 54 entries, 0 to 53\n",
      "Data columns (total 5 columns):\n",
      " #   Column     Non-Null Count  Dtype \n",
      "---  ------     --------------  ----- \n",
      " 0   store_nbr  54 non-null     int64 \n",
      " 1   city       54 non-null     object\n",
      " 2   state      54 non-null     object\n",
      " 3   type       54 non-null     object\n",
      " 4   cluster    54 non-null     int64 \n",
      "dtypes: int64(2), object(3)\n",
      "memory usage: 2.2+ KB\n"
     ]
    }
   ],
   "execution_count": 4
  },
  {
   "metadata": {
    "ExecuteTime": {
     "end_time": "2025-04-17T05:56:56.018728Z",
     "start_time": "2025-04-17T05:56:56.011457Z"
    }
   },
   "cell_type": "code",
   "source": "data_stores.describe([1/3,2/3])",
   "id": "4734c9ecb1eda1e8",
   "outputs": [
    {
     "data": {
      "text/plain": [
       "       store_nbr    cluster\n",
       "count  54.000000  54.000000\n",
       "mean   27.500000   8.481481\n",
       "std    15.732133   4.693395\n",
       "min     1.000000   1.000000\n",
       "33.3%  18.666667   6.000000\n",
       "50%    27.500000   8.500000\n",
       "66.7%  36.333333  11.000000\n",
       "max    54.000000  17.000000"
      ],
      "text/html": [
       "<div>\n",
       "<style scoped>\n",
       "    .dataframe tbody tr th:only-of-type {\n",
       "        vertical-align: middle;\n",
       "    }\n",
       "\n",
       "    .dataframe tbody tr th {\n",
       "        vertical-align: top;\n",
       "    }\n",
       "\n",
       "    .dataframe thead th {\n",
       "        text-align: right;\n",
       "    }\n",
       "</style>\n",
       "<table border=\"1\" class=\"dataframe\">\n",
       "  <thead>\n",
       "    <tr style=\"text-align: right;\">\n",
       "      <th></th>\n",
       "      <th>store_nbr</th>\n",
       "      <th>cluster</th>\n",
       "    </tr>\n",
       "  </thead>\n",
       "  <tbody>\n",
       "    <tr>\n",
       "      <th>count</th>\n",
       "      <td>54.000000</td>\n",
       "      <td>54.000000</td>\n",
       "    </tr>\n",
       "    <tr>\n",
       "      <th>mean</th>\n",
       "      <td>27.500000</td>\n",
       "      <td>8.481481</td>\n",
       "    </tr>\n",
       "    <tr>\n",
       "      <th>std</th>\n",
       "      <td>15.732133</td>\n",
       "      <td>4.693395</td>\n",
       "    </tr>\n",
       "    <tr>\n",
       "      <th>min</th>\n",
       "      <td>1.000000</td>\n",
       "      <td>1.000000</td>\n",
       "    </tr>\n",
       "    <tr>\n",
       "      <th>33.3%</th>\n",
       "      <td>18.666667</td>\n",
       "      <td>6.000000</td>\n",
       "    </tr>\n",
       "    <tr>\n",
       "      <th>50%</th>\n",
       "      <td>27.500000</td>\n",
       "      <td>8.500000</td>\n",
       "    </tr>\n",
       "    <tr>\n",
       "      <th>66.7%</th>\n",
       "      <td>36.333333</td>\n",
       "      <td>11.000000</td>\n",
       "    </tr>\n",
       "    <tr>\n",
       "      <th>max</th>\n",
       "      <td>54.000000</td>\n",
       "      <td>17.000000</td>\n",
       "    </tr>\n",
       "  </tbody>\n",
       "</table>\n",
       "</div>"
      ]
     },
     "execution_count": 5,
     "metadata": {},
     "output_type": "execute_result"
    }
   ],
   "execution_count": 5
  },
  {
   "metadata": {
    "ExecuteTime": {
     "end_time": "2025-04-17T05:56:56.049344Z",
     "start_time": "2025-04-17T05:56:56.045438Z"
    }
   },
   "cell_type": "code",
   "source": "data_stores.isnull().sum()",
   "id": "f1a63dec11f6b498",
   "outputs": [
    {
     "data": {
      "text/plain": [
       "store_nbr    0\n",
       "city         0\n",
       "state        0\n",
       "type         0\n",
       "cluster      0\n",
       "dtype: int64"
      ]
     },
     "execution_count": 6,
     "metadata": {},
     "output_type": "execute_result"
    }
   ],
   "execution_count": 6
  },
  {
   "metadata": {
    "ExecuteTime": {
     "end_time": "2025-04-17T05:56:56.089301Z",
     "start_time": "2025-04-17T05:56:56.086145Z"
    }
   },
   "cell_type": "code",
   "source": "data_stores.duplicated().sum()",
   "id": "cb794055716a38cc",
   "outputs": [
    {
     "data": {
      "text/plain": [
       "np.int64(0)"
      ]
     },
     "execution_count": 7,
     "metadata": {},
     "output_type": "execute_result"
    }
   ],
   "execution_count": 7
  },
  {
   "metadata": {
    "ExecuteTime": {
     "end_time": "2025-04-17T05:56:56.162235Z",
     "start_time": "2025-04-17T05:56:56.157088Z"
    }
   },
   "cell_type": "code",
   "source": "data_stores.head()",
   "id": "e19933a7ac521a41",
   "outputs": [
    {
     "data": {
      "text/plain": [
       "   store_nbr           city                           state type  cluster\n",
       "0          1          Quito                       Pichincha    D       13\n",
       "1          2          Quito                       Pichincha    D       13\n",
       "2          3          Quito                       Pichincha    D        8\n",
       "3          4          Quito                       Pichincha    D        9\n",
       "4          5  Santo Domingo  Santo Domingo de los Tsachilas    D        4"
      ],
      "text/html": [
       "<div>\n",
       "<style scoped>\n",
       "    .dataframe tbody tr th:only-of-type {\n",
       "        vertical-align: middle;\n",
       "    }\n",
       "\n",
       "    .dataframe tbody tr th {\n",
       "        vertical-align: top;\n",
       "    }\n",
       "\n",
       "    .dataframe thead th {\n",
       "        text-align: right;\n",
       "    }\n",
       "</style>\n",
       "<table border=\"1\" class=\"dataframe\">\n",
       "  <thead>\n",
       "    <tr style=\"text-align: right;\">\n",
       "      <th></th>\n",
       "      <th>store_nbr</th>\n",
       "      <th>city</th>\n",
       "      <th>state</th>\n",
       "      <th>type</th>\n",
       "      <th>cluster</th>\n",
       "    </tr>\n",
       "  </thead>\n",
       "  <tbody>\n",
       "    <tr>\n",
       "      <th>0</th>\n",
       "      <td>1</td>\n",
       "      <td>Quito</td>\n",
       "      <td>Pichincha</td>\n",
       "      <td>D</td>\n",
       "      <td>13</td>\n",
       "    </tr>\n",
       "    <tr>\n",
       "      <th>1</th>\n",
       "      <td>2</td>\n",
       "      <td>Quito</td>\n",
       "      <td>Pichincha</td>\n",
       "      <td>D</td>\n",
       "      <td>13</td>\n",
       "    </tr>\n",
       "    <tr>\n",
       "      <th>2</th>\n",
       "      <td>3</td>\n",
       "      <td>Quito</td>\n",
       "      <td>Pichincha</td>\n",
       "      <td>D</td>\n",
       "      <td>8</td>\n",
       "    </tr>\n",
       "    <tr>\n",
       "      <th>3</th>\n",
       "      <td>4</td>\n",
       "      <td>Quito</td>\n",
       "      <td>Pichincha</td>\n",
       "      <td>D</td>\n",
       "      <td>9</td>\n",
       "    </tr>\n",
       "    <tr>\n",
       "      <th>4</th>\n",
       "      <td>5</td>\n",
       "      <td>Santo Domingo</td>\n",
       "      <td>Santo Domingo de los Tsachilas</td>\n",
       "      <td>D</td>\n",
       "      <td>4</td>\n",
       "    </tr>\n",
       "  </tbody>\n",
       "</table>\n",
       "</div>"
      ]
     },
     "execution_count": 8,
     "metadata": {},
     "output_type": "execute_result"
    }
   ],
   "execution_count": 8
  },
  {
   "metadata": {},
   "cell_type": "markdown",
   "source": [
    "#### No duplicates and null found so this looks fairly clean in the first go\n",
    "\n",
    "#### Now lets look at the transactions data\n",
    "\n"
   ],
   "id": "a36d72c08b4f7d18"
  },
  {
   "metadata": {
    "ExecuteTime": {
     "end_time": "2025-04-17T05:56:56.241256Z",
     "start_time": "2025-04-17T05:56:56.239842Z"
    }
   },
   "cell_type": "code",
   "source": "",
   "id": "e980060d27145d79",
   "outputs": [],
   "execution_count": null
  },
  {
   "metadata": {
    "ExecuteTime": {
     "end_time": "2025-04-17T05:56:56.372255Z",
     "start_time": "2025-04-17T05:56:56.366306Z"
    }
   },
   "cell_type": "code",
   "source": "data_transactions.info()",
   "id": "f0bf08e37d9625e",
   "outputs": [
    {
     "name": "stdout",
     "output_type": "stream",
     "text": [
      "<class 'pandas.core.frame.DataFrame'>\n",
      "RangeIndex: 83488 entries, 0 to 83487\n",
      "Data columns (total 3 columns):\n",
      " #   Column        Non-Null Count  Dtype \n",
      "---  ------        --------------  ----- \n",
      " 0   date          83488 non-null  object\n",
      " 1   store_nbr     83488 non-null  int64 \n",
      " 2   transactions  83488 non-null  int64 \n",
      "dtypes: int64(2), object(1)\n",
      "memory usage: 1.9+ MB\n"
     ]
    }
   ],
   "execution_count": 9
  },
  {
   "metadata": {
    "ExecuteTime": {
     "end_time": "2025-04-17T05:56:56.437941Z",
     "start_time": "2025-04-17T05:56:56.429459Z"
    }
   },
   "cell_type": "code",
   "source": "data_transactions.duplicated().sum()",
   "id": "d803b00cce2b4464",
   "outputs": [
    {
     "data": {
      "text/plain": [
       "np.int64(0)"
      ]
     },
     "execution_count": 10,
     "metadata": {},
     "output_type": "execute_result"
    }
   ],
   "execution_count": 10
  },
  {
   "metadata": {
    "ExecuteTime": {
     "end_time": "2025-04-17T05:56:56.482051Z",
     "start_time": "2025-04-17T05:56:56.475066Z"
    }
   },
   "cell_type": "code",
   "source": "data_transactions.isnull().sum()",
   "id": "f1643ec37f55fd28",
   "outputs": [
    {
     "data": {
      "text/plain": [
       "date            0\n",
       "store_nbr       0\n",
       "transactions    0\n",
       "dtype: int64"
      ]
     },
     "execution_count": 11,
     "metadata": {},
     "output_type": "execute_result"
    }
   ],
   "execution_count": 11
  },
  {
   "metadata": {
    "ExecuteTime": {
     "end_time": "2025-04-17T05:56:56.524492Z",
     "start_time": "2025-04-17T05:56:56.518357Z"
    }
   },
   "cell_type": "code",
   "source": "data_transactions.isna().sum()",
   "id": "6bd9fb694f5de320",
   "outputs": [
    {
     "data": {
      "text/plain": [
       "date            0\n",
       "store_nbr       0\n",
       "transactions    0\n",
       "dtype: int64"
      ]
     },
     "execution_count": 12,
     "metadata": {},
     "output_type": "execute_result"
    }
   ],
   "execution_count": 12
  },
  {
   "metadata": {
    "ExecuteTime": {
     "end_time": "2025-04-17T05:56:56.582006Z",
     "start_time": "2025-04-17T05:56:56.578860Z"
    }
   },
   "cell_type": "code",
   "source": "data_transactions.head()",
   "id": "f5e93b8ccd780141",
   "outputs": [
    {
     "data": {
      "text/plain": [
       "         date  store_nbr  transactions\n",
       "0  2013-01-01         25           770\n",
       "1  2013-01-02          1          2111\n",
       "2  2013-01-02          2          2358\n",
       "3  2013-01-02          3          3487\n",
       "4  2013-01-02          4          1922"
      ],
      "text/html": [
       "<div>\n",
       "<style scoped>\n",
       "    .dataframe tbody tr th:only-of-type {\n",
       "        vertical-align: middle;\n",
       "    }\n",
       "\n",
       "    .dataframe tbody tr th {\n",
       "        vertical-align: top;\n",
       "    }\n",
       "\n",
       "    .dataframe thead th {\n",
       "        text-align: right;\n",
       "    }\n",
       "</style>\n",
       "<table border=\"1\" class=\"dataframe\">\n",
       "  <thead>\n",
       "    <tr style=\"text-align: right;\">\n",
       "      <th></th>\n",
       "      <th>date</th>\n",
       "      <th>store_nbr</th>\n",
       "      <th>transactions</th>\n",
       "    </tr>\n",
       "  </thead>\n",
       "  <tbody>\n",
       "    <tr>\n",
       "      <th>0</th>\n",
       "      <td>2013-01-01</td>\n",
       "      <td>25</td>\n",
       "      <td>770</td>\n",
       "    </tr>\n",
       "    <tr>\n",
       "      <th>1</th>\n",
       "      <td>2013-01-02</td>\n",
       "      <td>1</td>\n",
       "      <td>2111</td>\n",
       "    </tr>\n",
       "    <tr>\n",
       "      <th>2</th>\n",
       "      <td>2013-01-02</td>\n",
       "      <td>2</td>\n",
       "      <td>2358</td>\n",
       "    </tr>\n",
       "    <tr>\n",
       "      <th>3</th>\n",
       "      <td>2013-01-02</td>\n",
       "      <td>3</td>\n",
       "      <td>3487</td>\n",
       "    </tr>\n",
       "    <tr>\n",
       "      <th>4</th>\n",
       "      <td>2013-01-02</td>\n",
       "      <td>4</td>\n",
       "      <td>1922</td>\n",
       "    </tr>\n",
       "  </tbody>\n",
       "</table>\n",
       "</div>"
      ]
     },
     "execution_count": 13,
     "metadata": {},
     "output_type": "execute_result"
    }
   ],
   "execution_count": 13
  },
  {
   "metadata": {},
   "cell_type": "markdown",
   "source": "##### let us change the dtype of the date column",
   "id": "27585e103c56e2b2"
  },
  {
   "metadata": {
    "ExecuteTime": {
     "end_time": "2025-04-17T05:56:56.656910Z",
     "start_time": "2025-04-17T05:56:56.647144Z"
    }
   },
   "cell_type": "code",
   "source": [
    "try:\n",
    "\tdata_transactions[\"date\"] = pd.to_datetime(data_transactions[\"date\"], format='%Y-%m-%d')\n",
    "\tprint(\"It worked!\")\n",
    "except ValueError as e:\n",
    "\tprint(f\"ValueError for AccountOpened: {e}\")\n",
    "data_transactions[\"date\"].describe()"
   ],
   "id": "b5d51f90a6871c86",
   "outputs": [
    {
     "name": "stdout",
     "output_type": "stream",
     "text": [
      "It worked!\n"
     ]
    },
    {
     "data": {
      "text/plain": [
       "count                            83488\n",
       "mean     2015-05-20 16:07:40.866232064\n",
       "min                2013-01-01 00:00:00\n",
       "25%                2014-03-27 00:00:00\n",
       "50%                2015-06-08 00:00:00\n",
       "75%                2016-07-14 06:00:00\n",
       "max                2017-08-15 00:00:00\n",
       "Name: date, dtype: object"
      ]
     },
     "execution_count": 14,
     "metadata": {},
     "output_type": "execute_result"
    }
   ],
   "execution_count": 14
  },
  {
   "metadata": {},
   "cell_type": "markdown",
   "source": "#### Lets join the store and the transactions data\n",
   "id": "213efa228f54d6f5"
  },
  {
   "metadata": {
    "ExecuteTime": {
     "end_time": "2025-04-17T05:56:56.706951Z",
     "start_time": "2025-04-17T05:56:56.699930Z"
    }
   },
   "cell_type": "code",
   "source": "data_transactions_stores=data_transactions.merge(data_stores,on='store_nbr',how='left')",
   "id": "afb9185a9c0ff63a",
   "outputs": [],
   "execution_count": 15
  },
  {
   "metadata": {
    "ExecuteTime": {
     "end_time": "2025-04-17T05:56:56.790686Z",
     "start_time": "2025-04-17T05:56:56.786447Z"
    }
   },
   "cell_type": "code",
   "source": "data_transactions_stores.head()",
   "id": "356987e450ed1c43",
   "outputs": [
    {
     "data": {
      "text/plain": [
       "        date  store_nbr  transactions     city        state type  cluster\n",
       "0 2013-01-01         25           770  Salinas  Santa Elena    D        1\n",
       "1 2013-01-02          1          2111    Quito    Pichincha    D       13\n",
       "2 2013-01-02          2          2358    Quito    Pichincha    D       13\n",
       "3 2013-01-02          3          3487    Quito    Pichincha    D        8\n",
       "4 2013-01-02          4          1922    Quito    Pichincha    D        9"
      ],
      "text/html": [
       "<div>\n",
       "<style scoped>\n",
       "    .dataframe tbody tr th:only-of-type {\n",
       "        vertical-align: middle;\n",
       "    }\n",
       "\n",
       "    .dataframe tbody tr th {\n",
       "        vertical-align: top;\n",
       "    }\n",
       "\n",
       "    .dataframe thead th {\n",
       "        text-align: right;\n",
       "    }\n",
       "</style>\n",
       "<table border=\"1\" class=\"dataframe\">\n",
       "  <thead>\n",
       "    <tr style=\"text-align: right;\">\n",
       "      <th></th>\n",
       "      <th>date</th>\n",
       "      <th>store_nbr</th>\n",
       "      <th>transactions</th>\n",
       "      <th>city</th>\n",
       "      <th>state</th>\n",
       "      <th>type</th>\n",
       "      <th>cluster</th>\n",
       "    </tr>\n",
       "  </thead>\n",
       "  <tbody>\n",
       "    <tr>\n",
       "      <th>0</th>\n",
       "      <td>2013-01-01</td>\n",
       "      <td>25</td>\n",
       "      <td>770</td>\n",
       "      <td>Salinas</td>\n",
       "      <td>Santa Elena</td>\n",
       "      <td>D</td>\n",
       "      <td>1</td>\n",
       "    </tr>\n",
       "    <tr>\n",
       "      <th>1</th>\n",
       "      <td>2013-01-02</td>\n",
       "      <td>1</td>\n",
       "      <td>2111</td>\n",
       "      <td>Quito</td>\n",
       "      <td>Pichincha</td>\n",
       "      <td>D</td>\n",
       "      <td>13</td>\n",
       "    </tr>\n",
       "    <tr>\n",
       "      <th>2</th>\n",
       "      <td>2013-01-02</td>\n",
       "      <td>2</td>\n",
       "      <td>2358</td>\n",
       "      <td>Quito</td>\n",
       "      <td>Pichincha</td>\n",
       "      <td>D</td>\n",
       "      <td>13</td>\n",
       "    </tr>\n",
       "    <tr>\n",
       "      <th>3</th>\n",
       "      <td>2013-01-02</td>\n",
       "      <td>3</td>\n",
       "      <td>3487</td>\n",
       "      <td>Quito</td>\n",
       "      <td>Pichincha</td>\n",
       "      <td>D</td>\n",
       "      <td>8</td>\n",
       "    </tr>\n",
       "    <tr>\n",
       "      <th>4</th>\n",
       "      <td>2013-01-02</td>\n",
       "      <td>4</td>\n",
       "      <td>1922</td>\n",
       "      <td>Quito</td>\n",
       "      <td>Pichincha</td>\n",
       "      <td>D</td>\n",
       "      <td>9</td>\n",
       "    </tr>\n",
       "  </tbody>\n",
       "</table>\n",
       "</div>"
      ]
     },
     "execution_count": 16,
     "metadata": {},
     "output_type": "execute_result"
    }
   ],
   "execution_count": 16
  },
  {
   "metadata": {},
   "cell_type": "markdown",
   "source": "#### Now lets look at the holidays and events data",
   "id": "f64672f4393058f9"
  },
  {
   "metadata": {
    "ExecuteTime": {
     "end_time": "2025-04-17T05:56:56.850463Z",
     "start_time": "2025-04-17T05:56:56.846422Z"
    }
   },
   "cell_type": "code",
   "source": "data_holidays_events.info()",
   "id": "e27da21bc1241b3b",
   "outputs": [
    {
     "name": "stdout",
     "output_type": "stream",
     "text": [
      "<class 'pandas.core.frame.DataFrame'>\n",
      "RangeIndex: 350 entries, 0 to 349\n",
      "Data columns (total 6 columns):\n",
      " #   Column       Non-Null Count  Dtype \n",
      "---  ------       --------------  ----- \n",
      " 0   date         350 non-null    object\n",
      " 1   type         350 non-null    object\n",
      " 2   locale       350 non-null    object\n",
      " 3   locale_name  350 non-null    object\n",
      " 4   description  350 non-null    object\n",
      " 5   transferred  350 non-null    bool  \n",
      "dtypes: bool(1), object(5)\n",
      "memory usage: 14.1+ KB\n"
     ]
    }
   ],
   "execution_count": 17
  },
  {
   "metadata": {
    "ExecuteTime": {
     "end_time": "2025-04-17T05:56:56.925662Z",
     "start_time": "2025-04-17T05:56:56.920900Z"
    }
   },
   "cell_type": "code",
   "source": [
    "try:\n",
    "\tdata_holidays_events[\"date\"] = pd.to_datetime(data_holidays_events[\"date\"], format='%Y-%m-%d')\n",
    "\tprint(\"It worked!\")\n",
    "except ValueError as e:\n",
    "\tprint(f\"ValueError for AccountOpened: {e}\")\n",
    "data_holidays_events[\"date\"].describe()"
   ],
   "id": "d73ce68c2db8d7df",
   "outputs": [
    {
     "name": "stdout",
     "output_type": "stream",
     "text": [
      "It worked!\n"
     ]
    },
    {
     "data": {
      "text/plain": [
       "count                              350\n",
       "mean     2015-04-24 00:45:15.428571392\n",
       "min                2012-03-02 00:00:00\n",
       "25%                2013-12-23 06:00:00\n",
       "50%                2015-06-08 00:00:00\n",
       "75%                2016-07-03 00:00:00\n",
       "max                2017-12-26 00:00:00\n",
       "Name: date, dtype: object"
      ]
     },
     "execution_count": 18,
     "metadata": {},
     "output_type": "execute_result"
    }
   ],
   "execution_count": 18
  },
  {
   "metadata": {
    "ExecuteTime": {
     "end_time": "2025-04-17T05:56:56.985911Z",
     "start_time": "2025-04-17T05:56:56.981627Z"
    }
   },
   "cell_type": "code",
   "source": "data_holidays_events.describe()",
   "id": "735721fc37f5801a",
   "outputs": [
    {
     "data": {
      "text/plain": [
       "                                date\n",
       "count                            350\n",
       "mean   2015-04-24 00:45:15.428571392\n",
       "min              2012-03-02 00:00:00\n",
       "25%              2013-12-23 06:00:00\n",
       "50%              2015-06-08 00:00:00\n",
       "75%              2016-07-03 00:00:00\n",
       "max              2017-12-26 00:00:00"
      ],
      "text/html": [
       "<div>\n",
       "<style scoped>\n",
       "    .dataframe tbody tr th:only-of-type {\n",
       "        vertical-align: middle;\n",
       "    }\n",
       "\n",
       "    .dataframe tbody tr th {\n",
       "        vertical-align: top;\n",
       "    }\n",
       "\n",
       "    .dataframe thead th {\n",
       "        text-align: right;\n",
       "    }\n",
       "</style>\n",
       "<table border=\"1\" class=\"dataframe\">\n",
       "  <thead>\n",
       "    <tr style=\"text-align: right;\">\n",
       "      <th></th>\n",
       "      <th>date</th>\n",
       "    </tr>\n",
       "  </thead>\n",
       "  <tbody>\n",
       "    <tr>\n",
       "      <th>count</th>\n",
       "      <td>350</td>\n",
       "    </tr>\n",
       "    <tr>\n",
       "      <th>mean</th>\n",
       "      <td>2015-04-24 00:45:15.428571392</td>\n",
       "    </tr>\n",
       "    <tr>\n",
       "      <th>min</th>\n",
       "      <td>2012-03-02 00:00:00</td>\n",
       "    </tr>\n",
       "    <tr>\n",
       "      <th>25%</th>\n",
       "      <td>2013-12-23 06:00:00</td>\n",
       "    </tr>\n",
       "    <tr>\n",
       "      <th>50%</th>\n",
       "      <td>2015-06-08 00:00:00</td>\n",
       "    </tr>\n",
       "    <tr>\n",
       "      <th>75%</th>\n",
       "      <td>2016-07-03 00:00:00</td>\n",
       "    </tr>\n",
       "    <tr>\n",
       "      <th>max</th>\n",
       "      <td>2017-12-26 00:00:00</td>\n",
       "    </tr>\n",
       "  </tbody>\n",
       "</table>\n",
       "</div>"
      ]
     },
     "execution_count": 19,
     "metadata": {},
     "output_type": "execute_result"
    }
   ],
   "execution_count": 19
  },
  {
   "metadata": {
    "ExecuteTime": {
     "end_time": "2025-04-17T05:56:57.067856Z",
     "start_time": "2025-04-17T05:56:57.064007Z"
    }
   },
   "cell_type": "code",
   "source": "data_holidays_events.isnull().sum()",
   "id": "b19ab83be4d84e7f",
   "outputs": [
    {
     "data": {
      "text/plain": [
       "date           0\n",
       "type           0\n",
       "locale         0\n",
       "locale_name    0\n",
       "description    0\n",
       "transferred    0\n",
       "dtype: int64"
      ]
     },
     "execution_count": 20,
     "metadata": {},
     "output_type": "execute_result"
    }
   ],
   "execution_count": 20
  },
  {
   "metadata": {
    "ExecuteTime": {
     "end_time": "2025-04-17T05:56:57.144715Z",
     "start_time": "2025-04-17T05:56:57.141626Z"
    }
   },
   "cell_type": "code",
   "source": "data_holidays_events.duplicated().sum()",
   "id": "8a09a5ec3a8306e4",
   "outputs": [
    {
     "data": {
      "text/plain": [
       "np.int64(0)"
      ]
     },
     "execution_count": 21,
     "metadata": {},
     "output_type": "execute_result"
    }
   ],
   "execution_count": 21
  },
  {
   "metadata": {
    "ExecuteTime": {
     "end_time": "2025-04-17T05:56:57.203795Z",
     "start_time": "2025-04-17T05:56:57.199399Z"
    }
   },
   "cell_type": "code",
   "source": "data_holidays_events.isna().sum()",
   "id": "7dcd88674d56080",
   "outputs": [
    {
     "data": {
      "text/plain": [
       "date           0\n",
       "type           0\n",
       "locale         0\n",
       "locale_name    0\n",
       "description    0\n",
       "transferred    0\n",
       "dtype: int64"
      ]
     },
     "execution_count": 22,
     "metadata": {},
     "output_type": "execute_result"
    }
   ],
   "execution_count": 22
  },
  {
   "metadata": {
    "ExecuteTime": {
     "end_time": "2025-04-17T05:56:57.274730Z",
     "start_time": "2025-04-17T05:56:57.269503Z"
    }
   },
   "cell_type": "code",
   "source": "data_holidays_events.head()",
   "id": "426a6824530535c3",
   "outputs": [
    {
     "data": {
      "text/plain": [
       "        date     type    locale locale_name                    description  \\\n",
       "0 2012-03-02  Holiday     Local       Manta             Fundacion de Manta   \n",
       "1 2012-04-01  Holiday  Regional    Cotopaxi  Provincializacion de Cotopaxi   \n",
       "2 2012-04-12  Holiday     Local      Cuenca            Fundacion de Cuenca   \n",
       "3 2012-04-14  Holiday     Local    Libertad      Cantonizacion de Libertad   \n",
       "4 2012-04-21  Holiday     Local    Riobamba      Cantonizacion de Riobamba   \n",
       "\n",
       "   transferred  \n",
       "0        False  \n",
       "1        False  \n",
       "2        False  \n",
       "3        False  \n",
       "4        False  "
      ],
      "text/html": [
       "<div>\n",
       "<style scoped>\n",
       "    .dataframe tbody tr th:only-of-type {\n",
       "        vertical-align: middle;\n",
       "    }\n",
       "\n",
       "    .dataframe tbody tr th {\n",
       "        vertical-align: top;\n",
       "    }\n",
       "\n",
       "    .dataframe thead th {\n",
       "        text-align: right;\n",
       "    }\n",
       "</style>\n",
       "<table border=\"1\" class=\"dataframe\">\n",
       "  <thead>\n",
       "    <tr style=\"text-align: right;\">\n",
       "      <th></th>\n",
       "      <th>date</th>\n",
       "      <th>type</th>\n",
       "      <th>locale</th>\n",
       "      <th>locale_name</th>\n",
       "      <th>description</th>\n",
       "      <th>transferred</th>\n",
       "    </tr>\n",
       "  </thead>\n",
       "  <tbody>\n",
       "    <tr>\n",
       "      <th>0</th>\n",
       "      <td>2012-03-02</td>\n",
       "      <td>Holiday</td>\n",
       "      <td>Local</td>\n",
       "      <td>Manta</td>\n",
       "      <td>Fundacion de Manta</td>\n",
       "      <td>False</td>\n",
       "    </tr>\n",
       "    <tr>\n",
       "      <th>1</th>\n",
       "      <td>2012-04-01</td>\n",
       "      <td>Holiday</td>\n",
       "      <td>Regional</td>\n",
       "      <td>Cotopaxi</td>\n",
       "      <td>Provincializacion de Cotopaxi</td>\n",
       "      <td>False</td>\n",
       "    </tr>\n",
       "    <tr>\n",
       "      <th>2</th>\n",
       "      <td>2012-04-12</td>\n",
       "      <td>Holiday</td>\n",
       "      <td>Local</td>\n",
       "      <td>Cuenca</td>\n",
       "      <td>Fundacion de Cuenca</td>\n",
       "      <td>False</td>\n",
       "    </tr>\n",
       "    <tr>\n",
       "      <th>3</th>\n",
       "      <td>2012-04-14</td>\n",
       "      <td>Holiday</td>\n",
       "      <td>Local</td>\n",
       "      <td>Libertad</td>\n",
       "      <td>Cantonizacion de Libertad</td>\n",
       "      <td>False</td>\n",
       "    </tr>\n",
       "    <tr>\n",
       "      <th>4</th>\n",
       "      <td>2012-04-21</td>\n",
       "      <td>Holiday</td>\n",
       "      <td>Local</td>\n",
       "      <td>Riobamba</td>\n",
       "      <td>Cantonizacion de Riobamba</td>\n",
       "      <td>False</td>\n",
       "    </tr>\n",
       "  </tbody>\n",
       "</table>\n",
       "</div>"
      ]
     },
     "execution_count": 23,
     "metadata": {},
     "output_type": "execute_result"
    }
   ],
   "execution_count": 23
  },
  {
   "metadata": {},
   "cell_type": "markdown",
   "source": "#### Now lets look at the oil data",
   "id": "18d7bddf7ffdc099"
  },
  {
   "metadata": {
    "ExecuteTime": {
     "end_time": "2025-04-17T05:56:57.352084Z",
     "start_time": "2025-04-17T05:56:57.347601Z"
    }
   },
   "cell_type": "code",
   "source": "data_oil.info()",
   "id": "e9a01d88531036e0",
   "outputs": [
    {
     "name": "stdout",
     "output_type": "stream",
     "text": [
      "<class 'pandas.core.frame.DataFrame'>\n",
      "RangeIndex: 1218 entries, 0 to 1217\n",
      "Data columns (total 2 columns):\n",
      " #   Column      Non-Null Count  Dtype  \n",
      "---  ------      --------------  -----  \n",
      " 0   date        1218 non-null   object \n",
      " 1   dcoilwtico  1175 non-null   float64\n",
      "dtypes: float64(1), object(1)\n",
      "memory usage: 19.2+ KB\n"
     ]
    }
   ],
   "execution_count": 24
  },
  {
   "metadata": {
    "ExecuteTime": {
     "end_time": "2025-04-17T05:56:57.417582Z",
     "start_time": "2025-04-17T05:56:57.413001Z"
    }
   },
   "cell_type": "code",
   "source": "data_oil.describe()",
   "id": "582124c05040487a",
   "outputs": [
    {
     "data": {
      "text/plain": [
       "        dcoilwtico\n",
       "count  1175.000000\n",
       "mean     67.714366\n",
       "std      25.630476\n",
       "min      26.190000\n",
       "25%      46.405000\n",
       "50%      53.190000\n",
       "75%      95.660000\n",
       "max     110.620000"
      ],
      "text/html": [
       "<div>\n",
       "<style scoped>\n",
       "    .dataframe tbody tr th:only-of-type {\n",
       "        vertical-align: middle;\n",
       "    }\n",
       "\n",
       "    .dataframe tbody tr th {\n",
       "        vertical-align: top;\n",
       "    }\n",
       "\n",
       "    .dataframe thead th {\n",
       "        text-align: right;\n",
       "    }\n",
       "</style>\n",
       "<table border=\"1\" class=\"dataframe\">\n",
       "  <thead>\n",
       "    <tr style=\"text-align: right;\">\n",
       "      <th></th>\n",
       "      <th>dcoilwtico</th>\n",
       "    </tr>\n",
       "  </thead>\n",
       "  <tbody>\n",
       "    <tr>\n",
       "      <th>count</th>\n",
       "      <td>1175.000000</td>\n",
       "    </tr>\n",
       "    <tr>\n",
       "      <th>mean</th>\n",
       "      <td>67.714366</td>\n",
       "    </tr>\n",
       "    <tr>\n",
       "      <th>std</th>\n",
       "      <td>25.630476</td>\n",
       "    </tr>\n",
       "    <tr>\n",
       "      <th>min</th>\n",
       "      <td>26.190000</td>\n",
       "    </tr>\n",
       "    <tr>\n",
       "      <th>25%</th>\n",
       "      <td>46.405000</td>\n",
       "    </tr>\n",
       "    <tr>\n",
       "      <th>50%</th>\n",
       "      <td>53.190000</td>\n",
       "    </tr>\n",
       "    <tr>\n",
       "      <th>75%</th>\n",
       "      <td>95.660000</td>\n",
       "    </tr>\n",
       "    <tr>\n",
       "      <th>max</th>\n",
       "      <td>110.620000</td>\n",
       "    </tr>\n",
       "  </tbody>\n",
       "</table>\n",
       "</div>"
      ]
     },
     "execution_count": 25,
     "metadata": {},
     "output_type": "execute_result"
    }
   ],
   "execution_count": 25
  },
  {
   "metadata": {
    "ExecuteTime": {
     "end_time": "2025-04-17T05:56:57.502006Z",
     "start_time": "2025-04-17T05:56:57.495054Z"
    }
   },
   "cell_type": "code",
   "source": "data_oil.isnull().sum()",
   "id": "c6ac69df4616a5e1",
   "outputs": [
    {
     "data": {
      "text/plain": [
       "date           0\n",
       "dcoilwtico    43\n",
       "dtype: int64"
      ]
     },
     "execution_count": 26,
     "metadata": {},
     "output_type": "execute_result"
    }
   ],
   "execution_count": 26
  },
  {
   "metadata": {},
   "cell_type": "markdown",
   "source": "#### So oIl data has null data and will need cleaning or imputation.Lets analyze the oil file further\n",
   "id": "42df309b26d16b3f"
  },
  {
   "metadata": {
    "ExecuteTime": {
     "end_time": "2025-04-17T05:56:57.552175Z",
     "start_time": "2025-04-17T05:56:57.548591Z"
    }
   },
   "cell_type": "code",
   "source": "data_oil.head()",
   "id": "5f7e7b8907fcdf1d",
   "outputs": [
    {
     "data": {
      "text/plain": [
       "         date  dcoilwtico\n",
       "0  2013-01-01         NaN\n",
       "1  2013-01-02       93.14\n",
       "2  2013-01-03       92.97\n",
       "3  2013-01-04       93.12\n",
       "4  2013-01-07       93.20"
      ],
      "text/html": [
       "<div>\n",
       "<style scoped>\n",
       "    .dataframe tbody tr th:only-of-type {\n",
       "        vertical-align: middle;\n",
       "    }\n",
       "\n",
       "    .dataframe tbody tr th {\n",
       "        vertical-align: top;\n",
       "    }\n",
       "\n",
       "    .dataframe thead th {\n",
       "        text-align: right;\n",
       "    }\n",
       "</style>\n",
       "<table border=\"1\" class=\"dataframe\">\n",
       "  <thead>\n",
       "    <tr style=\"text-align: right;\">\n",
       "      <th></th>\n",
       "      <th>date</th>\n",
       "      <th>dcoilwtico</th>\n",
       "    </tr>\n",
       "  </thead>\n",
       "  <tbody>\n",
       "    <tr>\n",
       "      <th>0</th>\n",
       "      <td>2013-01-01</td>\n",
       "      <td>NaN</td>\n",
       "    </tr>\n",
       "    <tr>\n",
       "      <th>1</th>\n",
       "      <td>2013-01-02</td>\n",
       "      <td>93.14</td>\n",
       "    </tr>\n",
       "    <tr>\n",
       "      <th>2</th>\n",
       "      <td>2013-01-03</td>\n",
       "      <td>92.97</td>\n",
       "    </tr>\n",
       "    <tr>\n",
       "      <th>3</th>\n",
       "      <td>2013-01-04</td>\n",
       "      <td>93.12</td>\n",
       "    </tr>\n",
       "    <tr>\n",
       "      <th>4</th>\n",
       "      <td>2013-01-07</td>\n",
       "      <td>93.20</td>\n",
       "    </tr>\n",
       "  </tbody>\n",
       "</table>\n",
       "</div>"
      ]
     },
     "execution_count": 27,
     "metadata": {},
     "output_type": "execute_result"
    }
   ],
   "execution_count": 27
  },
  {
   "metadata": {},
   "cell_type": "markdown",
   "source": "Let us change teh date to date time64 object type",
   "id": "206f4dfc5fed5d6e"
  },
  {
   "metadata": {
    "ExecuteTime": {
     "end_time": "2025-04-17T05:56:57.646147Z",
     "start_time": "2025-04-17T05:56:57.638942Z"
    }
   },
   "cell_type": "code",
   "source": [
    "try:\n",
    "\tdata_oil[\"date\"] = pd.to_datetime(data_oil[\"date\"], format='%Y-%m-%d')\n",
    "\tprint(\"It worked!\")\n",
    "except ValueError as e:\n",
    "\tprint(f\"ValueError for AccountOpened: {e}\")\n",
    "data_oil[\"date\"].describe()\n"
   ],
   "id": "9622693b31e1900d",
   "outputs": [
    {
     "name": "stdout",
     "output_type": "stream",
     "text": [
      "It worked!\n"
     ]
    },
    {
     "data": {
      "text/plain": [
       "count                   1218\n",
       "mean     2015-05-02 12:00:00\n",
       "min      2013-01-01 00:00:00\n",
       "25%      2014-03-03 06:00:00\n",
       "50%      2015-05-02 12:00:00\n",
       "75%      2016-06-30 18:00:00\n",
       "max      2017-08-31 00:00:00\n",
       "Name: date, dtype: object"
      ]
     },
     "execution_count": 28,
     "metadata": {},
     "output_type": "execute_result"
    }
   ],
   "execution_count": 28
  },
  {
   "metadata": {
    "ExecuteTime": {
     "end_time": "2025-04-17T05:56:57.750213Z",
     "start_time": "2025-04-17T05:56:57.745719Z"
    }
   },
   "cell_type": "code",
   "source": [
    "# Impute missing oil prices with the price from the previous row\n",
    "#data_oil['dcoilwtico'].fillna(method='ffill', inplace=True)\n",
    "data_oil[\"dcoilwtico\"].ffill()"
   ],
   "id": "b10485ca383ae888",
   "outputs": [
    {
     "data": {
      "text/plain": [
       "0         NaN\n",
       "1       93.14\n",
       "2       92.97\n",
       "3       93.12\n",
       "4       93.20\n",
       "        ...  \n",
       "1213    47.65\n",
       "1214    46.40\n",
       "1215    46.46\n",
       "1216    45.96\n",
       "1217    47.26\n",
       "Name: dcoilwtico, Length: 1218, dtype: float64"
      ]
     },
     "execution_count": 29,
     "metadata": {},
     "output_type": "execute_result"
    }
   ],
   "execution_count": 29
  },
  {
   "metadata": {
    "ExecuteTime": {
     "end_time": "2025-04-17T05:56:57.816058Z",
     "start_time": "2025-04-17T05:56:57.812947Z"
    }
   },
   "cell_type": "code",
   "source": "data_oil.duplicated().sum()",
   "id": "ffa5ef44f38fba4d",
   "outputs": [
    {
     "data": {
      "text/plain": [
       "np.int64(0)"
      ]
     },
     "execution_count": 30,
     "metadata": {},
     "output_type": "execute_result"
    }
   ],
   "execution_count": 30
  },
  {
   "metadata": {
    "ExecuteTime": {
     "end_time": "2025-04-17T05:56:57.886437Z",
     "start_time": "2025-04-17T05:56:57.875742Z"
    }
   },
   "cell_type": "code",
   "source": "data_oil.isnull().sum()",
   "id": "ecacf67f38916f73",
   "outputs": [
    {
     "data": {
      "text/plain": [
       "date           0\n",
       "dcoilwtico    43\n",
       "dtype: int64"
      ]
     },
     "execution_count": 31,
     "metadata": {},
     "output_type": "execute_result"
    }
   ],
   "execution_count": 31
  },
  {
   "metadata": {
    "ExecuteTime": {
     "end_time": "2025-04-17T05:56:58.004192Z",
     "start_time": "2025-04-17T05:56:57.995299Z"
    }
   },
   "cell_type": "code",
   "source": [
    "mean_price = data_oil['dcoilwtico'].mean()\n",
    "#data_oil['dcoilwtico'].fillna(mean_price, inplace=True)\n",
    "data_oil.fillna({'dcoilwtico': mean_price}, inplace=True)\n"
   ],
   "id": "a4b85fc25a336f0e",
   "outputs": [],
   "execution_count": 32
  },
  {
   "metadata": {
    "ExecuteTime": {
     "end_time": "2025-04-17T05:56:58.091663Z",
     "start_time": "2025-04-17T05:56:58.084650Z"
    }
   },
   "cell_type": "code",
   "source": "data_oil.isnull().sum()",
   "id": "1f1426234522695a",
   "outputs": [
    {
     "data": {
      "text/plain": [
       "date          0\n",
       "dcoilwtico    0\n",
       "dtype: int64"
      ]
     },
     "execution_count": 33,
     "metadata": {},
     "output_type": "execute_result"
    }
   ],
   "execution_count": 33
  },
  {
   "metadata": {},
   "cell_type": "markdown",
   "source": "#### so oil data doesnt have any duplicate values and there are no more null values and the date is converted to datetime64 which will et us do mathmatical operations on it",
   "id": "8c325b5a9cc499c2"
  },
  {
   "metadata": {},
   "cell_type": "markdown",
   "source": "#### Let us now look at the train data\n",
   "id": "f211de1f4d21bed7"
  },
  {
   "metadata": {
    "ExecuteTime": {
     "end_time": "2025-04-17T05:56:58.179143Z",
     "start_time": "2025-04-17T05:56:58.174289Z"
    }
   },
   "cell_type": "code",
   "source": "data_train.info()",
   "id": "b3331cadb3d4b5bc",
   "outputs": [
    {
     "name": "stdout",
     "output_type": "stream",
     "text": [
      "<class 'pandas.core.frame.DataFrame'>\n",
      "RangeIndex: 3000888 entries, 0 to 3000887\n",
      "Data columns (total 6 columns):\n",
      " #   Column       Dtype         \n",
      "---  ------       -----         \n",
      " 0   id           int64         \n",
      " 1   date         datetime64[ns]\n",
      " 2   store_nbr    int64         \n",
      " 3   family       object        \n",
      " 4   sales        float64       \n",
      " 5   onpromotion  int64         \n",
      "dtypes: datetime64[ns](1), float64(1), int64(3), object(1)\n",
      "memory usage: 137.4+ MB\n"
     ]
    }
   ],
   "execution_count": 34
  },
  {
   "metadata": {
    "ExecuteTime": {
     "end_time": "2025-04-17T05:56:58.582334Z",
     "start_time": "2025-04-17T05:56:58.235472Z"
    }
   },
   "cell_type": "code",
   "source": "data_train.describe()",
   "id": "315ebb15b5d58d85",
   "outputs": [
    {
     "data": {
      "text/plain": [
       "                 id                           date     store_nbr  \\\n",
       "count  3.000888e+06                        3000888  3.000888e+06   \n",
       "mean   1.500444e+06  2015-04-24 08:27:04.703088384  2.750000e+01   \n",
       "min    0.000000e+00            2013-01-01 00:00:00  1.000000e+00   \n",
       "25%    7.502218e+05            2014-02-26 18:00:00  1.400000e+01   \n",
       "50%    1.500444e+06            2015-04-24 12:00:00  2.750000e+01   \n",
       "75%    2.250665e+06            2016-06-19 06:00:00  4.100000e+01   \n",
       "max    3.000887e+06            2017-08-15 00:00:00  5.400000e+01   \n",
       "std    8.662819e+05                            NaN  1.558579e+01   \n",
       "\n",
       "              sales   onpromotion  \n",
       "count  3.000888e+06  3.000888e+06  \n",
       "mean   3.577757e+02  2.602770e+00  \n",
       "min    0.000000e+00  0.000000e+00  \n",
       "25%    0.000000e+00  0.000000e+00  \n",
       "50%    1.100000e+01  0.000000e+00  \n",
       "75%    1.958473e+02  0.000000e+00  \n",
       "max    1.247170e+05  7.410000e+02  \n",
       "std    1.101998e+03  1.221888e+01  "
      ],
      "text/html": [
       "<div>\n",
       "<style scoped>\n",
       "    .dataframe tbody tr th:only-of-type {\n",
       "        vertical-align: middle;\n",
       "    }\n",
       "\n",
       "    .dataframe tbody tr th {\n",
       "        vertical-align: top;\n",
       "    }\n",
       "\n",
       "    .dataframe thead th {\n",
       "        text-align: right;\n",
       "    }\n",
       "</style>\n",
       "<table border=\"1\" class=\"dataframe\">\n",
       "  <thead>\n",
       "    <tr style=\"text-align: right;\">\n",
       "      <th></th>\n",
       "      <th>id</th>\n",
       "      <th>date</th>\n",
       "      <th>store_nbr</th>\n",
       "      <th>sales</th>\n",
       "      <th>onpromotion</th>\n",
       "    </tr>\n",
       "  </thead>\n",
       "  <tbody>\n",
       "    <tr>\n",
       "      <th>count</th>\n",
       "      <td>3.000888e+06</td>\n",
       "      <td>3000888</td>\n",
       "      <td>3.000888e+06</td>\n",
       "      <td>3.000888e+06</td>\n",
       "      <td>3.000888e+06</td>\n",
       "    </tr>\n",
       "    <tr>\n",
       "      <th>mean</th>\n",
       "      <td>1.500444e+06</td>\n",
       "      <td>2015-04-24 08:27:04.703088384</td>\n",
       "      <td>2.750000e+01</td>\n",
       "      <td>3.577757e+02</td>\n",
       "      <td>2.602770e+00</td>\n",
       "    </tr>\n",
       "    <tr>\n",
       "      <th>min</th>\n",
       "      <td>0.000000e+00</td>\n",
       "      <td>2013-01-01 00:00:00</td>\n",
       "      <td>1.000000e+00</td>\n",
       "      <td>0.000000e+00</td>\n",
       "      <td>0.000000e+00</td>\n",
       "    </tr>\n",
       "    <tr>\n",
       "      <th>25%</th>\n",
       "      <td>7.502218e+05</td>\n",
       "      <td>2014-02-26 18:00:00</td>\n",
       "      <td>1.400000e+01</td>\n",
       "      <td>0.000000e+00</td>\n",
       "      <td>0.000000e+00</td>\n",
       "    </tr>\n",
       "    <tr>\n",
       "      <th>50%</th>\n",
       "      <td>1.500444e+06</td>\n",
       "      <td>2015-04-24 12:00:00</td>\n",
       "      <td>2.750000e+01</td>\n",
       "      <td>1.100000e+01</td>\n",
       "      <td>0.000000e+00</td>\n",
       "    </tr>\n",
       "    <tr>\n",
       "      <th>75%</th>\n",
       "      <td>2.250665e+06</td>\n",
       "      <td>2016-06-19 06:00:00</td>\n",
       "      <td>4.100000e+01</td>\n",
       "      <td>1.958473e+02</td>\n",
       "      <td>0.000000e+00</td>\n",
       "    </tr>\n",
       "    <tr>\n",
       "      <th>max</th>\n",
       "      <td>3.000887e+06</td>\n",
       "      <td>2017-08-15 00:00:00</td>\n",
       "      <td>5.400000e+01</td>\n",
       "      <td>1.247170e+05</td>\n",
       "      <td>7.410000e+02</td>\n",
       "    </tr>\n",
       "    <tr>\n",
       "      <th>std</th>\n",
       "      <td>8.662819e+05</td>\n",
       "      <td>NaN</td>\n",
       "      <td>1.558579e+01</td>\n",
       "      <td>1.101998e+03</td>\n",
       "      <td>1.221888e+01</td>\n",
       "    </tr>\n",
       "  </tbody>\n",
       "</table>\n",
       "</div>"
      ]
     },
     "execution_count": 35,
     "metadata": {},
     "output_type": "execute_result"
    }
   ],
   "execution_count": 35
  },
  {
   "metadata": {
    "ExecuteTime": {
     "end_time": "2025-04-17T05:56:58.702423Z",
     "start_time": "2025-04-17T05:56:58.611913Z"
    }
   },
   "cell_type": "code",
   "source": "data_train.isnull().sum()",
   "id": "4d6f5cfbae059ef8",
   "outputs": [
    {
     "data": {
      "text/plain": [
       "id             0\n",
       "date           0\n",
       "store_nbr      0\n",
       "family         0\n",
       "sales          0\n",
       "onpromotion    0\n",
       "dtype: int64"
      ]
     },
     "execution_count": 36,
     "metadata": {},
     "output_type": "execute_result"
    }
   ],
   "execution_count": 36
  },
  {
   "metadata": {
    "ExecuteTime": {
     "end_time": "2025-04-17T05:56:59.291339Z",
     "start_time": "2025-04-17T05:56:58.724862Z"
    }
   },
   "cell_type": "code",
   "source": "data_train.duplicated().sum()",
   "id": "2aedace37512f062",
   "outputs": [
    {
     "data": {
      "text/plain": [
       "np.int64(0)"
      ]
     },
     "execution_count": 37,
     "metadata": {},
     "output_type": "execute_result"
    }
   ],
   "execution_count": 37
  },
  {
   "metadata": {
    "ExecuteTime": {
     "end_time": "2025-04-17T05:56:59.317836Z",
     "start_time": "2025-04-17T05:56:59.312440Z"
    }
   },
   "cell_type": "code",
   "source": "data_train.head(20)",
   "id": "33f598149daca6",
   "outputs": [
    {
     "data": {
      "text/plain": [
       "    id       date  store_nbr               family  sales  onpromotion\n",
       "0    0 2013-01-01          1           AUTOMOTIVE    0.0            0\n",
       "1    1 2013-01-01          1            BABY CARE    0.0            0\n",
       "2    2 2013-01-01          1               BEAUTY    0.0            0\n",
       "3    3 2013-01-01          1            BEVERAGES    0.0            0\n",
       "4    4 2013-01-01          1                BOOKS    0.0            0\n",
       "5    5 2013-01-01          1         BREAD/BAKERY    0.0            0\n",
       "6    6 2013-01-01          1          CELEBRATION    0.0            0\n",
       "7    7 2013-01-01          1             CLEANING    0.0            0\n",
       "8    8 2013-01-01          1                DAIRY    0.0            0\n",
       "9    9 2013-01-01          1                 DELI    0.0            0\n",
       "10  10 2013-01-01          1                 EGGS    0.0            0\n",
       "11  11 2013-01-01          1         FROZEN FOODS    0.0            0\n",
       "12  12 2013-01-01          1            GROCERY I    0.0            0\n",
       "13  13 2013-01-01          1           GROCERY II    0.0            0\n",
       "14  14 2013-01-01          1             HARDWARE    0.0            0\n",
       "15  15 2013-01-01          1   HOME AND KITCHEN I    0.0            0\n",
       "16  16 2013-01-01          1  HOME AND KITCHEN II    0.0            0\n",
       "17  17 2013-01-01          1      HOME APPLIANCES    0.0            0\n",
       "18  18 2013-01-01          1            HOME CARE    0.0            0\n",
       "19  19 2013-01-01          1           LADIESWEAR    0.0            0"
      ],
      "text/html": [
       "<div>\n",
       "<style scoped>\n",
       "    .dataframe tbody tr th:only-of-type {\n",
       "        vertical-align: middle;\n",
       "    }\n",
       "\n",
       "    .dataframe tbody tr th {\n",
       "        vertical-align: top;\n",
       "    }\n",
       "\n",
       "    .dataframe thead th {\n",
       "        text-align: right;\n",
       "    }\n",
       "</style>\n",
       "<table border=\"1\" class=\"dataframe\">\n",
       "  <thead>\n",
       "    <tr style=\"text-align: right;\">\n",
       "      <th></th>\n",
       "      <th>id</th>\n",
       "      <th>date</th>\n",
       "      <th>store_nbr</th>\n",
       "      <th>family</th>\n",
       "      <th>sales</th>\n",
       "      <th>onpromotion</th>\n",
       "    </tr>\n",
       "  </thead>\n",
       "  <tbody>\n",
       "    <tr>\n",
       "      <th>0</th>\n",
       "      <td>0</td>\n",
       "      <td>2013-01-01</td>\n",
       "      <td>1</td>\n",
       "      <td>AUTOMOTIVE</td>\n",
       "      <td>0.0</td>\n",
       "      <td>0</td>\n",
       "    </tr>\n",
       "    <tr>\n",
       "      <th>1</th>\n",
       "      <td>1</td>\n",
       "      <td>2013-01-01</td>\n",
       "      <td>1</td>\n",
       "      <td>BABY CARE</td>\n",
       "      <td>0.0</td>\n",
       "      <td>0</td>\n",
       "    </tr>\n",
       "    <tr>\n",
       "      <th>2</th>\n",
       "      <td>2</td>\n",
       "      <td>2013-01-01</td>\n",
       "      <td>1</td>\n",
       "      <td>BEAUTY</td>\n",
       "      <td>0.0</td>\n",
       "      <td>0</td>\n",
       "    </tr>\n",
       "    <tr>\n",
       "      <th>3</th>\n",
       "      <td>3</td>\n",
       "      <td>2013-01-01</td>\n",
       "      <td>1</td>\n",
       "      <td>BEVERAGES</td>\n",
       "      <td>0.0</td>\n",
       "      <td>0</td>\n",
       "    </tr>\n",
       "    <tr>\n",
       "      <th>4</th>\n",
       "      <td>4</td>\n",
       "      <td>2013-01-01</td>\n",
       "      <td>1</td>\n",
       "      <td>BOOKS</td>\n",
       "      <td>0.0</td>\n",
       "      <td>0</td>\n",
       "    </tr>\n",
       "    <tr>\n",
       "      <th>5</th>\n",
       "      <td>5</td>\n",
       "      <td>2013-01-01</td>\n",
       "      <td>1</td>\n",
       "      <td>BREAD/BAKERY</td>\n",
       "      <td>0.0</td>\n",
       "      <td>0</td>\n",
       "    </tr>\n",
       "    <tr>\n",
       "      <th>6</th>\n",
       "      <td>6</td>\n",
       "      <td>2013-01-01</td>\n",
       "      <td>1</td>\n",
       "      <td>CELEBRATION</td>\n",
       "      <td>0.0</td>\n",
       "      <td>0</td>\n",
       "    </tr>\n",
       "    <tr>\n",
       "      <th>7</th>\n",
       "      <td>7</td>\n",
       "      <td>2013-01-01</td>\n",
       "      <td>1</td>\n",
       "      <td>CLEANING</td>\n",
       "      <td>0.0</td>\n",
       "      <td>0</td>\n",
       "    </tr>\n",
       "    <tr>\n",
       "      <th>8</th>\n",
       "      <td>8</td>\n",
       "      <td>2013-01-01</td>\n",
       "      <td>1</td>\n",
       "      <td>DAIRY</td>\n",
       "      <td>0.0</td>\n",
       "      <td>0</td>\n",
       "    </tr>\n",
       "    <tr>\n",
       "      <th>9</th>\n",
       "      <td>9</td>\n",
       "      <td>2013-01-01</td>\n",
       "      <td>1</td>\n",
       "      <td>DELI</td>\n",
       "      <td>0.0</td>\n",
       "      <td>0</td>\n",
       "    </tr>\n",
       "    <tr>\n",
       "      <th>10</th>\n",
       "      <td>10</td>\n",
       "      <td>2013-01-01</td>\n",
       "      <td>1</td>\n",
       "      <td>EGGS</td>\n",
       "      <td>0.0</td>\n",
       "      <td>0</td>\n",
       "    </tr>\n",
       "    <tr>\n",
       "      <th>11</th>\n",
       "      <td>11</td>\n",
       "      <td>2013-01-01</td>\n",
       "      <td>1</td>\n",
       "      <td>FROZEN FOODS</td>\n",
       "      <td>0.0</td>\n",
       "      <td>0</td>\n",
       "    </tr>\n",
       "    <tr>\n",
       "      <th>12</th>\n",
       "      <td>12</td>\n",
       "      <td>2013-01-01</td>\n",
       "      <td>1</td>\n",
       "      <td>GROCERY I</td>\n",
       "      <td>0.0</td>\n",
       "      <td>0</td>\n",
       "    </tr>\n",
       "    <tr>\n",
       "      <th>13</th>\n",
       "      <td>13</td>\n",
       "      <td>2013-01-01</td>\n",
       "      <td>1</td>\n",
       "      <td>GROCERY II</td>\n",
       "      <td>0.0</td>\n",
       "      <td>0</td>\n",
       "    </tr>\n",
       "    <tr>\n",
       "      <th>14</th>\n",
       "      <td>14</td>\n",
       "      <td>2013-01-01</td>\n",
       "      <td>1</td>\n",
       "      <td>HARDWARE</td>\n",
       "      <td>0.0</td>\n",
       "      <td>0</td>\n",
       "    </tr>\n",
       "    <tr>\n",
       "      <th>15</th>\n",
       "      <td>15</td>\n",
       "      <td>2013-01-01</td>\n",
       "      <td>1</td>\n",
       "      <td>HOME AND KITCHEN I</td>\n",
       "      <td>0.0</td>\n",
       "      <td>0</td>\n",
       "    </tr>\n",
       "    <tr>\n",
       "      <th>16</th>\n",
       "      <td>16</td>\n",
       "      <td>2013-01-01</td>\n",
       "      <td>1</td>\n",
       "      <td>HOME AND KITCHEN II</td>\n",
       "      <td>0.0</td>\n",
       "      <td>0</td>\n",
       "    </tr>\n",
       "    <tr>\n",
       "      <th>17</th>\n",
       "      <td>17</td>\n",
       "      <td>2013-01-01</td>\n",
       "      <td>1</td>\n",
       "      <td>HOME APPLIANCES</td>\n",
       "      <td>0.0</td>\n",
       "      <td>0</td>\n",
       "    </tr>\n",
       "    <tr>\n",
       "      <th>18</th>\n",
       "      <td>18</td>\n",
       "      <td>2013-01-01</td>\n",
       "      <td>1</td>\n",
       "      <td>HOME CARE</td>\n",
       "      <td>0.0</td>\n",
       "      <td>0</td>\n",
       "    </tr>\n",
       "    <tr>\n",
       "      <th>19</th>\n",
       "      <td>19</td>\n",
       "      <td>2013-01-01</td>\n",
       "      <td>1</td>\n",
       "      <td>LADIESWEAR</td>\n",
       "      <td>0.0</td>\n",
       "      <td>0</td>\n",
       "    </tr>\n",
       "  </tbody>\n",
       "</table>\n",
       "</div>"
      ]
     },
     "execution_count": 38,
     "metadata": {},
     "output_type": "execute_result"
    }
   ],
   "execution_count": 38
  },
  {
   "metadata": {
    "ExecuteTime": {
     "end_time": "2025-04-17T05:56:59.489753Z",
     "start_time": "2025-04-17T05:56:59.371190Z"
    }
   },
   "cell_type": "code",
   "source": [
    "# Convert the 'family' column to integer codes\n",
    "data_train['family'], _ = pd.factorize(data_train['family'])\n",
    "\n",
    "# Verify the conversion\n",
    "data_train.tail(100)"
   ],
   "id": "c550e54013ad893a",
   "outputs": [
    {
     "data": {
      "text/plain": [
       "              id       date  store_nbr  family     sales  onpromotion\n",
       "3000788  3000788 2017-08-15          6      32    47.575            0\n",
       "3000789  3000789 2017-08-15          7       0     5.000            0\n",
       "3000790  3000790 2017-08-15          7       1     0.000            0\n",
       "3000791  3000791 2017-08-15          7       2    11.000            2\n",
       "3000792  3000792 2017-08-15          7       3  3999.000            9\n",
       "...          ...        ...        ...     ...       ...          ...\n",
       "3000883  3000883 2017-08-15          9      28   438.133            0\n",
       "3000884  3000884 2017-08-15          9      29   154.553            1\n",
       "3000885  3000885 2017-08-15          9      30  2419.729          148\n",
       "3000886  3000886 2017-08-15          9      31   121.000            8\n",
       "3000887  3000887 2017-08-15          9      32    16.000            0\n",
       "\n",
       "[100 rows x 6 columns]"
      ],
      "text/html": [
       "<div>\n",
       "<style scoped>\n",
       "    .dataframe tbody tr th:only-of-type {\n",
       "        vertical-align: middle;\n",
       "    }\n",
       "\n",
       "    .dataframe tbody tr th {\n",
       "        vertical-align: top;\n",
       "    }\n",
       "\n",
       "    .dataframe thead th {\n",
       "        text-align: right;\n",
       "    }\n",
       "</style>\n",
       "<table border=\"1\" class=\"dataframe\">\n",
       "  <thead>\n",
       "    <tr style=\"text-align: right;\">\n",
       "      <th></th>\n",
       "      <th>id</th>\n",
       "      <th>date</th>\n",
       "      <th>store_nbr</th>\n",
       "      <th>family</th>\n",
       "      <th>sales</th>\n",
       "      <th>onpromotion</th>\n",
       "    </tr>\n",
       "  </thead>\n",
       "  <tbody>\n",
       "    <tr>\n",
       "      <th>3000788</th>\n",
       "      <td>3000788</td>\n",
       "      <td>2017-08-15</td>\n",
       "      <td>6</td>\n",
       "      <td>32</td>\n",
       "      <td>47.575</td>\n",
       "      <td>0</td>\n",
       "    </tr>\n",
       "    <tr>\n",
       "      <th>3000789</th>\n",
       "      <td>3000789</td>\n",
       "      <td>2017-08-15</td>\n",
       "      <td>7</td>\n",
       "      <td>0</td>\n",
       "      <td>5.000</td>\n",
       "      <td>0</td>\n",
       "    </tr>\n",
       "    <tr>\n",
       "      <th>3000790</th>\n",
       "      <td>3000790</td>\n",
       "      <td>2017-08-15</td>\n",
       "      <td>7</td>\n",
       "      <td>1</td>\n",
       "      <td>0.000</td>\n",
       "      <td>0</td>\n",
       "    </tr>\n",
       "    <tr>\n",
       "      <th>3000791</th>\n",
       "      <td>3000791</td>\n",
       "      <td>2017-08-15</td>\n",
       "      <td>7</td>\n",
       "      <td>2</td>\n",
       "      <td>11.000</td>\n",
       "      <td>2</td>\n",
       "    </tr>\n",
       "    <tr>\n",
       "      <th>3000792</th>\n",
       "      <td>3000792</td>\n",
       "      <td>2017-08-15</td>\n",
       "      <td>7</td>\n",
       "      <td>3</td>\n",
       "      <td>3999.000</td>\n",
       "      <td>9</td>\n",
       "    </tr>\n",
       "    <tr>\n",
       "      <th>...</th>\n",
       "      <td>...</td>\n",
       "      <td>...</td>\n",
       "      <td>...</td>\n",
       "      <td>...</td>\n",
       "      <td>...</td>\n",
       "      <td>...</td>\n",
       "    </tr>\n",
       "    <tr>\n",
       "      <th>3000883</th>\n",
       "      <td>3000883</td>\n",
       "      <td>2017-08-15</td>\n",
       "      <td>9</td>\n",
       "      <td>28</td>\n",
       "      <td>438.133</td>\n",
       "      <td>0</td>\n",
       "    </tr>\n",
       "    <tr>\n",
       "      <th>3000884</th>\n",
       "      <td>3000884</td>\n",
       "      <td>2017-08-15</td>\n",
       "      <td>9</td>\n",
       "      <td>29</td>\n",
       "      <td>154.553</td>\n",
       "      <td>1</td>\n",
       "    </tr>\n",
       "    <tr>\n",
       "      <th>3000885</th>\n",
       "      <td>3000885</td>\n",
       "      <td>2017-08-15</td>\n",
       "      <td>9</td>\n",
       "      <td>30</td>\n",
       "      <td>2419.729</td>\n",
       "      <td>148</td>\n",
       "    </tr>\n",
       "    <tr>\n",
       "      <th>3000886</th>\n",
       "      <td>3000886</td>\n",
       "      <td>2017-08-15</td>\n",
       "      <td>9</td>\n",
       "      <td>31</td>\n",
       "      <td>121.000</td>\n",
       "      <td>8</td>\n",
       "    </tr>\n",
       "    <tr>\n",
       "      <th>3000887</th>\n",
       "      <td>3000887</td>\n",
       "      <td>2017-08-15</td>\n",
       "      <td>9</td>\n",
       "      <td>32</td>\n",
       "      <td>16.000</td>\n",
       "      <td>0</td>\n",
       "    </tr>\n",
       "  </tbody>\n",
       "</table>\n",
       "<p>100 rows × 6 columns</p>\n",
       "</div>"
      ]
     },
     "execution_count": 39,
     "metadata": {},
     "output_type": "execute_result"
    }
   ],
   "execution_count": 39
  },
  {
   "metadata": {
    "ExecuteTime": {
     "end_time": "2025-04-17T05:56:59.830495Z",
     "start_time": "2025-04-17T05:56:59.557506Z"
    }
   },
   "cell_type": "code",
   "source": [
    "df1 = data_train.merge(data_stores,  \n",
    "                      on='store_nbr',\n",
    "                      how='left')"
   ],
   "id": "88b387427b476804",
   "outputs": [],
   "execution_count": 40
  },
  {
   "metadata": {
    "ExecuteTime": {
     "end_time": "2025-04-17T05:57:00.274466Z",
     "start_time": "2025-04-17T05:56:59.867797Z"
    }
   },
   "cell_type": "code",
   "source": [
    "df2 = df1.merge(data_transactions,\n",
    "                on=['store_nbr', 'date'],\n",
    "                how='left')\n",
    "df3 = df2.merge(data_oil,\n",
    "                on='date',\n",
    "                how='left')\n"
   ],
   "id": "3473a7ebea1b5844",
   "outputs": [],
   "execution_count": 41
  },
  {
   "metadata": {
    "ExecuteTime": {
     "end_time": "2025-04-17T05:57:01.465036Z",
     "start_time": "2025-04-17T05:57:00.277815Z"
    }
   },
   "cell_type": "code",
   "source": [
    "#date,type,locale,locale_name,description,transferred\n",
    "# Based on the locale column value is \"National\" then do df3.merge(data_holidays_events) left on 'date' mark put holiday as 1 else 0\n",
    "# Based on the locale column value is \"local\" and city name matches then then do df3.merge(data_holidays_events) left on 'date' mark put holiday as 1 else 0\n",
    "# Based on the locale column value is \"Regional\" and State name matches then then do df3.merge(data_holidays_events) left on 'date' mark put holiday as 1 else 0\n",
    "\n",
    "# Merge holidays data with df3\n",
    "final_df = df3.merge(data_holidays_events, on='date', how='left')\n",
    "\n",
    "# Initialize the is_holiday column with 0\n",
    "final_df['is_holiday'] = 0\n",
    "\n",
    "# Apply conditions for National holidays\n",
    "final_df.loc[final_df['locale'] == 'National', 'is_holiday'] = 1\n",
    "\n",
    "# Apply conditions for Local holidays (city matches)\n",
    "final_df.loc[(final_df['locale'] == 'Local') &\n",
    "              (final_df['city'] == final_df['locale_name']), 'is_holiday'] = 1\n",
    "\n",
    "# Apply conditions for Regional holidays (state matches)\n",
    "final_df.loc[(final_df['locale'] == 'Regional') &\n",
    "              (final_df['state'] == final_df['locale_name']), 'is_holiday'] = 1\n",
    "\n",
    "\n",
    "\n",
    "\n"
   ],
   "id": "6642a8637f7f2385",
   "outputs": [],
   "execution_count": 42
  },
  {
   "metadata": {
    "ExecuteTime": {
     "end_time": "2025-04-17T05:57:01.486186Z",
     "start_time": "2025-04-17T05:57:01.483639Z"
    }
   },
   "cell_type": "code",
   "source": "",
   "id": "fa7daa686841e6d6",
   "outputs": [],
   "execution_count": null
  },
  {
   "metadata": {
    "ExecuteTime": {
     "end_time": "2025-04-17T05:57:01.509567Z",
     "start_time": "2025-04-17T05:57:01.503630Z"
    }
   },
   "cell_type": "code",
   "source": "final_df.info()",
   "id": "89c845ac33745c02",
   "outputs": [
    {
     "name": "stdout",
     "output_type": "stream",
     "text": [
      "<class 'pandas.core.frame.DataFrame'>\n",
      "RangeIndex: 3054348 entries, 0 to 3054347\n",
      "Data columns (total 18 columns):\n",
      " #   Column        Dtype         \n",
      "---  ------        -----         \n",
      " 0   id            int64         \n",
      " 1   date          datetime64[ns]\n",
      " 2   store_nbr     int64         \n",
      " 3   family        int64         \n",
      " 4   sales         float64       \n",
      " 5   onpromotion   int64         \n",
      " 6   city          object        \n",
      " 7   state         object        \n",
      " 8   type_x        object        \n",
      " 9   cluster       int64         \n",
      " 10  transactions  float64       \n",
      " 11  dcoilwtico    float64       \n",
      " 12  type_y        object        \n",
      " 13  locale        object        \n",
      " 14  locale_name   object        \n",
      " 15  description   object        \n",
      " 16  transferred   object        \n",
      " 17  is_holiday    int64         \n",
      "dtypes: datetime64[ns](1), float64(3), int64(6), object(8)\n",
      "memory usage: 419.5+ MB\n"
     ]
    }
   ],
   "execution_count": 43
  },
  {
   "metadata": {
    "ExecuteTime": {
     "end_time": "2025-04-17T05:57:01.722720Z",
     "start_time": "2025-04-17T05:57:01.550038Z"
    }
   },
   "cell_type": "code",
   "source": [
    "# let us check for missing sales data and impute if missing by substituting the value with the previous days sales and transaction\n",
    "# Check for missing sales and transaction data\n",
    "# Run the imputation process 5 times\n",
    "for i in range(5):\n",
    "    print(f\"Run {i+1}:\")\n",
    "\n",
    "    # Check for missing sales and transaction data\n",
    "    print(\"Missing sales data before imputation:\", final_df['sales'].isnull().sum())\n",
    "    print(\"Missing transactions data before imputation:\", final_df['transactions'].isnull().sum())\n",
    "\n",
    "    # Impute missing sales and transactions with the previous day's values\n",
    "    final_df['sales'] = final_df['sales'].ffill()\n",
    "    final_df['transactions'] = final_df['transactions'].ffill()\n",
    "\n",
    "\n",
    "    # Verify if missing values are handled\n",
    "    print(\"Missing sales data after imputation:\", final_df['sales'].isnull().sum())\n",
    "    print(\"Missing transactions data after imputation:\", final_df['transactions'].isnull().sum())\n",
    "    print(\"-\" * 50)"
   ],
   "id": "ad0100852750c3f3",
   "outputs": [
    {
     "name": "stdout",
     "output_type": "stream",
     "text": [
      "Run 1:\n",
      "Missing sales data before imputation: 0\n",
      "Missing transactions data before imputation: 249117\n",
      "Missing sales data after imputation: 0\n",
      "Missing transactions data after imputation: 561\n",
      "--------------------------------------------------\n",
      "Run 2:\n",
      "Missing sales data before imputation: 0\n",
      "Missing transactions data before imputation: 561\n",
      "Missing sales data after imputation: 0\n",
      "Missing transactions data after imputation: 561\n",
      "--------------------------------------------------\n",
      "Run 3:\n",
      "Missing sales data before imputation: 0\n",
      "Missing transactions data before imputation: 561\n",
      "Missing sales data after imputation: 0\n",
      "Missing transactions data after imputation: 561\n",
      "--------------------------------------------------\n",
      "Run 4:\n",
      "Missing sales data before imputation: 0\n",
      "Missing transactions data before imputation: 561\n",
      "Missing sales data after imputation: 0\n",
      "Missing transactions data after imputation: 561\n",
      "--------------------------------------------------\n",
      "Run 5:\n",
      "Missing sales data before imputation: 0\n",
      "Missing transactions data before imputation: 561\n",
      "Missing sales data after imputation: 0\n",
      "Missing transactions data after imputation: 561\n",
      "--------------------------------------------------\n"
     ]
    }
   ],
   "execution_count": 44
  },
  {
   "metadata": {
    "ExecuteTime": {
     "end_time": "2025-04-17T05:57:03.598376Z",
     "start_time": "2025-04-17T05:57:01.750657Z"
    }
   },
   "cell_type": "code",
   "source": [
    "import pandas as pd\n",
    "\n",
    "# Make sure your DataFrame has at least: date, store_nbr, is_holiday\n",
    "# final_df = pd.read_csv(...)  # Your real data\n",
    "\n",
    "# Step 1: Convert date to datetime\n",
    "final_df['date'] = pd.to_datetime(final_df['date'])\n",
    "final_df = final_df.dropna(subset=['date']).reset_index(drop=True)\n",
    "\n",
    "# Step 2: Add temporal features\n",
    "final_df['day_of_week'] = final_df['date'].dt.dayofweek\n",
    "final_df['is_weekend'] = final_df['day_of_week'].isin([5, 6]).astype(int)\n",
    "final_df['month'] = final_df['date'].dt.month\n",
    "final_df['week_of_year'] = final_df['date'].dt.isocalendar().week\n",
    "\n",
    "final_df['week_of_year'] = final_df['week_of_year'].astype('int32')\n",
    "\n",
    "# Step 3: Sort data\n",
    "final_df = final_df.sort_values(['store_nbr', 'date']).reset_index(drop=True)\n",
    "\n"
   ],
   "id": "497b75b9ba36548c",
   "outputs": [],
   "execution_count": 45
  },
  {
   "metadata": {
    "ExecuteTime": {
     "end_time": "2025-04-17T05:57:03.611034Z",
     "start_time": "2025-04-17T05:57:03.605618Z"
    }
   },
   "cell_type": "code",
   "source": [
    "import numpy as np\n",
    "import pandas as pd\n",
    "\n",
    "def add_days_until_and_past_last_holiday(df):\n",
    "    df = df.copy()\n",
    "\n",
    "    # Ensure date is in datetime format\n",
    "    df['date'] = pd.to_datetime(df['date'])\n",
    "\n",
    "    # Sort by store and date\n",
    "    df.sort_values(['store_nbr', 'date'], inplace=True)\n",
    "    df.reset_index(drop=True, inplace=True)\n",
    "\n",
    "    # Create arrays to hold the calculated values\n",
    "    days_until = np.full(len(df), np.nan)\n",
    "    days_past_last = np.full(len(df), np.nan)\n",
    "\n",
    "    # Process each store separately\n",
    "    current_pos = 0\n",
    "    for _, group in df.groupby('store_nbr', sort=False):\n",
    "        group_len = len(group)\n",
    "        dates = group['date'].values\n",
    "        is_holiday = group['is_holiday'].values.astype(bool)\n",
    "\n",
    "        # Filter holidays for this store\n",
    "        holiday_dates = dates[is_holiday]\n",
    "\n",
    "        # Calculate 'days_until_holiday' and 'days_past_last_holiday' for each row in the group\n",
    "        if len(holiday_dates) > 0:\n",
    "            # Calculate 'days_until_holiday' (Next holiday)\n",
    "            delta_days_until = np.full(group_len, np.nan)\n",
    "            for i in range(group_len):\n",
    "                future_holidays = holiday_dates[holiday_dates > dates[i]]\n",
    "\n",
    "                if future_holidays.size > 0:\n",
    "                    delta_days_until[i] = (future_holidays.min() - dates[i]).astype('timedelta64[D]').astype(float)\n",
    "\n",
    "            days_until[current_pos:current_pos + group_len] = delta_days_until\n",
    "\n",
    "            # Calculate 'days_past_last_holiday' (Previous holiday)\n",
    "            delta_days_past = np.full(group_len, np.nan)\n",
    "            for i in range(group_len):\n",
    "                past_holidays = holiday_dates[holiday_dates < dates[i]]\n",
    "\n",
    "                if past_holidays.size > 0:\n",
    "                    delta_days_past[i] = (dates[i] - past_holidays.max()).astype('timedelta64[D]').astype(float)\n",
    "\n",
    "            days_past_last[current_pos:current_pos + group_len] = delta_days_past\n",
    "\n",
    "        current_pos += group_len\n",
    "\n",
    "    # Assign the results to the dataframe\n",
    "    df['days_until_holiday'] = days_until\n",
    "    df['days_past_last_holiday'] = days_past_last\n",
    "\n",
    "    # Fill NaN values in both columns with the value 23\n",
    "    df['days_until_holiday'].fillna(23, inplace=True)\n",
    "    df['days_past_last_holiday'].fillna(10, inplace=True)\n",
    "\n",
    "    # Return the updated dataframe\n",
    "    return df\n",
    "\n",
    "\n"
   ],
   "id": "2fcd32079eca9cdf",
   "outputs": [],
   "execution_count": 46
  },
  {
   "metadata": {
    "ExecuteTime": {
     "end_time": "2025-04-17T05:58:39.721340Z",
     "start_time": "2025-04-17T05:57:03.624646Z"
    }
   },
   "cell_type": "code",
   "source": [
    "#final_df_sample = final_df\n",
    "\n",
    "final_df = add_days_until_and_past_last_holiday(final_df)\n",
    "#final_df = add_days_until_and_past_last_holiday(final_df)\n",
    "\n",
    "#final_df_sample.describe()\n",
    "final_df.head(20)"
   ],
   "id": "ef0ff2ef32f958e4",
   "outputs": [
    {
     "name": "stderr",
     "output_type": "stream",
     "text": [
      "/var/folders/bm/9gklnwns2kxcypy3sp68vlc80000gn/T/ipykernel_26856/4260091425.py:57: FutureWarning: A value is trying to be set on a copy of a DataFrame or Series through chained assignment using an inplace method.\n",
      "The behavior will change in pandas 3.0. This inplace method will never work because the intermediate object on which we are setting values always behaves as a copy.\n",
      "\n",
      "For example, when doing 'df[col].method(value, inplace=True)', try using 'df.method({col: value}, inplace=True)' or df[col] = df[col].method(value) instead, to perform the operation inplace on the original object.\n",
      "\n",
      "\n",
      "  df['days_until_holiday'].fillna(23, inplace=True)\n",
      "/var/folders/bm/9gklnwns2kxcypy3sp68vlc80000gn/T/ipykernel_26856/4260091425.py:58: FutureWarning: A value is trying to be set on a copy of a DataFrame or Series through chained assignment using an inplace method.\n",
      "The behavior will change in pandas 3.0. This inplace method will never work because the intermediate object on which we are setting values always behaves as a copy.\n",
      "\n",
      "For example, when doing 'df[col].method(value, inplace=True)', try using 'df.method({col: value}, inplace=True)' or df[col] = df[col].method(value) instead, to perform the operation inplace on the original object.\n",
      "\n",
      "\n",
      "  df['days_past_last_holiday'].fillna(10, inplace=True)\n"
     ]
    },
    {
     "data": {
      "text/plain": [
       "    id       date  store_nbr  family  sales  onpromotion   city      state  \\\n",
       "0    0 2013-01-01          1       0    0.0            0  Quito  Pichincha   \n",
       "1    1 2013-01-01          1       1    0.0            0  Quito  Pichincha   \n",
       "2    2 2013-01-01          1       2    0.0            0  Quito  Pichincha   \n",
       "3    3 2013-01-01          1       3    0.0            0  Quito  Pichincha   \n",
       "4    4 2013-01-01          1       4    0.0            0  Quito  Pichincha   \n",
       "5    5 2013-01-01          1       5    0.0            0  Quito  Pichincha   \n",
       "6    6 2013-01-01          1       6    0.0            0  Quito  Pichincha   \n",
       "7    7 2013-01-01          1       7    0.0            0  Quito  Pichincha   \n",
       "8    8 2013-01-01          1       8    0.0            0  Quito  Pichincha   \n",
       "9    9 2013-01-01          1       9    0.0            0  Quito  Pichincha   \n",
       "10  10 2013-01-01          1      10    0.0            0  Quito  Pichincha   \n",
       "11  11 2013-01-01          1      11    0.0            0  Quito  Pichincha   \n",
       "12  12 2013-01-01          1      12    0.0            0  Quito  Pichincha   \n",
       "13  13 2013-01-01          1      13    0.0            0  Quito  Pichincha   \n",
       "14  14 2013-01-01          1      14    0.0            0  Quito  Pichincha   \n",
       "15  15 2013-01-01          1      15    0.0            0  Quito  Pichincha   \n",
       "16  16 2013-01-01          1      16    0.0            0  Quito  Pichincha   \n",
       "17  17 2013-01-01          1      17    0.0            0  Quito  Pichincha   \n",
       "18  18 2013-01-01          1      18    0.0            0  Quito  Pichincha   \n",
       "19  19 2013-01-01          1      19    0.0            0  Quito  Pichincha   \n",
       "\n",
       "   type_x  cluster  ...  locale_name         description transferred  \\\n",
       "0       D       13  ...      Ecuador  Primer dia del ano       False   \n",
       "1       D       13  ...      Ecuador  Primer dia del ano       False   \n",
       "2       D       13  ...      Ecuador  Primer dia del ano       False   \n",
       "3       D       13  ...      Ecuador  Primer dia del ano       False   \n",
       "4       D       13  ...      Ecuador  Primer dia del ano       False   \n",
       "5       D       13  ...      Ecuador  Primer dia del ano       False   \n",
       "6       D       13  ...      Ecuador  Primer dia del ano       False   \n",
       "7       D       13  ...      Ecuador  Primer dia del ano       False   \n",
       "8       D       13  ...      Ecuador  Primer dia del ano       False   \n",
       "9       D       13  ...      Ecuador  Primer dia del ano       False   \n",
       "10      D       13  ...      Ecuador  Primer dia del ano       False   \n",
       "11      D       13  ...      Ecuador  Primer dia del ano       False   \n",
       "12      D       13  ...      Ecuador  Primer dia del ano       False   \n",
       "13      D       13  ...      Ecuador  Primer dia del ano       False   \n",
       "14      D       13  ...      Ecuador  Primer dia del ano       False   \n",
       "15      D       13  ...      Ecuador  Primer dia del ano       False   \n",
       "16      D       13  ...      Ecuador  Primer dia del ano       False   \n",
       "17      D       13  ...      Ecuador  Primer dia del ano       False   \n",
       "18      D       13  ...      Ecuador  Primer dia del ano       False   \n",
       "19      D       13  ...      Ecuador  Primer dia del ano       False   \n",
       "\n",
       "   is_holiday day_of_week is_weekend month  week_of_year  days_until_holiday  \\\n",
       "0           1           1          0     1             1                 4.0   \n",
       "1           1           1          0     1             1                 4.0   \n",
       "2           1           1          0     1             1                 4.0   \n",
       "3           1           1          0     1             1                 4.0   \n",
       "4           1           1          0     1             1                 4.0   \n",
       "5           1           1          0     1             1                 4.0   \n",
       "6           1           1          0     1             1                 4.0   \n",
       "7           1           1          0     1             1                 4.0   \n",
       "8           1           1          0     1             1                 4.0   \n",
       "9           1           1          0     1             1                 4.0   \n",
       "10          1           1          0     1             1                 4.0   \n",
       "11          1           1          0     1             1                 4.0   \n",
       "12          1           1          0     1             1                 4.0   \n",
       "13          1           1          0     1             1                 4.0   \n",
       "14          1           1          0     1             1                 4.0   \n",
       "15          1           1          0     1             1                 4.0   \n",
       "16          1           1          0     1             1                 4.0   \n",
       "17          1           1          0     1             1                 4.0   \n",
       "18          1           1          0     1             1                 4.0   \n",
       "19          1           1          0     1             1                 4.0   \n",
       "\n",
       "    days_past_last_holiday  \n",
       "0                     10.0  \n",
       "1                     10.0  \n",
       "2                     10.0  \n",
       "3                     10.0  \n",
       "4                     10.0  \n",
       "5                     10.0  \n",
       "6                     10.0  \n",
       "7                     10.0  \n",
       "8                     10.0  \n",
       "9                     10.0  \n",
       "10                    10.0  \n",
       "11                    10.0  \n",
       "12                    10.0  \n",
       "13                    10.0  \n",
       "14                    10.0  \n",
       "15                    10.0  \n",
       "16                    10.0  \n",
       "17                    10.0  \n",
       "18                    10.0  \n",
       "19                    10.0  \n",
       "\n",
       "[20 rows x 24 columns]"
      ],
      "text/html": [
       "<div>\n",
       "<style scoped>\n",
       "    .dataframe tbody tr th:only-of-type {\n",
       "        vertical-align: middle;\n",
       "    }\n",
       "\n",
       "    .dataframe tbody tr th {\n",
       "        vertical-align: top;\n",
       "    }\n",
       "\n",
       "    .dataframe thead th {\n",
       "        text-align: right;\n",
       "    }\n",
       "</style>\n",
       "<table border=\"1\" class=\"dataframe\">\n",
       "  <thead>\n",
       "    <tr style=\"text-align: right;\">\n",
       "      <th></th>\n",
       "      <th>id</th>\n",
       "      <th>date</th>\n",
       "      <th>store_nbr</th>\n",
       "      <th>family</th>\n",
       "      <th>sales</th>\n",
       "      <th>onpromotion</th>\n",
       "      <th>city</th>\n",
       "      <th>state</th>\n",
       "      <th>type_x</th>\n",
       "      <th>cluster</th>\n",
       "      <th>...</th>\n",
       "      <th>locale_name</th>\n",
       "      <th>description</th>\n",
       "      <th>transferred</th>\n",
       "      <th>is_holiday</th>\n",
       "      <th>day_of_week</th>\n",
       "      <th>is_weekend</th>\n",
       "      <th>month</th>\n",
       "      <th>week_of_year</th>\n",
       "      <th>days_until_holiday</th>\n",
       "      <th>days_past_last_holiday</th>\n",
       "    </tr>\n",
       "  </thead>\n",
       "  <tbody>\n",
       "    <tr>\n",
       "      <th>0</th>\n",
       "      <td>0</td>\n",
       "      <td>2013-01-01</td>\n",
       "      <td>1</td>\n",
       "      <td>0</td>\n",
       "      <td>0.0</td>\n",
       "      <td>0</td>\n",
       "      <td>Quito</td>\n",
       "      <td>Pichincha</td>\n",
       "      <td>D</td>\n",
       "      <td>13</td>\n",
       "      <td>...</td>\n",
       "      <td>Ecuador</td>\n",
       "      <td>Primer dia del ano</td>\n",
       "      <td>False</td>\n",
       "      <td>1</td>\n",
       "      <td>1</td>\n",
       "      <td>0</td>\n",
       "      <td>1</td>\n",
       "      <td>1</td>\n",
       "      <td>4.0</td>\n",
       "      <td>10.0</td>\n",
       "    </tr>\n",
       "    <tr>\n",
       "      <th>1</th>\n",
       "      <td>1</td>\n",
       "      <td>2013-01-01</td>\n",
       "      <td>1</td>\n",
       "      <td>1</td>\n",
       "      <td>0.0</td>\n",
       "      <td>0</td>\n",
       "      <td>Quito</td>\n",
       "      <td>Pichincha</td>\n",
       "      <td>D</td>\n",
       "      <td>13</td>\n",
       "      <td>...</td>\n",
       "      <td>Ecuador</td>\n",
       "      <td>Primer dia del ano</td>\n",
       "      <td>False</td>\n",
       "      <td>1</td>\n",
       "      <td>1</td>\n",
       "      <td>0</td>\n",
       "      <td>1</td>\n",
       "      <td>1</td>\n",
       "      <td>4.0</td>\n",
       "      <td>10.0</td>\n",
       "    </tr>\n",
       "    <tr>\n",
       "      <th>2</th>\n",
       "      <td>2</td>\n",
       "      <td>2013-01-01</td>\n",
       "      <td>1</td>\n",
       "      <td>2</td>\n",
       "      <td>0.0</td>\n",
       "      <td>0</td>\n",
       "      <td>Quito</td>\n",
       "      <td>Pichincha</td>\n",
       "      <td>D</td>\n",
       "      <td>13</td>\n",
       "      <td>...</td>\n",
       "      <td>Ecuador</td>\n",
       "      <td>Primer dia del ano</td>\n",
       "      <td>False</td>\n",
       "      <td>1</td>\n",
       "      <td>1</td>\n",
       "      <td>0</td>\n",
       "      <td>1</td>\n",
       "      <td>1</td>\n",
       "      <td>4.0</td>\n",
       "      <td>10.0</td>\n",
       "    </tr>\n",
       "    <tr>\n",
       "      <th>3</th>\n",
       "      <td>3</td>\n",
       "      <td>2013-01-01</td>\n",
       "      <td>1</td>\n",
       "      <td>3</td>\n",
       "      <td>0.0</td>\n",
       "      <td>0</td>\n",
       "      <td>Quito</td>\n",
       "      <td>Pichincha</td>\n",
       "      <td>D</td>\n",
       "      <td>13</td>\n",
       "      <td>...</td>\n",
       "      <td>Ecuador</td>\n",
       "      <td>Primer dia del ano</td>\n",
       "      <td>False</td>\n",
       "      <td>1</td>\n",
       "      <td>1</td>\n",
       "      <td>0</td>\n",
       "      <td>1</td>\n",
       "      <td>1</td>\n",
       "      <td>4.0</td>\n",
       "      <td>10.0</td>\n",
       "    </tr>\n",
       "    <tr>\n",
       "      <th>4</th>\n",
       "      <td>4</td>\n",
       "      <td>2013-01-01</td>\n",
       "      <td>1</td>\n",
       "      <td>4</td>\n",
       "      <td>0.0</td>\n",
       "      <td>0</td>\n",
       "      <td>Quito</td>\n",
       "      <td>Pichincha</td>\n",
       "      <td>D</td>\n",
       "      <td>13</td>\n",
       "      <td>...</td>\n",
       "      <td>Ecuador</td>\n",
       "      <td>Primer dia del ano</td>\n",
       "      <td>False</td>\n",
       "      <td>1</td>\n",
       "      <td>1</td>\n",
       "      <td>0</td>\n",
       "      <td>1</td>\n",
       "      <td>1</td>\n",
       "      <td>4.0</td>\n",
       "      <td>10.0</td>\n",
       "    </tr>\n",
       "    <tr>\n",
       "      <th>5</th>\n",
       "      <td>5</td>\n",
       "      <td>2013-01-01</td>\n",
       "      <td>1</td>\n",
       "      <td>5</td>\n",
       "      <td>0.0</td>\n",
       "      <td>0</td>\n",
       "      <td>Quito</td>\n",
       "      <td>Pichincha</td>\n",
       "      <td>D</td>\n",
       "      <td>13</td>\n",
       "      <td>...</td>\n",
       "      <td>Ecuador</td>\n",
       "      <td>Primer dia del ano</td>\n",
       "      <td>False</td>\n",
       "      <td>1</td>\n",
       "      <td>1</td>\n",
       "      <td>0</td>\n",
       "      <td>1</td>\n",
       "      <td>1</td>\n",
       "      <td>4.0</td>\n",
       "      <td>10.0</td>\n",
       "    </tr>\n",
       "    <tr>\n",
       "      <th>6</th>\n",
       "      <td>6</td>\n",
       "      <td>2013-01-01</td>\n",
       "      <td>1</td>\n",
       "      <td>6</td>\n",
       "      <td>0.0</td>\n",
       "      <td>0</td>\n",
       "      <td>Quito</td>\n",
       "      <td>Pichincha</td>\n",
       "      <td>D</td>\n",
       "      <td>13</td>\n",
       "      <td>...</td>\n",
       "      <td>Ecuador</td>\n",
       "      <td>Primer dia del ano</td>\n",
       "      <td>False</td>\n",
       "      <td>1</td>\n",
       "      <td>1</td>\n",
       "      <td>0</td>\n",
       "      <td>1</td>\n",
       "      <td>1</td>\n",
       "      <td>4.0</td>\n",
       "      <td>10.0</td>\n",
       "    </tr>\n",
       "    <tr>\n",
       "      <th>7</th>\n",
       "      <td>7</td>\n",
       "      <td>2013-01-01</td>\n",
       "      <td>1</td>\n",
       "      <td>7</td>\n",
       "      <td>0.0</td>\n",
       "      <td>0</td>\n",
       "      <td>Quito</td>\n",
       "      <td>Pichincha</td>\n",
       "      <td>D</td>\n",
       "      <td>13</td>\n",
       "      <td>...</td>\n",
       "      <td>Ecuador</td>\n",
       "      <td>Primer dia del ano</td>\n",
       "      <td>False</td>\n",
       "      <td>1</td>\n",
       "      <td>1</td>\n",
       "      <td>0</td>\n",
       "      <td>1</td>\n",
       "      <td>1</td>\n",
       "      <td>4.0</td>\n",
       "      <td>10.0</td>\n",
       "    </tr>\n",
       "    <tr>\n",
       "      <th>8</th>\n",
       "      <td>8</td>\n",
       "      <td>2013-01-01</td>\n",
       "      <td>1</td>\n",
       "      <td>8</td>\n",
       "      <td>0.0</td>\n",
       "      <td>0</td>\n",
       "      <td>Quito</td>\n",
       "      <td>Pichincha</td>\n",
       "      <td>D</td>\n",
       "      <td>13</td>\n",
       "      <td>...</td>\n",
       "      <td>Ecuador</td>\n",
       "      <td>Primer dia del ano</td>\n",
       "      <td>False</td>\n",
       "      <td>1</td>\n",
       "      <td>1</td>\n",
       "      <td>0</td>\n",
       "      <td>1</td>\n",
       "      <td>1</td>\n",
       "      <td>4.0</td>\n",
       "      <td>10.0</td>\n",
       "    </tr>\n",
       "    <tr>\n",
       "      <th>9</th>\n",
       "      <td>9</td>\n",
       "      <td>2013-01-01</td>\n",
       "      <td>1</td>\n",
       "      <td>9</td>\n",
       "      <td>0.0</td>\n",
       "      <td>0</td>\n",
       "      <td>Quito</td>\n",
       "      <td>Pichincha</td>\n",
       "      <td>D</td>\n",
       "      <td>13</td>\n",
       "      <td>...</td>\n",
       "      <td>Ecuador</td>\n",
       "      <td>Primer dia del ano</td>\n",
       "      <td>False</td>\n",
       "      <td>1</td>\n",
       "      <td>1</td>\n",
       "      <td>0</td>\n",
       "      <td>1</td>\n",
       "      <td>1</td>\n",
       "      <td>4.0</td>\n",
       "      <td>10.0</td>\n",
       "    </tr>\n",
       "    <tr>\n",
       "      <th>10</th>\n",
       "      <td>10</td>\n",
       "      <td>2013-01-01</td>\n",
       "      <td>1</td>\n",
       "      <td>10</td>\n",
       "      <td>0.0</td>\n",
       "      <td>0</td>\n",
       "      <td>Quito</td>\n",
       "      <td>Pichincha</td>\n",
       "      <td>D</td>\n",
       "      <td>13</td>\n",
       "      <td>...</td>\n",
       "      <td>Ecuador</td>\n",
       "      <td>Primer dia del ano</td>\n",
       "      <td>False</td>\n",
       "      <td>1</td>\n",
       "      <td>1</td>\n",
       "      <td>0</td>\n",
       "      <td>1</td>\n",
       "      <td>1</td>\n",
       "      <td>4.0</td>\n",
       "      <td>10.0</td>\n",
       "    </tr>\n",
       "    <tr>\n",
       "      <th>11</th>\n",
       "      <td>11</td>\n",
       "      <td>2013-01-01</td>\n",
       "      <td>1</td>\n",
       "      <td>11</td>\n",
       "      <td>0.0</td>\n",
       "      <td>0</td>\n",
       "      <td>Quito</td>\n",
       "      <td>Pichincha</td>\n",
       "      <td>D</td>\n",
       "      <td>13</td>\n",
       "      <td>...</td>\n",
       "      <td>Ecuador</td>\n",
       "      <td>Primer dia del ano</td>\n",
       "      <td>False</td>\n",
       "      <td>1</td>\n",
       "      <td>1</td>\n",
       "      <td>0</td>\n",
       "      <td>1</td>\n",
       "      <td>1</td>\n",
       "      <td>4.0</td>\n",
       "      <td>10.0</td>\n",
       "    </tr>\n",
       "    <tr>\n",
       "      <th>12</th>\n",
       "      <td>12</td>\n",
       "      <td>2013-01-01</td>\n",
       "      <td>1</td>\n",
       "      <td>12</td>\n",
       "      <td>0.0</td>\n",
       "      <td>0</td>\n",
       "      <td>Quito</td>\n",
       "      <td>Pichincha</td>\n",
       "      <td>D</td>\n",
       "      <td>13</td>\n",
       "      <td>...</td>\n",
       "      <td>Ecuador</td>\n",
       "      <td>Primer dia del ano</td>\n",
       "      <td>False</td>\n",
       "      <td>1</td>\n",
       "      <td>1</td>\n",
       "      <td>0</td>\n",
       "      <td>1</td>\n",
       "      <td>1</td>\n",
       "      <td>4.0</td>\n",
       "      <td>10.0</td>\n",
       "    </tr>\n",
       "    <tr>\n",
       "      <th>13</th>\n",
       "      <td>13</td>\n",
       "      <td>2013-01-01</td>\n",
       "      <td>1</td>\n",
       "      <td>13</td>\n",
       "      <td>0.0</td>\n",
       "      <td>0</td>\n",
       "      <td>Quito</td>\n",
       "      <td>Pichincha</td>\n",
       "      <td>D</td>\n",
       "      <td>13</td>\n",
       "      <td>...</td>\n",
       "      <td>Ecuador</td>\n",
       "      <td>Primer dia del ano</td>\n",
       "      <td>False</td>\n",
       "      <td>1</td>\n",
       "      <td>1</td>\n",
       "      <td>0</td>\n",
       "      <td>1</td>\n",
       "      <td>1</td>\n",
       "      <td>4.0</td>\n",
       "      <td>10.0</td>\n",
       "    </tr>\n",
       "    <tr>\n",
       "      <th>14</th>\n",
       "      <td>14</td>\n",
       "      <td>2013-01-01</td>\n",
       "      <td>1</td>\n",
       "      <td>14</td>\n",
       "      <td>0.0</td>\n",
       "      <td>0</td>\n",
       "      <td>Quito</td>\n",
       "      <td>Pichincha</td>\n",
       "      <td>D</td>\n",
       "      <td>13</td>\n",
       "      <td>...</td>\n",
       "      <td>Ecuador</td>\n",
       "      <td>Primer dia del ano</td>\n",
       "      <td>False</td>\n",
       "      <td>1</td>\n",
       "      <td>1</td>\n",
       "      <td>0</td>\n",
       "      <td>1</td>\n",
       "      <td>1</td>\n",
       "      <td>4.0</td>\n",
       "      <td>10.0</td>\n",
       "    </tr>\n",
       "    <tr>\n",
       "      <th>15</th>\n",
       "      <td>15</td>\n",
       "      <td>2013-01-01</td>\n",
       "      <td>1</td>\n",
       "      <td>15</td>\n",
       "      <td>0.0</td>\n",
       "      <td>0</td>\n",
       "      <td>Quito</td>\n",
       "      <td>Pichincha</td>\n",
       "      <td>D</td>\n",
       "      <td>13</td>\n",
       "      <td>...</td>\n",
       "      <td>Ecuador</td>\n",
       "      <td>Primer dia del ano</td>\n",
       "      <td>False</td>\n",
       "      <td>1</td>\n",
       "      <td>1</td>\n",
       "      <td>0</td>\n",
       "      <td>1</td>\n",
       "      <td>1</td>\n",
       "      <td>4.0</td>\n",
       "      <td>10.0</td>\n",
       "    </tr>\n",
       "    <tr>\n",
       "      <th>16</th>\n",
       "      <td>16</td>\n",
       "      <td>2013-01-01</td>\n",
       "      <td>1</td>\n",
       "      <td>16</td>\n",
       "      <td>0.0</td>\n",
       "      <td>0</td>\n",
       "      <td>Quito</td>\n",
       "      <td>Pichincha</td>\n",
       "      <td>D</td>\n",
       "      <td>13</td>\n",
       "      <td>...</td>\n",
       "      <td>Ecuador</td>\n",
       "      <td>Primer dia del ano</td>\n",
       "      <td>False</td>\n",
       "      <td>1</td>\n",
       "      <td>1</td>\n",
       "      <td>0</td>\n",
       "      <td>1</td>\n",
       "      <td>1</td>\n",
       "      <td>4.0</td>\n",
       "      <td>10.0</td>\n",
       "    </tr>\n",
       "    <tr>\n",
       "      <th>17</th>\n",
       "      <td>17</td>\n",
       "      <td>2013-01-01</td>\n",
       "      <td>1</td>\n",
       "      <td>17</td>\n",
       "      <td>0.0</td>\n",
       "      <td>0</td>\n",
       "      <td>Quito</td>\n",
       "      <td>Pichincha</td>\n",
       "      <td>D</td>\n",
       "      <td>13</td>\n",
       "      <td>...</td>\n",
       "      <td>Ecuador</td>\n",
       "      <td>Primer dia del ano</td>\n",
       "      <td>False</td>\n",
       "      <td>1</td>\n",
       "      <td>1</td>\n",
       "      <td>0</td>\n",
       "      <td>1</td>\n",
       "      <td>1</td>\n",
       "      <td>4.0</td>\n",
       "      <td>10.0</td>\n",
       "    </tr>\n",
       "    <tr>\n",
       "      <th>18</th>\n",
       "      <td>18</td>\n",
       "      <td>2013-01-01</td>\n",
       "      <td>1</td>\n",
       "      <td>18</td>\n",
       "      <td>0.0</td>\n",
       "      <td>0</td>\n",
       "      <td>Quito</td>\n",
       "      <td>Pichincha</td>\n",
       "      <td>D</td>\n",
       "      <td>13</td>\n",
       "      <td>...</td>\n",
       "      <td>Ecuador</td>\n",
       "      <td>Primer dia del ano</td>\n",
       "      <td>False</td>\n",
       "      <td>1</td>\n",
       "      <td>1</td>\n",
       "      <td>0</td>\n",
       "      <td>1</td>\n",
       "      <td>1</td>\n",
       "      <td>4.0</td>\n",
       "      <td>10.0</td>\n",
       "    </tr>\n",
       "    <tr>\n",
       "      <th>19</th>\n",
       "      <td>19</td>\n",
       "      <td>2013-01-01</td>\n",
       "      <td>1</td>\n",
       "      <td>19</td>\n",
       "      <td>0.0</td>\n",
       "      <td>0</td>\n",
       "      <td>Quito</td>\n",
       "      <td>Pichincha</td>\n",
       "      <td>D</td>\n",
       "      <td>13</td>\n",
       "      <td>...</td>\n",
       "      <td>Ecuador</td>\n",
       "      <td>Primer dia del ano</td>\n",
       "      <td>False</td>\n",
       "      <td>1</td>\n",
       "      <td>1</td>\n",
       "      <td>0</td>\n",
       "      <td>1</td>\n",
       "      <td>1</td>\n",
       "      <td>4.0</td>\n",
       "      <td>10.0</td>\n",
       "    </tr>\n",
       "  </tbody>\n",
       "</table>\n",
       "<p>20 rows × 24 columns</p>\n",
       "</div>"
      ]
     },
     "execution_count": 47,
     "metadata": {},
     "output_type": "execute_result"
    }
   ],
   "execution_count": 47
  },
  {
   "metadata": {
    "ExecuteTime": {
     "end_time": "2025-04-17T05:58:40.292731Z",
     "start_time": "2025-04-17T05:58:39.824337Z"
    }
   },
   "cell_type": "code",
   "source": [
    "#backup_final_df = final_df.copy()\n",
    "#final_df = backup_final_df.copy()"
   ],
   "id": "425e10d0e1e74754",
   "outputs": [],
   "execution_count": 48
  },
  {
   "metadata": {
    "ExecuteTime": {
     "end_time": "2025-04-17T05:58:41.370072Z",
     "start_time": "2025-04-17T05:58:40.313772Z"
    }
   },
   "cell_type": "code",
   "source": "final_df.describe()",
   "id": "5538a265a91d306c",
   "outputs": [
    {
     "data": {
      "text/plain": [
       "                 id                           date     store_nbr  \\\n",
       "count  3.054348e+06                        3054348  3.054348e+06   \n",
       "mean   1.504277e+06  2015-04-26 12:11:45.717619968  2.750000e+01   \n",
       "min    0.000000e+00            2013-01-01 00:00:00  1.000000e+00   \n",
       "25%    7.546768e+05            2014-03-01 00:00:00  1.400000e+01   \n",
       "50%    1.507572e+06            2015-04-28 12:00:00  2.750000e+01   \n",
       "75%    2.255120e+06            2016-06-22 00:00:00  4.100000e+01   \n",
       "max    3.000887e+06            2017-08-15 00:00:00  5.400000e+01   \n",
       "std    8.662610e+05                            NaN  1.558579e+01   \n",
       "\n",
       "             family         sales   onpromotion       cluster  transactions  \\\n",
       "count  3.054348e+06  3.054348e+06  3.054348e+06  3.054348e+06  3.053787e+06   \n",
       "mean   1.600000e+01  3.590209e+02  2.617480e+00  8.481481e+00  1.689590e+03   \n",
       "min    0.000000e+00  0.000000e+00  0.000000e+00  1.000000e+00  5.000000e+00   \n",
       "25%    8.000000e+00  0.000000e+00  0.000000e+00  4.000000e+00  1.055000e+03   \n",
       "50%    1.600000e+01  1.100000e+01  0.000000e+00  8.500000e+00  1.419000e+03   \n",
       "75%    2.400000e+01  1.960110e+02  0.000000e+00  1.300000e+01  2.035000e+03   \n",
       "max    3.200000e+01  1.247170e+05  7.410000e+02  1.700000e+01  8.359000e+03   \n",
       "std    9.521906e+00  1.107286e+03  1.225494e+01  4.649735e+00  9.383528e+02   \n",
       "\n",
       "         dcoilwtico    is_holiday   day_of_week    is_weekend         month  \\\n",
       "count  2.175822e+06  3.054348e+06  3.054348e+06  3.054348e+06  3.054348e+06   \n",
       "mean   6.800526e+01  9.019404e-02  3.008168e+00  2.876313e-01  6.222870e+00   \n",
       "min    2.619000e+01  0.000000e+00  0.000000e+00  0.000000e+00  1.000000e+00   \n",
       "25%    4.670000e+01  0.000000e+00  1.000000e+00  0.000000e+00  3.000000e+00   \n",
       "50%    5.448000e+01  0.000000e+00  3.000000e+00  0.000000e+00  6.000000e+00   \n",
       "75%    9.549000e+01  0.000000e+00  5.000000e+00  1.000000e+00  9.000000e+00   \n",
       "max    1.106200e+02  1.000000e+00  6.000000e+00  1.000000e+00  1.200000e+01   \n",
       "std    2.523496e+01  2.864596e-01  2.001442e+00  4.526584e-01  3.374251e+00   \n",
       "\n",
       "       week_of_year  days_until_holiday  days_past_last_holiday  \n",
       "count  3.054348e+06        3.054348e+06            3.054348e+06  \n",
       "mean   2.530863e+01        2.086567e+01            2.079324e+01  \n",
       "min    1.000000e+00        1.000000e+00            1.000000e+00  \n",
       "25%    1.300000e+01        6.000000e+00            6.000000e+00  \n",
       "50%    2.500000e+01        1.600000e+01            1.600000e+01  \n",
       "75%    3.800000e+01        3.200000e+01            3.200000e+01  \n",
       "max    5.300000e+01        7.800000e+01            7.800000e+01  \n",
       "std    1.475051e+01        1.815006e+01            1.815623e+01  "
      ],
      "text/html": [
       "<div>\n",
       "<style scoped>\n",
       "    .dataframe tbody tr th:only-of-type {\n",
       "        vertical-align: middle;\n",
       "    }\n",
       "\n",
       "    .dataframe tbody tr th {\n",
       "        vertical-align: top;\n",
       "    }\n",
       "\n",
       "    .dataframe thead th {\n",
       "        text-align: right;\n",
       "    }\n",
       "</style>\n",
       "<table border=\"1\" class=\"dataframe\">\n",
       "  <thead>\n",
       "    <tr style=\"text-align: right;\">\n",
       "      <th></th>\n",
       "      <th>id</th>\n",
       "      <th>date</th>\n",
       "      <th>store_nbr</th>\n",
       "      <th>family</th>\n",
       "      <th>sales</th>\n",
       "      <th>onpromotion</th>\n",
       "      <th>cluster</th>\n",
       "      <th>transactions</th>\n",
       "      <th>dcoilwtico</th>\n",
       "      <th>is_holiday</th>\n",
       "      <th>day_of_week</th>\n",
       "      <th>is_weekend</th>\n",
       "      <th>month</th>\n",
       "      <th>week_of_year</th>\n",
       "      <th>days_until_holiday</th>\n",
       "      <th>days_past_last_holiday</th>\n",
       "    </tr>\n",
       "  </thead>\n",
       "  <tbody>\n",
       "    <tr>\n",
       "      <th>count</th>\n",
       "      <td>3.054348e+06</td>\n",
       "      <td>3054348</td>\n",
       "      <td>3.054348e+06</td>\n",
       "      <td>3.054348e+06</td>\n",
       "      <td>3.054348e+06</td>\n",
       "      <td>3.054348e+06</td>\n",
       "      <td>3.054348e+06</td>\n",
       "      <td>3.053787e+06</td>\n",
       "      <td>2.175822e+06</td>\n",
       "      <td>3.054348e+06</td>\n",
       "      <td>3.054348e+06</td>\n",
       "      <td>3.054348e+06</td>\n",
       "      <td>3.054348e+06</td>\n",
       "      <td>3.054348e+06</td>\n",
       "      <td>3.054348e+06</td>\n",
       "      <td>3.054348e+06</td>\n",
       "    </tr>\n",
       "    <tr>\n",
       "      <th>mean</th>\n",
       "      <td>1.504277e+06</td>\n",
       "      <td>2015-04-26 12:11:45.717619968</td>\n",
       "      <td>2.750000e+01</td>\n",
       "      <td>1.600000e+01</td>\n",
       "      <td>3.590209e+02</td>\n",
       "      <td>2.617480e+00</td>\n",
       "      <td>8.481481e+00</td>\n",
       "      <td>1.689590e+03</td>\n",
       "      <td>6.800526e+01</td>\n",
       "      <td>9.019404e-02</td>\n",
       "      <td>3.008168e+00</td>\n",
       "      <td>2.876313e-01</td>\n",
       "      <td>6.222870e+00</td>\n",
       "      <td>2.530863e+01</td>\n",
       "      <td>2.086567e+01</td>\n",
       "      <td>2.079324e+01</td>\n",
       "    </tr>\n",
       "    <tr>\n",
       "      <th>min</th>\n",
       "      <td>0.000000e+00</td>\n",
       "      <td>2013-01-01 00:00:00</td>\n",
       "      <td>1.000000e+00</td>\n",
       "      <td>0.000000e+00</td>\n",
       "      <td>0.000000e+00</td>\n",
       "      <td>0.000000e+00</td>\n",
       "      <td>1.000000e+00</td>\n",
       "      <td>5.000000e+00</td>\n",
       "      <td>2.619000e+01</td>\n",
       "      <td>0.000000e+00</td>\n",
       "      <td>0.000000e+00</td>\n",
       "      <td>0.000000e+00</td>\n",
       "      <td>1.000000e+00</td>\n",
       "      <td>1.000000e+00</td>\n",
       "      <td>1.000000e+00</td>\n",
       "      <td>1.000000e+00</td>\n",
       "    </tr>\n",
       "    <tr>\n",
       "      <th>25%</th>\n",
       "      <td>7.546768e+05</td>\n",
       "      <td>2014-03-01 00:00:00</td>\n",
       "      <td>1.400000e+01</td>\n",
       "      <td>8.000000e+00</td>\n",
       "      <td>0.000000e+00</td>\n",
       "      <td>0.000000e+00</td>\n",
       "      <td>4.000000e+00</td>\n",
       "      <td>1.055000e+03</td>\n",
       "      <td>4.670000e+01</td>\n",
       "      <td>0.000000e+00</td>\n",
       "      <td>1.000000e+00</td>\n",
       "      <td>0.000000e+00</td>\n",
       "      <td>3.000000e+00</td>\n",
       "      <td>1.300000e+01</td>\n",
       "      <td>6.000000e+00</td>\n",
       "      <td>6.000000e+00</td>\n",
       "    </tr>\n",
       "    <tr>\n",
       "      <th>50%</th>\n",
       "      <td>1.507572e+06</td>\n",
       "      <td>2015-04-28 12:00:00</td>\n",
       "      <td>2.750000e+01</td>\n",
       "      <td>1.600000e+01</td>\n",
       "      <td>1.100000e+01</td>\n",
       "      <td>0.000000e+00</td>\n",
       "      <td>8.500000e+00</td>\n",
       "      <td>1.419000e+03</td>\n",
       "      <td>5.448000e+01</td>\n",
       "      <td>0.000000e+00</td>\n",
       "      <td>3.000000e+00</td>\n",
       "      <td>0.000000e+00</td>\n",
       "      <td>6.000000e+00</td>\n",
       "      <td>2.500000e+01</td>\n",
       "      <td>1.600000e+01</td>\n",
       "      <td>1.600000e+01</td>\n",
       "    </tr>\n",
       "    <tr>\n",
       "      <th>75%</th>\n",
       "      <td>2.255120e+06</td>\n",
       "      <td>2016-06-22 00:00:00</td>\n",
       "      <td>4.100000e+01</td>\n",
       "      <td>2.400000e+01</td>\n",
       "      <td>1.960110e+02</td>\n",
       "      <td>0.000000e+00</td>\n",
       "      <td>1.300000e+01</td>\n",
       "      <td>2.035000e+03</td>\n",
       "      <td>9.549000e+01</td>\n",
       "      <td>0.000000e+00</td>\n",
       "      <td>5.000000e+00</td>\n",
       "      <td>1.000000e+00</td>\n",
       "      <td>9.000000e+00</td>\n",
       "      <td>3.800000e+01</td>\n",
       "      <td>3.200000e+01</td>\n",
       "      <td>3.200000e+01</td>\n",
       "    </tr>\n",
       "    <tr>\n",
       "      <th>max</th>\n",
       "      <td>3.000887e+06</td>\n",
       "      <td>2017-08-15 00:00:00</td>\n",
       "      <td>5.400000e+01</td>\n",
       "      <td>3.200000e+01</td>\n",
       "      <td>1.247170e+05</td>\n",
       "      <td>7.410000e+02</td>\n",
       "      <td>1.700000e+01</td>\n",
       "      <td>8.359000e+03</td>\n",
       "      <td>1.106200e+02</td>\n",
       "      <td>1.000000e+00</td>\n",
       "      <td>6.000000e+00</td>\n",
       "      <td>1.000000e+00</td>\n",
       "      <td>1.200000e+01</td>\n",
       "      <td>5.300000e+01</td>\n",
       "      <td>7.800000e+01</td>\n",
       "      <td>7.800000e+01</td>\n",
       "    </tr>\n",
       "    <tr>\n",
       "      <th>std</th>\n",
       "      <td>8.662610e+05</td>\n",
       "      <td>NaN</td>\n",
       "      <td>1.558579e+01</td>\n",
       "      <td>9.521906e+00</td>\n",
       "      <td>1.107286e+03</td>\n",
       "      <td>1.225494e+01</td>\n",
       "      <td>4.649735e+00</td>\n",
       "      <td>9.383528e+02</td>\n",
       "      <td>2.523496e+01</td>\n",
       "      <td>2.864596e-01</td>\n",
       "      <td>2.001442e+00</td>\n",
       "      <td>4.526584e-01</td>\n",
       "      <td>3.374251e+00</td>\n",
       "      <td>1.475051e+01</td>\n",
       "      <td>1.815006e+01</td>\n",
       "      <td>1.815623e+01</td>\n",
       "    </tr>\n",
       "  </tbody>\n",
       "</table>\n",
       "</div>"
      ]
     },
     "execution_count": 49,
     "metadata": {},
     "output_type": "execute_result"
    }
   ],
   "execution_count": 49
  },
  {
   "metadata": {
    "ExecuteTime": {
     "end_time": "2025-04-17T05:58:41.401070Z",
     "start_time": "2025-04-17T05:58:41.397735Z"
    }
   },
   "cell_type": "code",
   "source": [
    "# List of store numbers to exclude\n",
    "\n",
    "'''\n",
    "exclude_stores = [23]\n",
    "\n",
    "# Filter out excluded stores\n",
    "filtered_df = final_df[~final_df['store_nbr'].isin(exclude_stores)]\n",
    "\n",
    "# Convert columns to numeric in case they're object types (for safety)\n",
    "filtered_df['days_until_holiday'] = pd.to_numeric(filtered_df['days_until_holiday'], errors='coerce')\n",
    "filtered_df['days_past_last_holiday'] = pd.to_numeric(filtered_df['days_past_last_holiday'], errors='coerce')\n",
    "\n",
    "# Filter rows where EITHER column is NOT 23 and the values are DIFFERENT\n",
    "filtered_df = filtered_df[\n",
    "    ((filtered_df['days_until_holiday'] != 23) | (filtered_df['days_past_last_holiday'] != 23)) &\n",
    "    (filtered_df['days_until_holiday'] != filtered_df['days_past_last_holiday'])\n",
    "]\n",
    "\n",
    "# Show the first 100 rows\n",
    "print(filtered_df[['store_nbr', 'date', 'is_holiday', 'days_until_holiday', 'days_past_last_holiday']].head(100))\n",
    "\n",
    "\n",
    "'''\n",
    "\n"
   ],
   "id": "4febec69139500ec",
   "outputs": [
    {
     "data": {
      "text/plain": [
       "\"\\nexclude_stores = [23]\\n\\n# Filter out excluded stores\\nfiltered_df = final_df[~final_df['store_nbr'].isin(exclude_stores)]\\n\\n# Convert columns to numeric in case they're object types (for safety)\\nfiltered_df['days_until_holiday'] = pd.to_numeric(filtered_df['days_until_holiday'], errors='coerce')\\nfiltered_df['days_past_last_holiday'] = pd.to_numeric(filtered_df['days_past_last_holiday'], errors='coerce')\\n\\n# Filter rows where EITHER column is NOT 23 and the values are DIFFERENT\\nfiltered_df = filtered_df[\\n    ((filtered_df['days_until_holiday'] != 23) | (filtered_df['days_past_last_holiday'] != 23)) &\\n    (filtered_df['days_until_holiday'] != filtered_df['days_past_last_holiday'])\\n]\\n\\n# Show the first 100 rows\\nprint(filtered_df[['store_nbr', 'date', 'is_holiday', 'days_until_holiday', 'days_past_last_holiday']].head(100))\\n\\n\\n\""
      ]
     },
     "execution_count": 50,
     "metadata": {},
     "output_type": "execute_result"
    }
   ],
   "execution_count": 50
  },
  {
   "metadata": {
    "ExecuteTime": {
     "end_time": "2025-04-17T05:58:41.742647Z",
     "start_time": "2025-04-17T05:58:41.426711Z"
    }
   },
   "cell_type": "code",
   "source": [
    "# Create a dataframe with unique combinations of city, locale_name, and state\n",
    "unique_city_locale_state_df = final_df[['city', 'locale_name', 'state']].dropna().drop_duplicates()\n",
    "\n",
    "# Reset index for clean viewing\n",
    "unique_city_locale_state_df = unique_city_locale_state_df.reset_index(drop=True)\n",
    "\n",
    "# Show the result\n",
    "print(unique_city_locale_state_df)\n"
   ],
   "id": "cedf7efa559d639c",
   "outputs": [
    {
     "name": "stdout",
     "output_type": "stream",
     "text": [
      "          city                     locale_name      state\n",
      "0        Quito                         Ecuador  Pichincha\n",
      "1        Quito                           Manta  Pichincha\n",
      "2        Quito                        Cotopaxi  Pichincha\n",
      "3        Quito                          Cuenca  Pichincha\n",
      "4        Quito                        Libertad  Pichincha\n",
      "..         ...                             ...        ...\n",
      "523  El Carmen  Santo Domingo de los Tsachilas     Manabi\n",
      "524  El Carmen                     Santa Elena     Manabi\n",
      "525  El Carmen                           Quito     Manabi\n",
      "526  El Carmen                            Loja     Manabi\n",
      "527  El Carmen                         Salinas     Manabi\n",
      "\n",
      "[528 rows x 3 columns]\n"
     ]
    }
   ],
   "execution_count": 51
  },
  {
   "metadata": {
    "ExecuteTime": {
     "end_time": "2025-04-17T05:58:41.750219Z",
     "start_time": "2025-04-17T05:58:41.746544Z"
    }
   },
   "cell_type": "code",
   "source": [
    "# Check if any column has NaN values in the dataframe\n",
    "nan_columns = unique_city_locale_state_df.isna().any()\n",
    "\n",
    "# Display which columns have NaN values\n",
    "print(nan_columns)\n",
    "\n",
    "# Optionally, count how many rows in each column have NaN values\n",
    "nan_counts = unique_city_locale_state_df.isna().sum()\n",
    "print(f\"Number of NaN values per column:\\n{nan_counts}\")\n"
   ],
   "id": "6c5eceec0f7eb149",
   "outputs": [
    {
     "name": "stdout",
     "output_type": "stream",
     "text": [
      "city           False\n",
      "locale_name    False\n",
      "state          False\n",
      "dtype: bool\n",
      "Number of NaN values per column:\n",
      "city           0\n",
      "locale_name    0\n",
      "state          0\n",
      "dtype: int64\n"
     ]
    }
   ],
   "execution_count": 52
  },
  {
   "metadata": {
    "ExecuteTime": {
     "end_time": "2025-04-17T05:58:41.773086Z",
     "start_time": "2025-04-17T05:58:41.771276Z"
    }
   },
   "cell_type": "code",
   "source": [
    "#unique_city_locale_state_df['state'].nunique()\n",
    "#check the number of unique city\n",
    "\n",
    "#unique_city_locale_state_df['city'].nunique()\n",
    "#unique_city_locale_state_df['locale_name'].nunique()\n"
   ],
   "id": "3f3d99d7779c59c1",
   "outputs": [],
   "execution_count": 53
  },
  {
   "metadata": {
    "ExecuteTime": {
     "end_time": "2025-04-17T05:58:53.207839Z",
     "start_time": "2025-04-17T05:58:41.801653Z"
    }
   },
   "cell_type": "code",
   "source": [
    "# impute missing values in final_df for state ,city and locale_name columns in that order\n",
    "# Fill missing 'state' values using 'city' and 'locale_name'\n",
    "final_df['state'] = final_df.apply(    lambda row: unique_city_locale_state_df.loc[\n",
    "        (unique_city_locale_state_df['city'] == row['city']) &\n",
    "        (unique_city_locale_state_df['locale_name'] == row['locale_name']), 'state'\n",
    "    ].values[0] if pd.isna(row['state']) and not unique_city_locale_state_df.loc[\n",
    "        (unique_city_locale_state_df['city'] == row['city']) &\n",
    "        (unique_city_locale_state_df['locale_name'] == row['locale_name'])\n",
    "    ].empty else row['state'],\n",
    "    axis=1\n",
    ")\n"
   ],
   "id": "d12d0bb49b2fe4b",
   "outputs": [],
   "execution_count": 54
  },
  {
   "metadata": {
    "ExecuteTime": {
     "end_time": "2025-04-17T05:58:53.279132Z",
     "start_time": "2025-04-17T05:58:53.217451Z"
    }
   },
   "cell_type": "code",
   "source": "final_df['state'].isnull().sum()",
   "id": "9468c3c38475dd5",
   "outputs": [
    {
     "data": {
      "text/plain": [
       "np.int64(0)"
      ]
     },
     "execution_count": 55,
     "metadata": {},
     "output_type": "execute_result"
    }
   ],
   "execution_count": 55
  },
  {
   "metadata": {
    "ExecuteTime": {
     "end_time": "2025-04-17T05:58:53.940574Z",
     "start_time": "2025-04-17T05:58:53.295862Z"
    }
   },
   "cell_type": "code",
   "source": [
    "# print the row whole state is nulll\n",
    "print(final_df[final_df['state'].isnull()])\n",
    "# drop this row\n",
    "final_df = final_df.dropna(subset=['state'])\n",
    "print(final_df[final_df['state'].isnull()])"
   ],
   "id": "f925b2f5a103744a",
   "outputs": [
    {
     "name": "stdout",
     "output_type": "stream",
     "text": [
      "Empty DataFrame\n",
      "Columns: [id, date, store_nbr, family, sales, onpromotion, city, state, type_x, cluster, transactions, dcoilwtico, type_y, locale, locale_name, description, transferred, is_holiday, day_of_week, is_weekend, month, week_of_year, days_until_holiday, days_past_last_holiday]\n",
      "Index: []\n",
      "\n",
      "[0 rows x 24 columns]\n",
      "Empty DataFrame\n",
      "Columns: [id, date, store_nbr, family, sales, onpromotion, city, state, type_x, cluster, transactions, dcoilwtico, type_y, locale, locale_name, description, transferred, is_holiday, day_of_week, is_weekend, month, week_of_year, days_until_holiday, days_past_last_holiday]\n",
      "Index: []\n",
      "\n",
      "[0 rows x 24 columns]\n"
     ]
    }
   ],
   "execution_count": 56
  },
  {
   "metadata": {
    "ExecuteTime": {
     "end_time": "2025-04-17T05:58:54.016642Z",
     "start_time": "2025-04-17T05:58:53.955256Z"
    }
   },
   "cell_type": "code",
   "source": "final_df['city'].isnull().sum()\n",
   "id": "95141d5fe97d6e2",
   "outputs": [
    {
     "data": {
      "text/plain": [
       "np.int64(0)"
      ]
     },
     "execution_count": 57,
     "metadata": {},
     "output_type": "execute_result"
    }
   ],
   "execution_count": 57
  },
  {
   "metadata": {
    "ExecuteTime": {
     "end_time": "2025-04-17T05:58:54.069411Z",
     "start_time": "2025-04-17T05:58:54.030738Z"
    }
   },
   "cell_type": "code",
   "source": "final_df['locale_name'].isnull().sum()",
   "id": "e63d4498fac1350c",
   "outputs": [
    {
     "data": {
      "text/plain": [
       "np.int64(2551824)"
      ]
     },
     "execution_count": 58,
     "metadata": {},
     "output_type": "execute_result"
    }
   ],
   "execution_count": 58
  },
  {
   "metadata": {
    "ExecuteTime": {
     "end_time": "2025-04-17T05:58:54.290111Z",
     "start_time": "2025-04-17T05:58:54.094226Z"
    }
   },
   "cell_type": "code",
   "source": [
    "#drop the locale_name column\n",
    "final_df.drop(columns=['locale_name','locale','description','transferred'], inplace=True)\n"
   ],
   "id": "3e79a1464aea2427",
   "outputs": [],
   "execution_count": 59
  },
  {
   "metadata": {
    "ExecuteTime": {
     "end_time": "2025-04-17T05:58:54.298225Z",
     "start_time": "2025-04-17T05:58:54.294282Z"
    }
   },
   "cell_type": "code",
   "source": "final_df.info()",
   "id": "aab12871d34f1779",
   "outputs": [
    {
     "name": "stdout",
     "output_type": "stream",
     "text": [
      "<class 'pandas.core.frame.DataFrame'>\n",
      "RangeIndex: 3054348 entries, 0 to 3054347\n",
      "Data columns (total 20 columns):\n",
      " #   Column                  Dtype         \n",
      "---  ------                  -----         \n",
      " 0   id                      int64         \n",
      " 1   date                    datetime64[ns]\n",
      " 2   store_nbr               int64         \n",
      " 3   family                  int64         \n",
      " 4   sales                   float64       \n",
      " 5   onpromotion             int64         \n",
      " 6   city                    object        \n",
      " 7   state                   object        \n",
      " 8   type_x                  object        \n",
      " 9   cluster                 int64         \n",
      " 10  transactions            float64       \n",
      " 11  dcoilwtico              float64       \n",
      " 12  type_y                  object        \n",
      " 13  is_holiday              int64         \n",
      " 14  day_of_week             int32         \n",
      " 15  is_weekend              int64         \n",
      " 16  month                   int32         \n",
      " 17  week_of_year            int32         \n",
      " 18  days_until_holiday      float64       \n",
      " 19  days_past_last_holiday  float64       \n",
      "dtypes: datetime64[ns](1), float64(5), int32(3), int64(7), object(4)\n",
      "memory usage: 431.1+ MB\n"
     ]
    }
   ],
   "execution_count": 60
  },
  {
   "metadata": {
    "ExecuteTime": {
     "end_time": "2025-04-17T05:58:54.889857Z",
     "start_time": "2025-04-17T05:58:54.312474Z"
    }
   },
   "cell_type": "code",
   "source": [
    "# List of suspected categorical columns\n",
    "categorical_cols = ['store_nbr', 'family','cluster','city', 'state', 'type_x', 'type_y', ]\n",
    "\n",
    "# Show unique values for each\n",
    "for col in categorical_cols:\n",
    "    if col in final_df.columns:\n",
    "        print(f\"\\n--- {col} ({final_df[col].nunique()} unique values) ---\")\n",
    "        print(final_df[col].unique())\n"
   ],
   "id": "fbba5150067d0790",
   "outputs": [
    {
     "name": "stdout",
     "output_type": "stream",
     "text": [
      "\n",
      "--- store_nbr (54 unique values) ---\n",
      "[ 1  2  3  4  5  6  7  8  9 10 11 12 13 14 15 16 17 18 19 20 21 22 23 24\n",
      " 25 26 27 28 29 30 31 32 33 34 35 36 37 38 39 40 41 42 43 44 45 46 47 48\n",
      " 49 50 51 52 53 54]\n",
      "\n",
      "--- family (33 unique values) ---\n",
      "[ 0  1  2  3  4  5  6  7  8  9 10 11 12 13 14 15 16 17 18 19 20 21 22 23\n",
      " 24 25 26 27 28 29 30 31 32]\n",
      "\n",
      "--- cluster (17 unique values) ---\n",
      "[13  8  9  4  6 15  7  3 12 16  1 10  2  5 11 14 17]\n",
      "\n",
      "--- city (22 unique values) ---\n",
      "['Quito' 'Santo Domingo' 'Cayambe' 'Latacunga' 'Riobamba' 'Ibarra'\n",
      " 'Guaranda' 'Puyo' 'Ambato' 'Guayaquil' 'Salinas' 'Daule' 'Babahoyo'\n",
      " 'Quevedo' 'Playas' 'Libertad' 'Cuenca' 'Loja' 'Machala' 'Esmeraldas'\n",
      " 'Manta' 'El Carmen']\n",
      "\n",
      "--- state (16 unique values) ---\n",
      "['Pichincha' 'Santo Domingo de los Tsachilas' 'Cotopaxi' 'Chimborazo'\n",
      " 'Imbabura' 'Bolivar' 'Pastaza' 'Tungurahua' 'Guayas' 'Santa Elena'\n",
      " 'Los Rios' 'Azuay' 'Loja' 'El Oro' 'Esmeraldas' 'Manabi']\n",
      "\n",
      "--- type_x (5 unique values) ---\n",
      "['D' 'B' 'C' 'E' 'A']\n",
      "\n",
      "--- type_y (6 unique values) ---\n",
      "['Holiday' nan 'Work Day' 'Additional' 'Event' 'Transfer' 'Bridge']\n"
     ]
    }
   ],
   "execution_count": 61
  },
  {
   "metadata": {
    "ExecuteTime": {
     "end_time": "2025-04-17T05:58:55.809296Z",
     "start_time": "2025-04-17T05:58:54.903184Z"
    }
   },
   "cell_type": "code",
   "source": [
    "# List of categorical columns\n",
    "categorical_cols = ['store_nbr', 'family', 'cluster', 'city', 'state', 'type_x', 'type_y']\n",
    "\n",
    "# Perform one-hot encoding on the categorical columns\n",
    "final_df_encoded = pd.get_dummies(final_df, columns=categorical_cols, drop_first=True)\n",
    "\n",
    "# View the resulting dataframe after one-hot encoding\n",
    "print(final_df_encoded.head())\n"
   ],
   "id": "20aff8511f21c0e8",
   "outputs": [
    {
     "name": "stdout",
     "output_type": "stream",
     "text": [
      "   id       date  sales  onpromotion  transactions  dcoilwtico  is_holiday  \\\n",
      "0   0 2013-01-01    0.0            0           NaN   67.714366           1   \n",
      "1   1 2013-01-01    0.0            0           NaN   67.714366           1   \n",
      "2   2 2013-01-01    0.0            0           NaN   67.714366           1   \n",
      "3   3 2013-01-01    0.0            0           NaN   67.714366           1   \n",
      "4   4 2013-01-01    0.0            0           NaN   67.714366           1   \n",
      "\n",
      "   day_of_week  is_weekend  month  ...  state_Tungurahua  type_x_B  type_x_C  \\\n",
      "0            1           0      1  ...             False     False     False   \n",
      "1            1           0      1  ...             False     False     False   \n",
      "2            1           0      1  ...             False     False     False   \n",
      "3            1           0      1  ...             False     False     False   \n",
      "4            1           0      1  ...             False     False     False   \n",
      "\n",
      "   type_x_D  type_x_E  type_y_Bridge  type_y_Event  type_y_Holiday  \\\n",
      "0      True     False          False         False            True   \n",
      "1      True     False          False         False            True   \n",
      "2      True     False          False         False            True   \n",
      "3      True     False          False         False            True   \n",
      "4      True     False          False         False            True   \n",
      "\n",
      "   type_y_Transfer  type_y_Work Day  \n",
      "0            False            False  \n",
      "1            False            False  \n",
      "2            False            False  \n",
      "3            False            False  \n",
      "4            False            False  \n",
      "\n",
      "[5 rows x 159 columns]\n"
     ]
    }
   ],
   "execution_count": 62
  },
  {
   "metadata": {
    "ExecuteTime": {
     "end_time": "2025-04-17T05:58:55.841895Z",
     "start_time": "2025-04-17T05:58:55.837425Z"
    }
   },
   "cell_type": "code",
   "source": "final_df_encoded.info()\n",
   "id": "45c6559e72792e7d",
   "outputs": [
    {
     "name": "stdout",
     "output_type": "stream",
     "text": [
      "<class 'pandas.core.frame.DataFrame'>\n",
      "RangeIndex: 3054348 entries, 0 to 3054347\n",
      "Columns: 159 entries, id to type_y_Work Day\n",
      "dtypes: bool(146), datetime64[ns](1), float64(5), int32(3), int64(4)\n",
      "memory usage: 693.3 MB\n"
     ]
    }
   ],
   "execution_count": 63
  },
  {
   "metadata": {
    "ExecuteTime": {
     "end_time": "2025-04-17T05:58:55.849505Z",
     "start_time": "2025-04-17T05:58:55.846188Z"
    }
   },
   "cell_type": "code",
   "source": [
    "pd.set_option('display.max_columns', None)\n",
    "final_df_encoded.info()"
   ],
   "id": "1c57bb0b2dc172a5",
   "outputs": [
    {
     "name": "stdout",
     "output_type": "stream",
     "text": [
      "<class 'pandas.core.frame.DataFrame'>\n",
      "RangeIndex: 3054348 entries, 0 to 3054347\n",
      "Columns: 159 entries, id to type_y_Work Day\n",
      "dtypes: bool(146), datetime64[ns](1), float64(5), int32(3), int64(4)\n",
      "memory usage: 693.3 MB\n"
     ]
    }
   ],
   "execution_count": 64
  },
  {
   "metadata": {
    "ExecuteTime": {
     "end_time": "2025-04-17T05:58:55.895556Z",
     "start_time": "2025-04-17T05:58:55.871636Z"
    }
   },
   "cell_type": "code",
   "source": "final_df_encoded.info",
   "id": "845eecaf0e3f9a15",
   "outputs": [
    {
     "data": {
      "text/plain": [
       "<bound method DataFrame.info of               id       date    sales  onpromotion  transactions  dcoilwtico  \\\n",
       "0              0 2013-01-01    0.000            0           NaN   67.714366   \n",
       "1              1 2013-01-01    0.000            0           NaN   67.714366   \n",
       "2              2 2013-01-01    0.000            0           NaN   67.714366   \n",
       "3              3 2013-01-01    0.000            0           NaN   67.714366   \n",
       "4              4 2013-01-01    0.000            0           NaN   67.714366   \n",
       "...          ...        ...      ...          ...           ...         ...   \n",
       "3054343  3000751 2017-08-15   59.619            0         802.0   47.570000   \n",
       "3054344  3000752 2017-08-15   94.000            0         802.0   47.570000   \n",
       "3054345  3000753 2017-08-15  915.371           76         802.0   47.570000   \n",
       "3054346  3000754 2017-08-15    0.000            0         802.0   47.570000   \n",
       "3054347  3000755 2017-08-15    3.000            0         802.0   47.570000   \n",
       "\n",
       "         is_holiday  day_of_week  is_weekend  month  week_of_year  \\\n",
       "0                 1            1           0      1             1   \n",
       "1                 1            1           0      1             1   \n",
       "2                 1            1           0      1             1   \n",
       "3                 1            1           0      1             1   \n",
       "4                 1            1           0      1             1   \n",
       "...             ...          ...         ...    ...           ...   \n",
       "3054343           0            1           0      8            33   \n",
       "3054344           0            1           0      8            33   \n",
       "3054345           0            1           0      8            33   \n",
       "3054346           0            1           0      8            33   \n",
       "3054347           0            1           0      8            33   \n",
       "\n",
       "         days_until_holiday  days_past_last_holiday  store_nbr_2  store_nbr_3  \\\n",
       "0                       4.0                    10.0        False        False   \n",
       "1                       4.0                    10.0        False        False   \n",
       "2                       4.0                    10.0        False        False   \n",
       "3                       4.0                    10.0        False        False   \n",
       "4                       4.0                    10.0        False        False   \n",
       "...                     ...                     ...          ...          ...   \n",
       "3054343                23.0                     4.0        False        False   \n",
       "3054344                23.0                     4.0        False        False   \n",
       "3054345                23.0                     4.0        False        False   \n",
       "3054346                23.0                     4.0        False        False   \n",
       "3054347                23.0                     4.0        False        False   \n",
       "\n",
       "         store_nbr_4  store_nbr_5  store_nbr_6  store_nbr_7  store_nbr_8  \\\n",
       "0              False        False        False        False        False   \n",
       "1              False        False        False        False        False   \n",
       "2              False        False        False        False        False   \n",
       "3              False        False        False        False        False   \n",
       "4              False        False        False        False        False   \n",
       "...              ...          ...          ...          ...          ...   \n",
       "3054343        False        False        False        False        False   \n",
       "3054344        False        False        False        False        False   \n",
       "3054345        False        False        False        False        False   \n",
       "3054346        False        False        False        False        False   \n",
       "3054347        False        False        False        False        False   \n",
       "\n",
       "         store_nbr_9  store_nbr_10  store_nbr_11  store_nbr_12  store_nbr_13  \\\n",
       "0              False         False         False         False         False   \n",
       "1              False         False         False         False         False   \n",
       "2              False         False         False         False         False   \n",
       "3              False         False         False         False         False   \n",
       "4              False         False         False         False         False   \n",
       "...              ...           ...           ...           ...           ...   \n",
       "3054343        False         False         False         False         False   \n",
       "3054344        False         False         False         False         False   \n",
       "3054345        False         False         False         False         False   \n",
       "3054346        False         False         False         False         False   \n",
       "3054347        False         False         False         False         False   \n",
       "\n",
       "         store_nbr_14  store_nbr_15  store_nbr_16  store_nbr_17  store_nbr_18  \\\n",
       "0               False         False         False         False         False   \n",
       "1               False         False         False         False         False   \n",
       "2               False         False         False         False         False   \n",
       "3               False         False         False         False         False   \n",
       "4               False         False         False         False         False   \n",
       "...               ...           ...           ...           ...           ...   \n",
       "3054343         False         False         False         False         False   \n",
       "3054344         False         False         False         False         False   \n",
       "3054345         False         False         False         False         False   \n",
       "3054346         False         False         False         False         False   \n",
       "3054347         False         False         False         False         False   \n",
       "\n",
       "         store_nbr_19  store_nbr_20  store_nbr_21  store_nbr_22  store_nbr_23  \\\n",
       "0               False         False         False         False         False   \n",
       "1               False         False         False         False         False   \n",
       "2               False         False         False         False         False   \n",
       "3               False         False         False         False         False   \n",
       "4               False         False         False         False         False   \n",
       "...               ...           ...           ...           ...           ...   \n",
       "3054343         False         False         False         False         False   \n",
       "3054344         False         False         False         False         False   \n",
       "3054345         False         False         False         False         False   \n",
       "3054346         False         False         False         False         False   \n",
       "3054347         False         False         False         False         False   \n",
       "\n",
       "         store_nbr_24  store_nbr_25  store_nbr_26  store_nbr_27  store_nbr_28  \\\n",
       "0               False         False         False         False         False   \n",
       "1               False         False         False         False         False   \n",
       "2               False         False         False         False         False   \n",
       "3               False         False         False         False         False   \n",
       "4               False         False         False         False         False   \n",
       "...               ...           ...           ...           ...           ...   \n",
       "3054343         False         False         False         False         False   \n",
       "3054344         False         False         False         False         False   \n",
       "3054345         False         False         False         False         False   \n",
       "3054346         False         False         False         False         False   \n",
       "3054347         False         False         False         False         False   \n",
       "\n",
       "         store_nbr_29  store_nbr_30  store_nbr_31  store_nbr_32  store_nbr_33  \\\n",
       "0               False         False         False         False         False   \n",
       "1               False         False         False         False         False   \n",
       "2               False         False         False         False         False   \n",
       "3               False         False         False         False         False   \n",
       "4               False         False         False         False         False   \n",
       "...               ...           ...           ...           ...           ...   \n",
       "3054343         False         False         False         False         False   \n",
       "3054344         False         False         False         False         False   \n",
       "3054345         False         False         False         False         False   \n",
       "3054346         False         False         False         False         False   \n",
       "3054347         False         False         False         False         False   \n",
       "\n",
       "         store_nbr_34  store_nbr_35  store_nbr_36  store_nbr_37  store_nbr_38  \\\n",
       "0               False         False         False         False         False   \n",
       "1               False         False         False         False         False   \n",
       "2               False         False         False         False         False   \n",
       "3               False         False         False         False         False   \n",
       "4               False         False         False         False         False   \n",
       "...               ...           ...           ...           ...           ...   \n",
       "3054343         False         False         False         False         False   \n",
       "3054344         False         False         False         False         False   \n",
       "3054345         False         False         False         False         False   \n",
       "3054346         False         False         False         False         False   \n",
       "3054347         False         False         False         False         False   \n",
       "\n",
       "         store_nbr_39  store_nbr_40  store_nbr_41  store_nbr_42  store_nbr_43  \\\n",
       "0               False         False         False         False         False   \n",
       "1               False         False         False         False         False   \n",
       "2               False         False         False         False         False   \n",
       "3               False         False         False         False         False   \n",
       "4               False         False         False         False         False   \n",
       "...               ...           ...           ...           ...           ...   \n",
       "3054343         False         False         False         False         False   \n",
       "3054344         False         False         False         False         False   \n",
       "3054345         False         False         False         False         False   \n",
       "3054346         False         False         False         False         False   \n",
       "3054347         False         False         False         False         False   \n",
       "\n",
       "         store_nbr_44  store_nbr_45  store_nbr_46  store_nbr_47  store_nbr_48  \\\n",
       "0               False         False         False         False         False   \n",
       "1               False         False         False         False         False   \n",
       "2               False         False         False         False         False   \n",
       "3               False         False         False         False         False   \n",
       "4               False         False         False         False         False   \n",
       "...               ...           ...           ...           ...           ...   \n",
       "3054343         False         False         False         False         False   \n",
       "3054344         False         False         False         False         False   \n",
       "3054345         False         False         False         False         False   \n",
       "3054346         False         False         False         False         False   \n",
       "3054347         False         False         False         False         False   \n",
       "\n",
       "         store_nbr_49  store_nbr_50  store_nbr_51  store_nbr_52  store_nbr_53  \\\n",
       "0               False         False         False         False         False   \n",
       "1               False         False         False         False         False   \n",
       "2               False         False         False         False         False   \n",
       "3               False         False         False         False         False   \n",
       "4               False         False         False         False         False   \n",
       "...               ...           ...           ...           ...           ...   \n",
       "3054343         False         False         False         False         False   \n",
       "3054344         False         False         False         False         False   \n",
       "3054345         False         False         False         False         False   \n",
       "3054346         False         False         False         False         False   \n",
       "3054347         False         False         False         False         False   \n",
       "\n",
       "         store_nbr_54  family_1  family_2  family_3  family_4  family_5  \\\n",
       "0               False     False     False     False     False     False   \n",
       "1               False      True     False     False     False     False   \n",
       "2               False     False      True     False     False     False   \n",
       "3               False     False     False      True     False     False   \n",
       "4               False     False     False     False      True     False   \n",
       "...               ...       ...       ...       ...       ...       ...   \n",
       "3054343          True     False     False     False     False     False   \n",
       "3054344          True     False     False     False     False     False   \n",
       "3054345          True     False     False     False     False     False   \n",
       "3054346          True     False     False     False     False     False   \n",
       "3054347          True     False     False     False     False     False   \n",
       "\n",
       "         family_6  family_7  family_8  family_9  family_10  family_11  \\\n",
       "0           False     False     False     False      False      False   \n",
       "1           False     False     False     False      False      False   \n",
       "2           False     False     False     False      False      False   \n",
       "3           False     False     False     False      False      False   \n",
       "4           False     False     False     False      False      False   \n",
       "...           ...       ...       ...       ...        ...        ...   \n",
       "3054343     False     False     False     False      False      False   \n",
       "3054344     False     False     False     False      False      False   \n",
       "3054345     False     False     False     False      False      False   \n",
       "3054346     False     False     False     False      False      False   \n",
       "3054347     False     False     False     False      False      False   \n",
       "\n",
       "         family_12  family_13  family_14  family_15  family_16  family_17  \\\n",
       "0            False      False      False      False      False      False   \n",
       "1            False      False      False      False      False      False   \n",
       "2            False      False      False      False      False      False   \n",
       "3            False      False      False      False      False      False   \n",
       "4            False      False      False      False      False      False   \n",
       "...            ...        ...        ...        ...        ...        ...   \n",
       "3054343      False      False      False      False      False      False   \n",
       "3054344      False      False      False      False      False      False   \n",
       "3054345      False      False      False      False      False      False   \n",
       "3054346      False      False      False      False      False      False   \n",
       "3054347      False      False      False      False      False      False   \n",
       "\n",
       "         family_18  family_19  family_20  family_21  family_22  family_23  \\\n",
       "0            False      False      False      False      False      False   \n",
       "1            False      False      False      False      False      False   \n",
       "2            False      False      False      False      False      False   \n",
       "3            False      False      False      False      False      False   \n",
       "4            False      False      False      False      False      False   \n",
       "...            ...        ...        ...        ...        ...        ...   \n",
       "3054343      False      False      False      False      False      False   \n",
       "3054344      False      False      False      False      False      False   \n",
       "3054345      False      False      False      False      False      False   \n",
       "3054346      False      False      False      False      False      False   \n",
       "3054347      False      False      False      False      False      False   \n",
       "\n",
       "         family_24  family_25  family_26  family_27  family_28  family_29  \\\n",
       "0            False      False      False      False      False      False   \n",
       "1            False      False      False      False      False      False   \n",
       "2            False      False      False      False      False      False   \n",
       "3            False      False      False      False      False      False   \n",
       "4            False      False      False      False      False      False   \n",
       "...            ...        ...        ...        ...        ...        ...   \n",
       "3054343      False      False      False      False       True      False   \n",
       "3054344      False      False      False      False      False       True   \n",
       "3054345      False      False      False      False      False      False   \n",
       "3054346      False      False      False      False      False      False   \n",
       "3054347      False      False      False      False      False      False   \n",
       "\n",
       "         family_30  family_31  family_32  cluster_2  cluster_3  cluster_4  \\\n",
       "0            False      False      False      False      False      False   \n",
       "1            False      False      False      False      False      False   \n",
       "2            False      False      False      False      False      False   \n",
       "3            False      False      False      False      False      False   \n",
       "4            False      False      False      False      False      False   \n",
       "...            ...        ...        ...        ...        ...        ...   \n",
       "3054343      False      False      False      False       True      False   \n",
       "3054344      False      False      False      False       True      False   \n",
       "3054345       True      False      False      False       True      False   \n",
       "3054346      False       True      False      False       True      False   \n",
       "3054347      False      False       True      False       True      False   \n",
       "\n",
       "         cluster_5  cluster_6  cluster_7  cluster_8  cluster_9  cluster_10  \\\n",
       "0            False      False      False      False      False       False   \n",
       "1            False      False      False      False      False       False   \n",
       "2            False      False      False      False      False       False   \n",
       "3            False      False      False      False      False       False   \n",
       "4            False      False      False      False      False       False   \n",
       "...            ...        ...        ...        ...        ...         ...   \n",
       "3054343      False      False      False      False      False       False   \n",
       "3054344      False      False      False      False      False       False   \n",
       "3054345      False      False      False      False      False       False   \n",
       "3054346      False      False      False      False      False       False   \n",
       "3054347      False      False      False      False      False       False   \n",
       "\n",
       "         cluster_11  cluster_12  cluster_13  cluster_14  cluster_15  \\\n",
       "0             False       False        True       False       False   \n",
       "1             False       False        True       False       False   \n",
       "2             False       False        True       False       False   \n",
       "3             False       False        True       False       False   \n",
       "4             False       False        True       False       False   \n",
       "...             ...         ...         ...         ...         ...   \n",
       "3054343       False       False       False       False       False   \n",
       "3054344       False       False       False       False       False   \n",
       "3054345       False       False       False       False       False   \n",
       "3054346       False       False       False       False       False   \n",
       "3054347       False       False       False       False       False   \n",
       "\n",
       "         cluster_16  cluster_17  city_Babahoyo  city_Cayambe  city_Cuenca  \\\n",
       "0             False       False          False         False        False   \n",
       "1             False       False          False         False        False   \n",
       "2             False       False          False         False        False   \n",
       "3             False       False          False         False        False   \n",
       "4             False       False          False         False        False   \n",
       "...             ...         ...            ...           ...          ...   \n",
       "3054343       False       False          False         False        False   \n",
       "3054344       False       False          False         False        False   \n",
       "3054345       False       False          False         False        False   \n",
       "3054346       False       False          False         False        False   \n",
       "3054347       False       False          False         False        False   \n",
       "\n",
       "         city_Daule  city_El Carmen  city_Esmeraldas  city_Guaranda  \\\n",
       "0             False           False            False          False   \n",
       "1             False           False            False          False   \n",
       "2             False           False            False          False   \n",
       "3             False           False            False          False   \n",
       "4             False           False            False          False   \n",
       "...             ...             ...              ...            ...   \n",
       "3054343       False            True            False          False   \n",
       "3054344       False            True            False          False   \n",
       "3054345       False            True            False          False   \n",
       "3054346       False            True            False          False   \n",
       "3054347       False            True            False          False   \n",
       "\n",
       "         city_Guayaquil  city_Ibarra  city_Latacunga  city_Libertad  \\\n",
       "0                 False        False           False          False   \n",
       "1                 False        False           False          False   \n",
       "2                 False        False           False          False   \n",
       "3                 False        False           False          False   \n",
       "4                 False        False           False          False   \n",
       "...                 ...          ...             ...            ...   \n",
       "3054343           False        False           False          False   \n",
       "3054344           False        False           False          False   \n",
       "3054345           False        False           False          False   \n",
       "3054346           False        False           False          False   \n",
       "3054347           False        False           False          False   \n",
       "\n",
       "         city_Loja  city_Machala  city_Manta  city_Playas  city_Puyo  \\\n",
       "0            False         False       False        False      False   \n",
       "1            False         False       False        False      False   \n",
       "2            False         False       False        False      False   \n",
       "3            False         False       False        False      False   \n",
       "4            False         False       False        False      False   \n",
       "...            ...           ...         ...          ...        ...   \n",
       "3054343      False         False       False        False      False   \n",
       "3054344      False         False       False        False      False   \n",
       "3054345      False         False       False        False      False   \n",
       "3054346      False         False       False        False      False   \n",
       "3054347      False         False       False        False      False   \n",
       "\n",
       "         city_Quevedo  city_Quito  city_Riobamba  city_Salinas  \\\n",
       "0               False        True          False         False   \n",
       "1               False        True          False         False   \n",
       "2               False        True          False         False   \n",
       "3               False        True          False         False   \n",
       "4               False        True          False         False   \n",
       "...               ...         ...            ...           ...   \n",
       "3054343         False       False          False         False   \n",
       "3054344         False       False          False         False   \n",
       "3054345         False       False          False         False   \n",
       "3054346         False       False          False         False   \n",
       "3054347         False       False          False         False   \n",
       "\n",
       "         city_Santo Domingo  state_Bolivar  state_Chimborazo  state_Cotopaxi  \\\n",
       "0                     False          False             False           False   \n",
       "1                     False          False             False           False   \n",
       "2                     False          False             False           False   \n",
       "3                     False          False             False           False   \n",
       "4                     False          False             False           False   \n",
       "...                     ...            ...               ...             ...   \n",
       "3054343               False          False             False           False   \n",
       "3054344               False          False             False           False   \n",
       "3054345               False          False             False           False   \n",
       "3054346               False          False             False           False   \n",
       "3054347               False          False             False           False   \n",
       "\n",
       "         state_El Oro  state_Esmeraldas  state_Guayas  state_Imbabura  \\\n",
       "0               False             False         False           False   \n",
       "1               False             False         False           False   \n",
       "2               False             False         False           False   \n",
       "3               False             False         False           False   \n",
       "4               False             False         False           False   \n",
       "...               ...               ...           ...             ...   \n",
       "3054343         False             False         False           False   \n",
       "3054344         False             False         False           False   \n",
       "3054345         False             False         False           False   \n",
       "3054346         False             False         False           False   \n",
       "3054347         False             False         False           False   \n",
       "\n",
       "         state_Loja  state_Los Rios  state_Manabi  state_Pastaza  \\\n",
       "0             False           False         False          False   \n",
       "1             False           False         False          False   \n",
       "2             False           False         False          False   \n",
       "3             False           False         False          False   \n",
       "4             False           False         False          False   \n",
       "...             ...             ...           ...            ...   \n",
       "3054343       False           False          True          False   \n",
       "3054344       False           False          True          False   \n",
       "3054345       False           False          True          False   \n",
       "3054346       False           False          True          False   \n",
       "3054347       False           False          True          False   \n",
       "\n",
       "         state_Pichincha  state_Santa Elena  \\\n",
       "0                   True              False   \n",
       "1                   True              False   \n",
       "2                   True              False   \n",
       "3                   True              False   \n",
       "4                   True              False   \n",
       "...                  ...                ...   \n",
       "3054343            False              False   \n",
       "3054344            False              False   \n",
       "3054345            False              False   \n",
       "3054346            False              False   \n",
       "3054347            False              False   \n",
       "\n",
       "         state_Santo Domingo de los Tsachilas  state_Tungurahua  type_x_B  \\\n",
       "0                                       False             False     False   \n",
       "1                                       False             False     False   \n",
       "2                                       False             False     False   \n",
       "3                                       False             False     False   \n",
       "4                                       False             False     False   \n",
       "...                                       ...               ...       ...   \n",
       "3054343                                 False             False     False   \n",
       "3054344                                 False             False     False   \n",
       "3054345                                 False             False     False   \n",
       "3054346                                 False             False     False   \n",
       "3054347                                 False             False     False   \n",
       "\n",
       "         type_x_C  type_x_D  type_x_E  type_y_Bridge  type_y_Event  \\\n",
       "0           False      True     False          False         False   \n",
       "1           False      True     False          False         False   \n",
       "2           False      True     False          False         False   \n",
       "3           False      True     False          False         False   \n",
       "4           False      True     False          False         False   \n",
       "...           ...       ...       ...            ...           ...   \n",
       "3054343      True     False     False          False         False   \n",
       "3054344      True     False     False          False         False   \n",
       "3054345      True     False     False          False         False   \n",
       "3054346      True     False     False          False         False   \n",
       "3054347      True     False     False          False         False   \n",
       "\n",
       "         type_y_Holiday  type_y_Transfer  type_y_Work Day  \n",
       "0                  True            False            False  \n",
       "1                  True            False            False  \n",
       "2                  True            False            False  \n",
       "3                  True            False            False  \n",
       "4                  True            False            False  \n",
       "...                 ...              ...              ...  \n",
       "3054343            True            False            False  \n",
       "3054344            True            False            False  \n",
       "3054345            True            False            False  \n",
       "3054346            True            False            False  \n",
       "3054347            True            False            False  \n",
       "\n",
       "[3054348 rows x 159 columns]>"
      ]
     },
     "execution_count": 65,
     "metadata": {},
     "output_type": "execute_result"
    }
   ],
   "execution_count": 65
  },
  {
   "metadata": {
    "ExecuteTime": {
     "end_time": "2025-04-17T05:58:55.917476Z",
     "start_time": "2025-04-17T05:58:55.916094Z"
    }
   },
   "cell_type": "code",
   "source": "\n",
   "id": "2159d365bfa50a05",
   "outputs": [],
   "execution_count": 65
  },
  {
   "metadata": {
    "ExecuteTime": {
     "end_time": "2025-04-17T05:58:58.999086Z",
     "start_time": "2025-04-17T05:58:55.938307Z"
    }
   },
   "cell_type": "code",
   "source": [
    "final_df_encoded[final_df_encoded.select_dtypes(include='bool').columns] = final_df_encoded.select_dtypes(include='bool').astype('int64')\n",
    "final_df_encoded[final_df_encoded.select_dtypes(include='int32').columns] = final_df_encoded.select_dtypes(include='int32').astype('int64')\n"
   ],
   "id": "ed81d7300e4f0ca2",
   "outputs": [],
   "execution_count": 66
  },
  {
   "metadata": {
    "ExecuteTime": {
     "end_time": "2025-04-17T05:58:59.035017Z",
     "start_time": "2025-04-17T05:58:59.027031Z"
    }
   },
   "cell_type": "code",
   "source": "final_df_encoded.info()",
   "id": "7d8cdec82273f494",
   "outputs": [
    {
     "name": "stdout",
     "output_type": "stream",
     "text": [
      "<class 'pandas.core.frame.DataFrame'>\n",
      "RangeIndex: 3054348 entries, 0 to 3054347\n",
      "Columns: 159 entries, id to type_y_Work Day\n",
      "dtypes: datetime64[ns](1), float64(5), int64(153)\n",
      "memory usage: 3.6 GB\n"
     ]
    }
   ],
   "execution_count": 67
  },
  {
   "metadata": {
    "ExecuteTime": {
     "end_time": "2025-04-17T05:58:59.060755Z",
     "start_time": "2025-04-17T05:58:59.058957Z"
    }
   },
   "cell_type": "code",
   "source": "#final_df_encoded.drop(columns=['days_past_last_holiday'], inplace=True)",
   "id": "db066f931a0fd35b",
   "outputs": [],
   "execution_count": 68
  }
 ],
 "metadata": {
  "kernelspec": {
   "display_name": "Python 3",
   "language": "python",
   "name": "python3"
  },
  "language_info": {
   "codemirror_mode": {
    "name": "ipython",
    "version": 2
   },
   "file_extension": ".py",
   "mimetype": "text/x-python",
   "name": "python",
   "nbconvert_exporter": "python",
   "pygments_lexer": "ipython2",
   "version": "2.7.6"
  }
 },
 "nbformat": 4,
 "nbformat_minor": 5
}
